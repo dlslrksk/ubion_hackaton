{
 "cells": [
  {
   "cell_type": "code",
   "execution_count": 1,
   "metadata": {},
   "outputs": [],
   "source": [
    "import FinanceDataReader as fdr\n",
    "import pandas as pd\n",
    "import numpy as np"
   ]
  },
  {
   "cell_type": "code",
   "execution_count": 2,
   "metadata": {},
   "outputs": [],
   "source": [
    "def preprocess_(path,  slice, column_, encoding=None, header='infer'):\n",
    "\n",
    "    df = pd.read_csv(path, encoding=encoding, header=header)\n",
    "    \n",
    "    if slice:\n",
    "        df = df[slice]\n",
    "\n",
    "    df.columns = column_\n",
    "\n",
    "    if (type(df.iloc[:,1][1])==str):\n",
    "        df.iloc[:,1] = df.iloc[:,1].apply(lambda x: float(x.replace(',', '')))\n",
    "        \n",
    "    df['Date'] = df['Date'].str.replace('[^0-9]', '')\n",
    "    df['Date'] = df['Date'].apply(lambda x: x[:4]+'-'+x[4:6]+'-'+x[6:])\n",
    "    df['Date'] = pd.to_datetime(df['Date'])\n",
    "\n",
    "    df.sort_values('Date', inplace=True)\n",
    "    df.reset_index(inplace=True)\n",
    "    df.drop(['index'], axis=1, inplace=True)\n",
    "\n",
    "    return df"
   ]
  },
  {
   "cell_type": "code",
   "execution_count": 10,
   "metadata": {},
   "outputs": [
    {
     "ename": "JSONDecodeError",
     "evalue": "Expecting value: line 1 column 1 (char 0)",
     "output_type": "error",
     "traceback": [
      "\u001b[1;31m---------------------------------------------------------------------------\u001b[0m",
      "\u001b[1;31mJSONDecodeError\u001b[0m                           Traceback (most recent call last)",
      "\u001b[1;32md:\\ubion\\Project_mini_re\\LinearRegression.ipynb Cell 3'\u001b[0m in \u001b[0;36m<module>\u001b[1;34m\u001b[0m\n\u001b[0;32m      <a href='vscode-notebook-cell:/d%3A/ubion/Project_mini_re/LinearRegression.ipynb#ch0000002?line=0'>1</a>\u001b[0m \u001b[39mimport\u001b[39;00m \u001b[39mFinanceDataReader\u001b[39;00m \u001b[39mas\u001b[39;00m \u001b[39mfdr\u001b[39;00m\n\u001b[1;32m----> <a href='vscode-notebook-cell:/d%3A/ubion/Project_mini_re/LinearRegression.ipynb#ch0000002?line=1'>2</a>\u001b[0m df \u001b[39m=\u001b[39m fdr\u001b[39m.\u001b[39;49mDataReader(symbol\u001b[39m=\u001b[39;49m\u001b[39m'\u001b[39;49m\u001b[39mKS200\u001b[39;49m\u001b[39m'\u001b[39;49m, start\u001b[39m=\u001b[39;49m\u001b[39m'\u001b[39;49m\u001b[39m2020\u001b[39;49m\u001b[39m'\u001b[39;49m) \u001b[39m# 삼성전자, 2020년~현재\u001b[39;00m\n\u001b[0;32m      <a href='vscode-notebook-cell:/d%3A/ubion/Project_mini_re/LinearRegression.ipynb#ch0000002?line=2'>3</a>\u001b[0m df\n",
      "File \u001b[1;32mD:\\Python310\\lib\\site-packages\\FinanceDataReader\\data.py:41\u001b[0m, in \u001b[0;36mDataReader\u001b[1;34m(symbol, start, end, exchange, data_source)\u001b[0m\n\u001b[0;32m     <a href='file:///d%3A/Python310/lib/site-packages/FinanceDataReader/data.py?line=38'>39</a>\u001b[0m \u001b[39m# Investing\u001b[39;00m\n\u001b[0;32m     <a href='file:///d%3A/Python310/lib/site-packages/FinanceDataReader/data.py?line=39'>40</a>\u001b[0m reader \u001b[39m=\u001b[39m InvestingDailyReader\n\u001b[1;32m---> <a href='file:///d%3A/Python310/lib/site-packages/FinanceDataReader/data.py?line=40'>41</a>\u001b[0m df \u001b[39m=\u001b[39m reader(symbol, start, end, exchange, data_source)\u001b[39m.\u001b[39;49mread()\n\u001b[0;32m     <a href='file:///d%3A/Python310/lib/site-packages/FinanceDataReader/data.py?line=41'>42</a>\u001b[0m end \u001b[39m=\u001b[39m \u001b[39mmin\u001b[39m([pd\u001b[39m.\u001b[39mto_datetime(end), datetime\u001b[39m.\u001b[39mtoday()])\n\u001b[0;32m     <a href='file:///d%3A/Python310/lib/site-packages/FinanceDataReader/data.py?line=42'>43</a>\u001b[0m \u001b[39mwhile\u001b[39;00m \u001b[39mlen\u001b[39m(df) \u001b[39mand\u001b[39;00m df\u001b[39m.\u001b[39mindex[\u001b[39m-\u001b[39m\u001b[39m1\u001b[39m] \u001b[39m<\u001b[39m end: \u001b[39m# issues/30\u001b[39;00m\n",
      "File \u001b[1;32mD:\\Python310\\lib\\site-packages\\FinanceDataReader\\investing\\data.py:62\u001b[0m, in \u001b[0;36mInvestingDailyReader.read\u001b[1;34m(self)\u001b[0m\n\u001b[0;32m     <a href='file:///d%3A/Python310/lib/site-packages/FinanceDataReader/investing/data.py?line=59'>60</a>\u001b[0m start_date_str \u001b[39m=\u001b[39m \u001b[39mself\u001b[39m\u001b[39m.\u001b[39mstart\u001b[39m.\u001b[39mstrftime(\u001b[39m'\u001b[39m\u001b[39m%\u001b[39m\u001b[39mm/\u001b[39m\u001b[39m%d\u001b[39;00m\u001b[39m/\u001b[39m\u001b[39m%\u001b[39m\u001b[39mY\u001b[39m\u001b[39m'\u001b[39m)\n\u001b[0;32m     <a href='file:///d%3A/Python310/lib/site-packages/FinanceDataReader/investing/data.py?line=60'>61</a>\u001b[0m end_date_str \u001b[39m=\u001b[39m \u001b[39mself\u001b[39m\u001b[39m.\u001b[39mend\u001b[39m.\u001b[39mstrftime(\u001b[39m'\u001b[39m\u001b[39m%\u001b[39m\u001b[39mm/\u001b[39m\u001b[39m%d\u001b[39;00m\u001b[39m/\u001b[39m\u001b[39m%\u001b[39m\u001b[39mY\u001b[39m\u001b[39m'\u001b[39m)\n\u001b[1;32m---> <a href='file:///d%3A/Python310/lib/site-packages/FinanceDataReader/investing/data.py?line=61'>62</a>\u001b[0m curr_id \u001b[39m=\u001b[39m \u001b[39mself\u001b[39;49m\u001b[39m.\u001b[39;49m_get_currid_investing(\u001b[39mself\u001b[39;49m\u001b[39m.\u001b[39;49msymbol, \u001b[39mself\u001b[39;49m\u001b[39m.\u001b[39;49mexchange, \u001b[39mself\u001b[39;49m\u001b[39m.\u001b[39;49mdata_source)\n\u001b[0;32m     <a href='file:///d%3A/Python310/lib/site-packages/FinanceDataReader/investing/data.py?line=62'>63</a>\u001b[0m \u001b[39mif\u001b[39;00m \u001b[39mnot\u001b[39;00m curr_id:\n\u001b[0;32m     <a href='file:///d%3A/Python310/lib/site-packages/FinanceDataReader/investing/data.py?line=63'>64</a>\u001b[0m     \u001b[39mraise\u001b[39;00m \u001b[39mValueError\u001b[39;00m(\u001b[39m\"\u001b[39m\u001b[39mSymbol unsupported or not found\u001b[39m\u001b[39m\"\u001b[39m)\n",
      "File \u001b[1;32mD:\\Python310\\lib\\site-packages\\FinanceDataReader\\investing\\data.py:30\u001b[0m, in \u001b[0;36mInvestingDailyReader._get_currid_investing\u001b[1;34m(self, symbol, exchange, data_source)\u001b[0m\n\u001b[0;32m     <a href='file:///d%3A/Python310/lib/site-packages/FinanceDataReader/investing/data.py?line=24'>25</a>\u001b[0m headers \u001b[39m=\u001b[39m {\n\u001b[0;32m     <a href='file:///d%3A/Python310/lib/site-packages/FinanceDataReader/investing/data.py?line=25'>26</a>\u001b[0m     \u001b[39m'\u001b[39m\u001b[39mUser-Agent\u001b[39m\u001b[39m'\u001b[39m:\u001b[39m'\u001b[39m\u001b[39mMozilla\u001b[39m\u001b[39m'\u001b[39m,\n\u001b[0;32m     <a href='file:///d%3A/Python310/lib/site-packages/FinanceDataReader/investing/data.py?line=26'>27</a>\u001b[0m     \u001b[39m'\u001b[39m\u001b[39mX-Requested-With\u001b[39m\u001b[39m'\u001b[39m:\u001b[39m'\u001b[39m\u001b[39mXMLHttpRequest\u001b[39m\u001b[39m'\u001b[39m,\n\u001b[0;32m     <a href='file:///d%3A/Python310/lib/site-packages/FinanceDataReader/investing/data.py?line=27'>28</a>\u001b[0m }\n\u001b[0;32m     <a href='file:///d%3A/Python310/lib/site-packages/FinanceDataReader/investing/data.py?line=28'>29</a>\u001b[0m r \u001b[39m=\u001b[39m requests\u001b[39m.\u001b[39mpost(url, data\u001b[39m=\u001b[39m{\u001b[39m'\u001b[39m\u001b[39msearch_text\u001b[39m\u001b[39m'\u001b[39m: symbol}, headers\u001b[39m=\u001b[39mheaders)\n\u001b[1;32m---> <a href='file:///d%3A/Python310/lib/site-packages/FinanceDataReader/investing/data.py?line=29'>30</a>\u001b[0m jo \u001b[39m=\u001b[39m json\u001b[39m.\u001b[39;49mloads(r\u001b[39m.\u001b[39;49mtext)\n\u001b[0;32m     <a href='file:///d%3A/Python310/lib/site-packages/FinanceDataReader/investing/data.py?line=30'>31</a>\u001b[0m \u001b[39mif\u001b[39;00m \u001b[39mlen\u001b[39m(jo[\u001b[39m'\u001b[39m\u001b[39mquotes\u001b[39m\u001b[39m'\u001b[39m]) \u001b[39m==\u001b[39m \u001b[39m0\u001b[39m:\n\u001b[0;32m     <a href='file:///d%3A/Python310/lib/site-packages/FinanceDataReader/investing/data.py?line=31'>32</a>\u001b[0m     \u001b[39mraise\u001b[39;00m \u001b[39mValueError\u001b[39;00m(\u001b[39mf\u001b[39m\u001b[39m\"\u001b[39m\u001b[39mSymbol(\u001b[39m\u001b[39m'\u001b[39m\u001b[39m{\u001b[39;00msymbol\u001b[39m}\u001b[39;00m\u001b[39m'\u001b[39m\u001b[39m) not found\u001b[39m\u001b[39m\"\u001b[39m)\n",
      "File \u001b[1;32mD:\\Python310\\lib\\json\\__init__.py:346\u001b[0m, in \u001b[0;36mloads\u001b[1;34m(s, cls, object_hook, parse_float, parse_int, parse_constant, object_pairs_hook, **kw)\u001b[0m\n\u001b[0;32m    <a href='file:///d%3A/Python310/lib/json/__init__.py?line=340'>341</a>\u001b[0m     s \u001b[39m=\u001b[39m s\u001b[39m.\u001b[39mdecode(detect_encoding(s), \u001b[39m'\u001b[39m\u001b[39msurrogatepass\u001b[39m\u001b[39m'\u001b[39m)\n\u001b[0;32m    <a href='file:///d%3A/Python310/lib/json/__init__.py?line=342'>343</a>\u001b[0m \u001b[39mif\u001b[39;00m (\u001b[39mcls\u001b[39m \u001b[39mis\u001b[39;00m \u001b[39mNone\u001b[39;00m \u001b[39mand\u001b[39;00m object_hook \u001b[39mis\u001b[39;00m \u001b[39mNone\u001b[39;00m \u001b[39mand\u001b[39;00m\n\u001b[0;32m    <a href='file:///d%3A/Python310/lib/json/__init__.py?line=343'>344</a>\u001b[0m         parse_int \u001b[39mis\u001b[39;00m \u001b[39mNone\u001b[39;00m \u001b[39mand\u001b[39;00m parse_float \u001b[39mis\u001b[39;00m \u001b[39mNone\u001b[39;00m \u001b[39mand\u001b[39;00m\n\u001b[0;32m    <a href='file:///d%3A/Python310/lib/json/__init__.py?line=344'>345</a>\u001b[0m         parse_constant \u001b[39mis\u001b[39;00m \u001b[39mNone\u001b[39;00m \u001b[39mand\u001b[39;00m object_pairs_hook \u001b[39mis\u001b[39;00m \u001b[39mNone\u001b[39;00m \u001b[39mand\u001b[39;00m \u001b[39mnot\u001b[39;00m kw):\n\u001b[1;32m--> <a href='file:///d%3A/Python310/lib/json/__init__.py?line=345'>346</a>\u001b[0m     \u001b[39mreturn\u001b[39;00m _default_decoder\u001b[39m.\u001b[39;49mdecode(s)\n\u001b[0;32m    <a href='file:///d%3A/Python310/lib/json/__init__.py?line=346'>347</a>\u001b[0m \u001b[39mif\u001b[39;00m \u001b[39mcls\u001b[39m \u001b[39mis\u001b[39;00m \u001b[39mNone\u001b[39;00m:\n\u001b[0;32m    <a href='file:///d%3A/Python310/lib/json/__init__.py?line=347'>348</a>\u001b[0m     \u001b[39mcls\u001b[39m \u001b[39m=\u001b[39m JSONDecoder\n",
      "File \u001b[1;32mD:\\Python310\\lib\\json\\decoder.py:337\u001b[0m, in \u001b[0;36mJSONDecoder.decode\u001b[1;34m(self, s, _w)\u001b[0m\n\u001b[0;32m    <a href='file:///d%3A/Python310/lib/json/decoder.py?line=331'>332</a>\u001b[0m \u001b[39mdef\u001b[39;00m \u001b[39mdecode\u001b[39m(\u001b[39mself\u001b[39m, s, _w\u001b[39m=\u001b[39mWHITESPACE\u001b[39m.\u001b[39mmatch):\n\u001b[0;32m    <a href='file:///d%3A/Python310/lib/json/decoder.py?line=332'>333</a>\u001b[0m     \u001b[39m\"\"\"Return the Python representation of ``s`` (a ``str`` instance\u001b[39;00m\n\u001b[0;32m    <a href='file:///d%3A/Python310/lib/json/decoder.py?line=333'>334</a>\u001b[0m \u001b[39m    containing a JSON document).\u001b[39;00m\n\u001b[0;32m    <a href='file:///d%3A/Python310/lib/json/decoder.py?line=334'>335</a>\u001b[0m \n\u001b[0;32m    <a href='file:///d%3A/Python310/lib/json/decoder.py?line=335'>336</a>\u001b[0m \u001b[39m    \"\"\"\u001b[39;00m\n\u001b[1;32m--> <a href='file:///d%3A/Python310/lib/json/decoder.py?line=336'>337</a>\u001b[0m     obj, end \u001b[39m=\u001b[39m \u001b[39mself\u001b[39;49m\u001b[39m.\u001b[39;49mraw_decode(s, idx\u001b[39m=\u001b[39;49m_w(s, \u001b[39m0\u001b[39;49m)\u001b[39m.\u001b[39;49mend())\n\u001b[0;32m    <a href='file:///d%3A/Python310/lib/json/decoder.py?line=337'>338</a>\u001b[0m     end \u001b[39m=\u001b[39m _w(s, end)\u001b[39m.\u001b[39mend()\n\u001b[0;32m    <a href='file:///d%3A/Python310/lib/json/decoder.py?line=338'>339</a>\u001b[0m     \u001b[39mif\u001b[39;00m end \u001b[39m!=\u001b[39m \u001b[39mlen\u001b[39m(s):\n",
      "File \u001b[1;32mD:\\Python310\\lib\\json\\decoder.py:355\u001b[0m, in \u001b[0;36mJSONDecoder.raw_decode\u001b[1;34m(self, s, idx)\u001b[0m\n\u001b[0;32m    <a href='file:///d%3A/Python310/lib/json/decoder.py?line=352'>353</a>\u001b[0m     obj, end \u001b[39m=\u001b[39m \u001b[39mself\u001b[39m\u001b[39m.\u001b[39mscan_once(s, idx)\n\u001b[0;32m    <a href='file:///d%3A/Python310/lib/json/decoder.py?line=353'>354</a>\u001b[0m \u001b[39mexcept\u001b[39;00m \u001b[39mStopIteration\u001b[39;00m \u001b[39mas\u001b[39;00m err:\n\u001b[1;32m--> <a href='file:///d%3A/Python310/lib/json/decoder.py?line=354'>355</a>\u001b[0m     \u001b[39mraise\u001b[39;00m JSONDecodeError(\u001b[39m\"\u001b[39m\u001b[39mExpecting value\u001b[39m\u001b[39m\"\u001b[39m, s, err\u001b[39m.\u001b[39mvalue) \u001b[39mfrom\u001b[39;00m \u001b[39mNone\u001b[39m\n\u001b[0;32m    <a href='file:///d%3A/Python310/lib/json/decoder.py?line=355'>356</a>\u001b[0m \u001b[39mreturn\u001b[39;00m obj, end\n",
      "\u001b[1;31mJSONDecodeError\u001b[0m: Expecting value: line 1 column 1 (char 0)"
     ]
    }
   ],
   "source": [
    "import FinanceDataReader as fdr\n",
    "df = fdr.DataReader(symbol='KS200', start='2020') # 삼성전자, 2020년~현재\n",
    "df"
   ]
  },
  {
   "cell_type": "code",
   "execution_count": 9,
   "metadata": {},
   "outputs": [
    {
     "ename": "JSONDecodeError",
     "evalue": "Expecting value: line 1 column 1 (char 0)",
     "output_type": "error",
     "traceback": [
      "\u001b[1;31m---------------------------------------------------------------------------\u001b[0m",
      "\u001b[1;31mJSONDecodeError\u001b[0m                           Traceback (most recent call last)",
      "\u001b[1;32md:\\ubion\\Project_mini_re\\LinearRegression.ipynb Cell 4'\u001b[0m in \u001b[0;36m<module>\u001b[1;34m\u001b[0m\n\u001b[1;32m----> <a href='vscode-notebook-cell:/d%3A/ubion/Project_mini_re/LinearRegression.ipynb#ch0000004?line=0'>1</a>\u001b[0m ks11 \u001b[39m=\u001b[39m fdr\u001b[39m.\u001b[39;49mDataReader(\u001b[39m'\u001b[39;49m\u001b[39mKS11\u001b[39;49m\u001b[39m'\u001b[39;49m, \u001b[39m'\u001b[39;49m\u001b[39m2015-01-01\u001b[39;49m\u001b[39m'\u001b[39;49m)\n",
      "File \u001b[1;32mD:\\Python310\\lib\\site-packages\\FinanceDataReader\\data.py:41\u001b[0m, in \u001b[0;36mDataReader\u001b[1;34m(symbol, start, end, exchange, data_source)\u001b[0m\n\u001b[0;32m     <a href='file:///d%3A/Python310/lib/site-packages/FinanceDataReader/data.py?line=38'>39</a>\u001b[0m \u001b[39m# Investing\u001b[39;00m\n\u001b[0;32m     <a href='file:///d%3A/Python310/lib/site-packages/FinanceDataReader/data.py?line=39'>40</a>\u001b[0m reader \u001b[39m=\u001b[39m InvestingDailyReader\n\u001b[1;32m---> <a href='file:///d%3A/Python310/lib/site-packages/FinanceDataReader/data.py?line=40'>41</a>\u001b[0m df \u001b[39m=\u001b[39m reader(symbol, start, end, exchange, data_source)\u001b[39m.\u001b[39;49mread()\n\u001b[0;32m     <a href='file:///d%3A/Python310/lib/site-packages/FinanceDataReader/data.py?line=41'>42</a>\u001b[0m end \u001b[39m=\u001b[39m \u001b[39mmin\u001b[39m([pd\u001b[39m.\u001b[39mto_datetime(end), datetime\u001b[39m.\u001b[39mtoday()])\n\u001b[0;32m     <a href='file:///d%3A/Python310/lib/site-packages/FinanceDataReader/data.py?line=42'>43</a>\u001b[0m \u001b[39mwhile\u001b[39;00m \u001b[39mlen\u001b[39m(df) \u001b[39mand\u001b[39;00m df\u001b[39m.\u001b[39mindex[\u001b[39m-\u001b[39m\u001b[39m1\u001b[39m] \u001b[39m<\u001b[39m end: \u001b[39m# issues/30\u001b[39;00m\n",
      "File \u001b[1;32mD:\\Python310\\lib\\site-packages\\FinanceDataReader\\investing\\data.py:62\u001b[0m, in \u001b[0;36mInvestingDailyReader.read\u001b[1;34m(self)\u001b[0m\n\u001b[0;32m     <a href='file:///d%3A/Python310/lib/site-packages/FinanceDataReader/investing/data.py?line=59'>60</a>\u001b[0m start_date_str \u001b[39m=\u001b[39m \u001b[39mself\u001b[39m\u001b[39m.\u001b[39mstart\u001b[39m.\u001b[39mstrftime(\u001b[39m'\u001b[39m\u001b[39m%\u001b[39m\u001b[39mm/\u001b[39m\u001b[39m%d\u001b[39;00m\u001b[39m/\u001b[39m\u001b[39m%\u001b[39m\u001b[39mY\u001b[39m\u001b[39m'\u001b[39m)\n\u001b[0;32m     <a href='file:///d%3A/Python310/lib/site-packages/FinanceDataReader/investing/data.py?line=60'>61</a>\u001b[0m end_date_str \u001b[39m=\u001b[39m \u001b[39mself\u001b[39m\u001b[39m.\u001b[39mend\u001b[39m.\u001b[39mstrftime(\u001b[39m'\u001b[39m\u001b[39m%\u001b[39m\u001b[39mm/\u001b[39m\u001b[39m%d\u001b[39;00m\u001b[39m/\u001b[39m\u001b[39m%\u001b[39m\u001b[39mY\u001b[39m\u001b[39m'\u001b[39m)\n\u001b[1;32m---> <a href='file:///d%3A/Python310/lib/site-packages/FinanceDataReader/investing/data.py?line=61'>62</a>\u001b[0m curr_id \u001b[39m=\u001b[39m \u001b[39mself\u001b[39;49m\u001b[39m.\u001b[39;49m_get_currid_investing(\u001b[39mself\u001b[39;49m\u001b[39m.\u001b[39;49msymbol, \u001b[39mself\u001b[39;49m\u001b[39m.\u001b[39;49mexchange, \u001b[39mself\u001b[39;49m\u001b[39m.\u001b[39;49mdata_source)\n\u001b[0;32m     <a href='file:///d%3A/Python310/lib/site-packages/FinanceDataReader/investing/data.py?line=62'>63</a>\u001b[0m \u001b[39mif\u001b[39;00m \u001b[39mnot\u001b[39;00m curr_id:\n\u001b[0;32m     <a href='file:///d%3A/Python310/lib/site-packages/FinanceDataReader/investing/data.py?line=63'>64</a>\u001b[0m     \u001b[39mraise\u001b[39;00m \u001b[39mValueError\u001b[39;00m(\u001b[39m\"\u001b[39m\u001b[39mSymbol unsupported or not found\u001b[39m\u001b[39m\"\u001b[39m)\n",
      "File \u001b[1;32mD:\\Python310\\lib\\site-packages\\FinanceDataReader\\investing\\data.py:30\u001b[0m, in \u001b[0;36mInvestingDailyReader._get_currid_investing\u001b[1;34m(self, symbol, exchange, data_source)\u001b[0m\n\u001b[0;32m     <a href='file:///d%3A/Python310/lib/site-packages/FinanceDataReader/investing/data.py?line=24'>25</a>\u001b[0m headers \u001b[39m=\u001b[39m {\n\u001b[0;32m     <a href='file:///d%3A/Python310/lib/site-packages/FinanceDataReader/investing/data.py?line=25'>26</a>\u001b[0m     \u001b[39m'\u001b[39m\u001b[39mUser-Agent\u001b[39m\u001b[39m'\u001b[39m:\u001b[39m'\u001b[39m\u001b[39mMozilla\u001b[39m\u001b[39m'\u001b[39m,\n\u001b[0;32m     <a href='file:///d%3A/Python310/lib/site-packages/FinanceDataReader/investing/data.py?line=26'>27</a>\u001b[0m     \u001b[39m'\u001b[39m\u001b[39mX-Requested-With\u001b[39m\u001b[39m'\u001b[39m:\u001b[39m'\u001b[39m\u001b[39mXMLHttpRequest\u001b[39m\u001b[39m'\u001b[39m,\n\u001b[0;32m     <a href='file:///d%3A/Python310/lib/site-packages/FinanceDataReader/investing/data.py?line=27'>28</a>\u001b[0m }\n\u001b[0;32m     <a href='file:///d%3A/Python310/lib/site-packages/FinanceDataReader/investing/data.py?line=28'>29</a>\u001b[0m r \u001b[39m=\u001b[39m requests\u001b[39m.\u001b[39mpost(url, data\u001b[39m=\u001b[39m{\u001b[39m'\u001b[39m\u001b[39msearch_text\u001b[39m\u001b[39m'\u001b[39m: symbol}, headers\u001b[39m=\u001b[39mheaders)\n\u001b[1;32m---> <a href='file:///d%3A/Python310/lib/site-packages/FinanceDataReader/investing/data.py?line=29'>30</a>\u001b[0m jo \u001b[39m=\u001b[39m json\u001b[39m.\u001b[39;49mloads(r\u001b[39m.\u001b[39;49mtext)\n\u001b[0;32m     <a href='file:///d%3A/Python310/lib/site-packages/FinanceDataReader/investing/data.py?line=30'>31</a>\u001b[0m \u001b[39mif\u001b[39;00m \u001b[39mlen\u001b[39m(jo[\u001b[39m'\u001b[39m\u001b[39mquotes\u001b[39m\u001b[39m'\u001b[39m]) \u001b[39m==\u001b[39m \u001b[39m0\u001b[39m:\n\u001b[0;32m     <a href='file:///d%3A/Python310/lib/site-packages/FinanceDataReader/investing/data.py?line=31'>32</a>\u001b[0m     \u001b[39mraise\u001b[39;00m \u001b[39mValueError\u001b[39;00m(\u001b[39mf\u001b[39m\u001b[39m\"\u001b[39m\u001b[39mSymbol(\u001b[39m\u001b[39m'\u001b[39m\u001b[39m{\u001b[39;00msymbol\u001b[39m}\u001b[39;00m\u001b[39m'\u001b[39m\u001b[39m) not found\u001b[39m\u001b[39m\"\u001b[39m)\n",
      "File \u001b[1;32mD:\\Python310\\lib\\json\\__init__.py:346\u001b[0m, in \u001b[0;36mloads\u001b[1;34m(s, cls, object_hook, parse_float, parse_int, parse_constant, object_pairs_hook, **kw)\u001b[0m\n\u001b[0;32m    <a href='file:///d%3A/Python310/lib/json/__init__.py?line=340'>341</a>\u001b[0m     s \u001b[39m=\u001b[39m s\u001b[39m.\u001b[39mdecode(detect_encoding(s), \u001b[39m'\u001b[39m\u001b[39msurrogatepass\u001b[39m\u001b[39m'\u001b[39m)\n\u001b[0;32m    <a href='file:///d%3A/Python310/lib/json/__init__.py?line=342'>343</a>\u001b[0m \u001b[39mif\u001b[39;00m (\u001b[39mcls\u001b[39m \u001b[39mis\u001b[39;00m \u001b[39mNone\u001b[39;00m \u001b[39mand\u001b[39;00m object_hook \u001b[39mis\u001b[39;00m \u001b[39mNone\u001b[39;00m \u001b[39mand\u001b[39;00m\n\u001b[0;32m    <a href='file:///d%3A/Python310/lib/json/__init__.py?line=343'>344</a>\u001b[0m         parse_int \u001b[39mis\u001b[39;00m \u001b[39mNone\u001b[39;00m \u001b[39mand\u001b[39;00m parse_float \u001b[39mis\u001b[39;00m \u001b[39mNone\u001b[39;00m \u001b[39mand\u001b[39;00m\n\u001b[0;32m    <a href='file:///d%3A/Python310/lib/json/__init__.py?line=344'>345</a>\u001b[0m         parse_constant \u001b[39mis\u001b[39;00m \u001b[39mNone\u001b[39;00m \u001b[39mand\u001b[39;00m object_pairs_hook \u001b[39mis\u001b[39;00m \u001b[39mNone\u001b[39;00m \u001b[39mand\u001b[39;00m \u001b[39mnot\u001b[39;00m kw):\n\u001b[1;32m--> <a href='file:///d%3A/Python310/lib/json/__init__.py?line=345'>346</a>\u001b[0m     \u001b[39mreturn\u001b[39;00m _default_decoder\u001b[39m.\u001b[39;49mdecode(s)\n\u001b[0;32m    <a href='file:///d%3A/Python310/lib/json/__init__.py?line=346'>347</a>\u001b[0m \u001b[39mif\u001b[39;00m \u001b[39mcls\u001b[39m \u001b[39mis\u001b[39;00m \u001b[39mNone\u001b[39;00m:\n\u001b[0;32m    <a href='file:///d%3A/Python310/lib/json/__init__.py?line=347'>348</a>\u001b[0m     \u001b[39mcls\u001b[39m \u001b[39m=\u001b[39m JSONDecoder\n",
      "File \u001b[1;32mD:\\Python310\\lib\\json\\decoder.py:337\u001b[0m, in \u001b[0;36mJSONDecoder.decode\u001b[1;34m(self, s, _w)\u001b[0m\n\u001b[0;32m    <a href='file:///d%3A/Python310/lib/json/decoder.py?line=331'>332</a>\u001b[0m \u001b[39mdef\u001b[39;00m \u001b[39mdecode\u001b[39m(\u001b[39mself\u001b[39m, s, _w\u001b[39m=\u001b[39mWHITESPACE\u001b[39m.\u001b[39mmatch):\n\u001b[0;32m    <a href='file:///d%3A/Python310/lib/json/decoder.py?line=332'>333</a>\u001b[0m     \u001b[39m\"\"\"Return the Python representation of ``s`` (a ``str`` instance\u001b[39;00m\n\u001b[0;32m    <a href='file:///d%3A/Python310/lib/json/decoder.py?line=333'>334</a>\u001b[0m \u001b[39m    containing a JSON document).\u001b[39;00m\n\u001b[0;32m    <a href='file:///d%3A/Python310/lib/json/decoder.py?line=334'>335</a>\u001b[0m \n\u001b[0;32m    <a href='file:///d%3A/Python310/lib/json/decoder.py?line=335'>336</a>\u001b[0m \u001b[39m    \"\"\"\u001b[39;00m\n\u001b[1;32m--> <a href='file:///d%3A/Python310/lib/json/decoder.py?line=336'>337</a>\u001b[0m     obj, end \u001b[39m=\u001b[39m \u001b[39mself\u001b[39;49m\u001b[39m.\u001b[39;49mraw_decode(s, idx\u001b[39m=\u001b[39;49m_w(s, \u001b[39m0\u001b[39;49m)\u001b[39m.\u001b[39;49mend())\n\u001b[0;32m    <a href='file:///d%3A/Python310/lib/json/decoder.py?line=337'>338</a>\u001b[0m     end \u001b[39m=\u001b[39m _w(s, end)\u001b[39m.\u001b[39mend()\n\u001b[0;32m    <a href='file:///d%3A/Python310/lib/json/decoder.py?line=338'>339</a>\u001b[0m     \u001b[39mif\u001b[39;00m end \u001b[39m!=\u001b[39m \u001b[39mlen\u001b[39m(s):\n",
      "File \u001b[1;32mD:\\Python310\\lib\\json\\decoder.py:355\u001b[0m, in \u001b[0;36mJSONDecoder.raw_decode\u001b[1;34m(self, s, idx)\u001b[0m\n\u001b[0;32m    <a href='file:///d%3A/Python310/lib/json/decoder.py?line=352'>353</a>\u001b[0m     obj, end \u001b[39m=\u001b[39m \u001b[39mself\u001b[39m\u001b[39m.\u001b[39mscan_once(s, idx)\n\u001b[0;32m    <a href='file:///d%3A/Python310/lib/json/decoder.py?line=353'>354</a>\u001b[0m \u001b[39mexcept\u001b[39;00m \u001b[39mStopIteration\u001b[39;00m \u001b[39mas\u001b[39;00m err:\n\u001b[1;32m--> <a href='file:///d%3A/Python310/lib/json/decoder.py?line=354'>355</a>\u001b[0m     \u001b[39mraise\u001b[39;00m JSONDecodeError(\u001b[39m\"\u001b[39m\u001b[39mExpecting value\u001b[39m\u001b[39m\"\u001b[39m, s, err\u001b[39m.\u001b[39mvalue) \u001b[39mfrom\u001b[39;00m \u001b[39mNone\u001b[39m\n\u001b[0;32m    <a href='file:///d%3A/Python310/lib/json/decoder.py?line=355'>356</a>\u001b[0m \u001b[39mreturn\u001b[39;00m obj, end\n",
      "\u001b[1;31mJSONDecodeError\u001b[0m: Expecting value: line 1 column 1 (char 0)"
     ]
    }
   ],
   "source": [
    "ks11 = fdr.DataReader('KS11', '2015-01-01')"
   ]
  },
  {
   "cell_type": "code",
   "execution_count": null,
   "metadata": {},
   "outputs": [],
   "source": []
  }
 ],
 "metadata": {
  "interpreter": {
   "hash": "bb0cbac54d6cdbae60be2e6d83bf46fb7f752717ca2d60c579508701c83844df"
  },
  "kernelspec": {
   "display_name": "Python 3.10.1 64-bit",
   "language": "python",
   "name": "python3"
  },
  "language_info": {
   "codemirror_mode": {
    "name": "ipython",
    "version": 3
   },
   "file_extension": ".py",
   "mimetype": "text/x-python",
   "name": "python",
   "nbconvert_exporter": "python",
   "pygments_lexer": "ipython3",
   "version": "3.10.1"
  },
  "orig_nbformat": 4
 },
 "nbformat": 4,
 "nbformat_minor": 2
}
