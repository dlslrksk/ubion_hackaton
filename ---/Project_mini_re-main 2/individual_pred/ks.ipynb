{
 "cells": [
  {
   "cell_type": "code",
   "execution_count": 102,
   "metadata": {},
   "outputs": [],
   "source": [
    "import pandas as pd\n",
    "from sklearn.linear_model import LinearRegression\n",
    "import numpy as np\n",
    "import FinanceDataReader as fdr\n",
    "from sklearn.metrics import r2_score, mean_squared_error\n",
    "from sklearn.preprocessing import StandardScaler\n",
    "import matplotlib.pyplot as plt\n",
    "from sklearn.model_selection import train_test_split"
   ]
  },
  {
   "cell_type": "code",
   "execution_count": 105,
   "metadata": {},
   "outputs": [],
   "source": [
    "def preprocess_(path,  column_, slice='',  encoding=None, header='infer'):\n",
    "\n",
    "    df = pd.read_csv(path, encoding=encoding, header=header)\n",
    "    \n",
    "    if slice:\n",
    "        df = df[slice]\n",
    "\n",
    "    df.columns = column_\n",
    "\n",
    "    if (type(df.iloc[:,1][1])==str):\n",
    "        df.iloc[:,1] = df.iloc[:,1].apply(lambda x: float(x.replace(',', '')))\n",
    "        \n",
    "    df['Date'] = df['Date'].str.replace('[^0-9]', '')\n",
    "    df['Date'] = df['Date'].apply(lambda x: x[:4]+'-'+x[4:6]+'-'+x[6:])\n",
    "    df['Date'] = pd.to_datetime(df['Date'])\n",
    "\n",
    "    df.sort_values('Date', inplace=True)\n",
    "    df.reset_index(inplace=True)\n",
    "    df.drop(['index'], axis=1, inplace=True)\n",
    "\n",
    "    return df"
   ]
  },
  {
   "cell_type": "code",
   "execution_count": 106,
   "metadata": {},
   "outputs": [
    {
     "name": "stderr",
     "output_type": "stream",
     "text": [
      "C:\\Users\\dbswo\\AppData\\Local\\Temp\\ipykernel_3852\\2556062775.py:13: FutureWarning: The default value of regex will change from True to False in a future version.\n",
      "  df['Date'] = df['Date'].str.replace('[^0-9]', '')\n",
      "C:\\Users\\dbswo\\AppData\\Local\\Temp\\ipykernel_3852\\2556062775.py:13: FutureWarning: The default value of regex will change from True to False in a future version.\n",
      "  df['Date'] = df['Date'].str.replace('[^0-9]', '')\n",
      "C:\\Users\\dbswo\\AppData\\Local\\Temp\\ipykernel_3852\\2556062775.py:13: FutureWarning: The default value of regex will change from True to False in a future version.\n",
      "  df['Date'] = df['Date'].str.replace('[^0-9]', '')\n",
      "C:\\Users\\dbswo\\AppData\\Local\\Temp\\ipykernel_3852\\2556062775.py:13: FutureWarning: The default value of regex will change from True to False in a future version.\n",
      "  df['Date'] = df['Date'].str.replace('[^0-9]', '')\n",
      "C:\\Users\\dbswo\\AppData\\Local\\Temp\\ipykernel_3852\\2556062775.py:13: FutureWarning: The default value of regex will change from True to False in a future version.\n",
      "  df['Date'] = df['Date'].str.replace('[^0-9]', '')\n",
      "C:\\Users\\dbswo\\AppData\\Local\\Temp\\ipykernel_3852\\2556062775.py:13: FutureWarning: The default value of regex will change from True to False in a future version.\n",
      "  df['Date'] = df['Date'].str.replace('[^0-9]', '')\n"
     ]
    }
   ],
   "source": [
    "ks = preprocess_(path=\"../datasets/KS200.csv\", slice=['Date', 'Close'], column_=['Date', 'KS200'])\n",
    "er = preprocess_(path=\"./er.csv\", column_=['Date', 'ER'], encoding='CP949')\n",
    "wti = preprocess_(path=\"./wti.csv\", slice=['날짜', '종가'], column_=['Date', 'WTI'])\n",
    "nickel = preprocess_(path=\"./nickel.csv\", slice=['날짜', '종가'], column_=['Date', 'Nickel'])\n",
    "copper = preprocess_(path=\"./copper.csv\", slice=['날짜', '종가'], column_=['Date', 'Copper'])\n",
    "nasdaq = preprocess_(path=\"./NASDAQ.csv\", slice=['날짜', '종가'], column_=['Date', 'Nasdaq'])"
   ]
  },
  {
   "cell_type": "code",
   "execution_count": 107,
   "metadata": {},
   "outputs": [
    {
     "data": {
      "text/html": [
       "<div>\n",
       "<style scoped>\n",
       "    .dataframe tbody tr th:only-of-type {\n",
       "        vertical-align: middle;\n",
       "    }\n",
       "\n",
       "    .dataframe tbody tr th {\n",
       "        vertical-align: top;\n",
       "    }\n",
       "\n",
       "    .dataframe thead th {\n",
       "        text-align: right;\n",
       "    }\n",
       "</style>\n",
       "<table border=\"1\" class=\"dataframe\">\n",
       "  <thead>\n",
       "    <tr style=\"text-align: right;\">\n",
       "      <th></th>\n",
       "      <th>Date</th>\n",
       "      <th>ER</th>\n",
       "      <th>WTI</th>\n",
       "      <th>Nickel</th>\n",
       "      <th>Copper</th>\n",
       "      <th>Nasdaq</th>\n",
       "    </tr>\n",
       "  </thead>\n",
       "  <tbody>\n",
       "    <tr>\n",
       "      <th>0</th>\n",
       "      <td>2020-05-05</td>\n",
       "      <td>1226.0</td>\n",
       "      <td>20.39</td>\n",
       "      <td>11812.0</td>\n",
       "      <td>2.3995</td>\n",
       "      <td>8710.72</td>\n",
       "    </tr>\n",
       "    <tr>\n",
       "      <th>1</th>\n",
       "      <td>2020-05-07</td>\n",
       "      <td>1224.5</td>\n",
       "      <td>23.99</td>\n",
       "      <td>12303.0</td>\n",
       "      <td>2.4420</td>\n",
       "      <td>8854.39</td>\n",
       "    </tr>\n",
       "    <tr>\n",
       "      <th>2</th>\n",
       "      <td>2020-05-08</td>\n",
       "      <td>1225.5</td>\n",
       "      <td>23.55</td>\n",
       "      <td>12330.0</td>\n",
       "      <td>2.4700</td>\n",
       "      <td>8979.66</td>\n",
       "    </tr>\n",
       "    <tr>\n",
       "      <th>3</th>\n",
       "      <td>2020-05-12</td>\n",
       "      <td>1223.0</td>\n",
       "      <td>24.14</td>\n",
       "      <td>12354.0</td>\n",
       "      <td>2.4710</td>\n",
       "      <td>9192.34</td>\n",
       "    </tr>\n",
       "    <tr>\n",
       "      <th>4</th>\n",
       "      <td>2020-05-13</td>\n",
       "      <td>1225.0</td>\n",
       "      <td>25.78</td>\n",
       "      <td>12324.0</td>\n",
       "      <td>2.4515</td>\n",
       "      <td>9002.55</td>\n",
       "    </tr>\n",
       "    <tr>\n",
       "      <th>...</th>\n",
       "      <td>...</td>\n",
       "      <td>...</td>\n",
       "      <td>...</td>\n",
       "      <td>...</td>\n",
       "      <td>...</td>\n",
       "      <td>...</td>\n",
       "    </tr>\n",
       "    <tr>\n",
       "      <th>444</th>\n",
       "      <td>2022-03-26</td>\n",
       "      <td>1221.0</td>\n",
       "      <td>113.90</td>\n",
       "      <td>35491.0</td>\n",
       "      <td>4.6985</td>\n",
       "      <td>14169.30</td>\n",
       "    </tr>\n",
       "    <tr>\n",
       "      <th>445</th>\n",
       "      <td>2022-03-29</td>\n",
       "      <td>1225.0</td>\n",
       "      <td>105.96</td>\n",
       "      <td>32725.0</td>\n",
       "      <td>4.7255</td>\n",
       "      <td>14354.90</td>\n",
       "    </tr>\n",
       "    <tr>\n",
       "      <th>446</th>\n",
       "      <td>2022-03-30</td>\n",
       "      <td>1211.0</td>\n",
       "      <td>104.24</td>\n",
       "      <td>31803.0</td>\n",
       "      <td>4.7330</td>\n",
       "      <td>14619.64</td>\n",
       "    </tr>\n",
       "    <tr>\n",
       "      <th>447</th>\n",
       "      <td>2022-03-31</td>\n",
       "      <td>1210.5</td>\n",
       "      <td>107.82</td>\n",
       "      <td>32893.0</td>\n",
       "      <td>4.7545</td>\n",
       "      <td>14442.28</td>\n",
       "    </tr>\n",
       "    <tr>\n",
       "      <th>448</th>\n",
       "      <td>2022-04-01</td>\n",
       "      <td>1214.5</td>\n",
       "      <td>100.28</td>\n",
       "      <td>32107.0</td>\n",
       "      <td>4.7510</td>\n",
       "      <td>14220.52</td>\n",
       "    </tr>\n",
       "  </tbody>\n",
       "</table>\n",
       "<p>449 rows × 6 columns</p>\n",
       "</div>"
      ],
      "text/plain": [
       "          Date      ER     WTI   Nickel  Copper    Nasdaq\n",
       "0   2020-05-05  1226.0   20.39  11812.0  2.3995   8710.72\n",
       "1   2020-05-07  1224.5   23.99  12303.0  2.4420   8854.39\n",
       "2   2020-05-08  1225.5   23.55  12330.0  2.4700   8979.66\n",
       "3   2020-05-12  1223.0   24.14  12354.0  2.4710   9192.34\n",
       "4   2020-05-13  1225.0   25.78  12324.0  2.4515   9002.55\n",
       "..         ...     ...     ...      ...     ...       ...\n",
       "444 2022-03-26  1221.0  113.90  35491.0  4.6985  14169.30\n",
       "445 2022-03-29  1225.0  105.96  32725.0  4.7255  14354.90\n",
       "446 2022-03-30  1211.0  104.24  31803.0  4.7330  14619.64\n",
       "447 2022-03-31  1210.5  107.82  32893.0  4.7545  14442.28\n",
       "448 2022-04-01  1214.5  100.28  32107.0  4.7510  14220.52\n",
       "\n",
       "[449 rows x 6 columns]"
      ]
     },
     "execution_count": 107,
     "metadata": {},
     "output_type": "execute_result"
    }
   ],
   "source": [
    "import datetime\n",
    "from functools import reduce\n",
    "dfs = [er, wti, nickel, copper, nasdaq]\n",
    "union = reduce(lambda left, right: pd.merge(left, right, on='Date', how='inner'),dfs)\n",
    "union['Date'] = union['Date'].apply(lambda x: x+datetime.timedelta(days=1))\n",
    "union"
   ]
  },
  {
   "cell_type": "code",
   "execution_count": 28,
   "metadata": {},
   "outputs": [
    {
     "data": {
      "text/html": [
       "<div>\n",
       "<style scoped>\n",
       "    .dataframe tbody tr th:only-of-type {\n",
       "        vertical-align: middle;\n",
       "    }\n",
       "\n",
       "    .dataframe tbody tr th {\n",
       "        vertical-align: top;\n",
       "    }\n",
       "\n",
       "    .dataframe thead th {\n",
       "        text-align: right;\n",
       "    }\n",
       "</style>\n",
       "<table border=\"1\" class=\"dataframe\">\n",
       "  <thead>\n",
       "    <tr style=\"text-align: right;\">\n",
       "      <th></th>\n",
       "      <th>Date</th>\n",
       "      <th>KS200</th>\n",
       "    </tr>\n",
       "  </thead>\n",
       "  <tbody>\n",
       "    <tr>\n",
       "      <th>0</th>\n",
       "      <td>2020-05-04</td>\n",
       "      <td>250.60</td>\n",
       "    </tr>\n",
       "    <tr>\n",
       "      <th>1</th>\n",
       "      <td>2020-05-06</td>\n",
       "      <td>255.00</td>\n",
       "    </tr>\n",
       "    <tr>\n",
       "      <th>2</th>\n",
       "      <td>2020-05-07</td>\n",
       "      <td>254.46</td>\n",
       "    </tr>\n",
       "    <tr>\n",
       "      <th>3</th>\n",
       "      <td>2020-05-08</td>\n",
       "      <td>256.62</td>\n",
       "    </tr>\n",
       "    <tr>\n",
       "      <th>4</th>\n",
       "      <td>2020-05-11</td>\n",
       "      <td>254.95</td>\n",
       "    </tr>\n",
       "    <tr>\n",
       "      <th>...</th>\n",
       "      <td>...</td>\n",
       "      <td>...</td>\n",
       "    </tr>\n",
       "    <tr>\n",
       "      <th>468</th>\n",
       "      <td>2022-03-25</td>\n",
       "      <td>362.06</td>\n",
       "    </tr>\n",
       "    <tr>\n",
       "      <th>469</th>\n",
       "      <td>2022-03-28</td>\n",
       "      <td>362.06</td>\n",
       "    </tr>\n",
       "    <tr>\n",
       "      <th>470</th>\n",
       "      <td>2022-03-29</td>\n",
       "      <td>363.77</td>\n",
       "    </tr>\n",
       "    <tr>\n",
       "      <th>471</th>\n",
       "      <td>2022-03-30</td>\n",
       "      <td>364.50</td>\n",
       "    </tr>\n",
       "    <tr>\n",
       "      <th>472</th>\n",
       "      <td>2022-03-31</td>\n",
       "      <td>365.61</td>\n",
       "    </tr>\n",
       "  </tbody>\n",
       "</table>\n",
       "<p>473 rows × 2 columns</p>\n",
       "</div>"
      ],
      "text/plain": [
       "          Date   KS200\n",
       "0   2020-05-04  250.60\n",
       "1   2020-05-06  255.00\n",
       "2   2020-05-07  254.46\n",
       "3   2020-05-08  256.62\n",
       "4   2020-05-11  254.95\n",
       "..         ...     ...\n",
       "468 2022-03-25  362.06\n",
       "469 2022-03-28  362.06\n",
       "470 2022-03-29  363.77\n",
       "471 2022-03-30  364.50\n",
       "472 2022-03-31  365.61\n",
       "\n",
       "[473 rows x 2 columns]"
      ]
     },
     "execution_count": 28,
     "metadata": {},
     "output_type": "execute_result"
    }
   ],
   "source": [
    "ks"
   ]
  },
  {
   "cell_type": "code",
   "execution_count": 108,
   "metadata": {},
   "outputs": [
    {
     "data": {
      "text/html": [
       "<div>\n",
       "<style scoped>\n",
       "    .dataframe tbody tr th:only-of-type {\n",
       "        vertical-align: middle;\n",
       "    }\n",
       "\n",
       "    .dataframe tbody tr th {\n",
       "        vertical-align: top;\n",
       "    }\n",
       "\n",
       "    .dataframe thead th {\n",
       "        text-align: right;\n",
       "    }\n",
       "</style>\n",
       "<table border=\"1\" class=\"dataframe\">\n",
       "  <thead>\n",
       "    <tr style=\"text-align: right;\">\n",
       "      <th></th>\n",
       "      <th>Date</th>\n",
       "      <th>ER</th>\n",
       "      <th>WTI</th>\n",
       "      <th>Nickel</th>\n",
       "      <th>Copper</th>\n",
       "      <th>Nasdaq</th>\n",
       "      <th>KS200</th>\n",
       "    </tr>\n",
       "  </thead>\n",
       "  <tbody>\n",
       "    <tr>\n",
       "      <th>0</th>\n",
       "      <td>2020-05-07</td>\n",
       "      <td>1224.5</td>\n",
       "      <td>23.99</td>\n",
       "      <td>12303.0</td>\n",
       "      <td>2.4420</td>\n",
       "      <td>8854.39</td>\n",
       "      <td>254.46</td>\n",
       "    </tr>\n",
       "    <tr>\n",
       "      <th>1</th>\n",
       "      <td>2020-05-08</td>\n",
       "      <td>1225.5</td>\n",
       "      <td>23.55</td>\n",
       "      <td>12330.0</td>\n",
       "      <td>2.4700</td>\n",
       "      <td>8979.66</td>\n",
       "      <td>256.62</td>\n",
       "    </tr>\n",
       "    <tr>\n",
       "      <th>2</th>\n",
       "      <td>2020-05-12</td>\n",
       "      <td>1223.0</td>\n",
       "      <td>24.14</td>\n",
       "      <td>12354.0</td>\n",
       "      <td>2.4710</td>\n",
       "      <td>9192.34</td>\n",
       "      <td>253.37</td>\n",
       "    </tr>\n",
       "    <tr>\n",
       "      <th>3</th>\n",
       "      <td>2020-05-13</td>\n",
       "      <td>1225.0</td>\n",
       "      <td>25.78</td>\n",
       "      <td>12324.0</td>\n",
       "      <td>2.4515</td>\n",
       "      <td>9002.55</td>\n",
       "      <td>255.85</td>\n",
       "    </tr>\n",
       "    <tr>\n",
       "      <th>4</th>\n",
       "      <td>2020-05-14</td>\n",
       "      <td>1225.0</td>\n",
       "      <td>25.29</td>\n",
       "      <td>12254.0</td>\n",
       "      <td>2.4360</td>\n",
       "      <td>8863.17</td>\n",
       "      <td>253.65</td>\n",
       "    </tr>\n",
       "    <tr>\n",
       "      <th>...</th>\n",
       "      <td>...</td>\n",
       "      <td>...</td>\n",
       "      <td>...</td>\n",
       "      <td>...</td>\n",
       "      <td>...</td>\n",
       "      <td>...</td>\n",
       "      <td>...</td>\n",
       "    </tr>\n",
       "    <tr>\n",
       "      <th>342</th>\n",
       "      <td>2022-03-24</td>\n",
       "      <td>1218.5</td>\n",
       "      <td>114.93</td>\n",
       "      <td>32380.0</td>\n",
       "      <td>4.7765</td>\n",
       "      <td>13922.60</td>\n",
       "      <td>363.38</td>\n",
       "    </tr>\n",
       "    <tr>\n",
       "      <th>343</th>\n",
       "      <td>2022-03-25</td>\n",
       "      <td>1222.0</td>\n",
       "      <td>112.34</td>\n",
       "      <td>37049.5</td>\n",
       "      <td>4.7430</td>\n",
       "      <td>14191.84</td>\n",
       "      <td>362.06</td>\n",
       "    </tr>\n",
       "    <tr>\n",
       "      <th>344</th>\n",
       "      <td>2022-03-29</td>\n",
       "      <td>1225.0</td>\n",
       "      <td>105.96</td>\n",
       "      <td>32725.0</td>\n",
       "      <td>4.7255</td>\n",
       "      <td>14354.90</td>\n",
       "      <td>363.77</td>\n",
       "    </tr>\n",
       "    <tr>\n",
       "      <th>345</th>\n",
       "      <td>2022-03-30</td>\n",
       "      <td>1211.0</td>\n",
       "      <td>104.24</td>\n",
       "      <td>31803.0</td>\n",
       "      <td>4.7330</td>\n",
       "      <td>14619.64</td>\n",
       "      <td>364.50</td>\n",
       "    </tr>\n",
       "    <tr>\n",
       "      <th>346</th>\n",
       "      <td>2022-03-31</td>\n",
       "      <td>1210.5</td>\n",
       "      <td>107.82</td>\n",
       "      <td>32893.0</td>\n",
       "      <td>4.7545</td>\n",
       "      <td>14442.28</td>\n",
       "      <td>365.61</td>\n",
       "    </tr>\n",
       "  </tbody>\n",
       "</table>\n",
       "<p>347 rows × 7 columns</p>\n",
       "</div>"
      ],
      "text/plain": [
       "          Date      ER     WTI   Nickel  Copper    Nasdaq   KS200\n",
       "0   2020-05-07  1224.5   23.99  12303.0  2.4420   8854.39  254.46\n",
       "1   2020-05-08  1225.5   23.55  12330.0  2.4700   8979.66  256.62\n",
       "2   2020-05-12  1223.0   24.14  12354.0  2.4710   9192.34  253.37\n",
       "3   2020-05-13  1225.0   25.78  12324.0  2.4515   9002.55  255.85\n",
       "4   2020-05-14  1225.0   25.29  12254.0  2.4360   8863.17  253.65\n",
       "..         ...     ...     ...      ...     ...       ...     ...\n",
       "342 2022-03-24  1218.5  114.93  32380.0  4.7765  13922.60  363.38\n",
       "343 2022-03-25  1222.0  112.34  37049.5  4.7430  14191.84  362.06\n",
       "344 2022-03-29  1225.0  105.96  32725.0  4.7255  14354.90  363.77\n",
       "345 2022-03-30  1211.0  104.24  31803.0  4.7330  14619.64  364.50\n",
       "346 2022-03-31  1210.5  107.82  32893.0  4.7545  14442.28  365.61\n",
       "\n",
       "[347 rows x 7 columns]"
      ]
     },
     "execution_count": 108,
     "metadata": {},
     "output_type": "execute_result"
    }
   ],
   "source": [
    "union = pd.merge(union, ks, how='inner', on='Date')\n",
    "union"
   ]
  },
  {
   "cell_type": "code",
   "execution_count": 109,
   "metadata": {},
   "outputs": [
    {
     "name": "stdout",
     "output_type": "stream",
     "text": [
      "input_data with none\n",
      "target with none \n",
      "mse : 2953.6575855532965 \n",
      "rmse : 54.347562829930986 \n",
      "r2 : -11.582713283698256\n"
     ]
    }
   ],
   "source": [
    "from sklearn.preprocessing import StandardScaler\n",
    "\n",
    "data = union.drop(['Date', 'KS200', 'ER', 'WTI'], axis=1)\n",
    "target = union['KS200']\n",
    "\n",
    "len_ = round(len(data)*0.8)\n",
    "x_train, x_test = data[:len_], data[len_:]\n",
    "y_train, y_test = target[:len_], target[len_:]\n",
    "\n",
    "lr = LinearRegression()\n",
    "lr.fit(x_train, y_train)\n",
    "pred = lr.predict(x_test)\n",
    "\n",
    "mse = mean_squared_error(y_test, pred)\n",
    "rmse = np.sqrt(mse)\n",
    "r2 = r2_score(y_test, pred)\n",
    "print(f'input_data with none\\ntarget with none \\nmse : {mse} \\nrmse : {rmse} \\nr2 : {r2}')"
   ]
  },
  {
   "cell_type": "code",
   "execution_count": 19,
   "metadata": {},
   "outputs": [
    {
     "data": {
      "text/plain": [
       "[<matplotlib.lines.Line2D at 0x1d0291a4790>]"
      ]
     },
     "execution_count": 19,
     "metadata": {},
     "output_type": "execute_result"
    },
    {
     "data": {
      "image/png": "[encoded data removed]",
      "text/plain": [
       "<Figure size 432x288 with 1 Axes>"
      ]
     },
     "metadata": {
      "needs_background": "light"
     },
     "output_type": "display_data"
    }
   ],
   "source": [
    "plt.plot(pred)"
   ]
  },
  {
   "cell_type": "code",
   "execution_count": 20,
   "metadata": {},
   "outputs": [
    {
     "data": {
      "text/plain": [
       "[<matplotlib.lines.Line2D at 0x1d02923b8e0>]"
      ]
     },
     "execution_count": 20,
     "metadata": {},
     "output_type": "execute_result"
    },
    {
     "data": {
      "image/png": "[encoded data removed]",
      "text/plain": [
       "<Figure size 432x288 with 1 Axes>"
      ]
     },
     "metadata": {
      "needs_background": "light"
     },
     "output_type": "display_data"
    }
   ],
   "source": [
    "plt.plot(y_test)"
   ]
  },
  {
   "cell_type": "code",
   "execution_count": 34,
   "metadata": {},
   "outputs": [
    {
     "data": {
      "text/plain": [
       "<matplotlib.collections.PathCollection at 0x1d0292e5e40>"
      ]
     },
     "execution_count": 34,
     "metadata": {},
     "output_type": "execute_result"
    },
    {
     "data": {
      "image/png": "[encoded data removed]",
      "text/plain": [
       "<Figure size 432x288 with 1 Axes>"
      ]
     },
     "metadata": {
      "needs_background": "light"
     },
     "output_type": "display_data"
    }
   ],
   "source": [
    "plt.scatter(data['Nasdaq'], target)"
   ]
  },
  {
   "cell_type": "code",
   "execution_count": 111,
   "metadata": {},
   "outputs": [
    {
     "name": "stdout",
     "output_type": "stream",
     "text": [
      "input_data with none\n",
      "target with none \n",
      "mse : 60.5645175447898 \n",
      "rmse : 7.782320832810082 \n",
      "r2 : -0.6705960943676188\n"
     ]
    }
   ],
   "source": [
    "from sklearn.preprocessing import StandardScaler\n",
    "\n",
    "data = union.drop(['Date', 'KS200', 'WTI', 'ER'], axis=1)\n",
    "# data['ER'] = (data['ER'] / 1224.5) * 100\n",
    "# data['WTI'] = (data['WTI'] / 23.99) * 100\n",
    "# data['Nickel'] = (data['Nickel'] / 12303.0) * 100\n",
    "# data['Copper'] = (data['Copper'] / 2.442) * 100\n",
    "# data['Nasdaq'] = (data['Nasdaq'] / 8854.39) * 100\n",
    "target = (union['KS200'] / 254.46) * 100\n",
    "\n",
    "data = np.log1p(data)\n",
    "data = data.diff(1)\n",
    "data.dropna(inplace=True)\n",
    "data.reset_index(inplace=True)\n",
    "data.drop(['index'], axis=1, inplace=True)\n",
    "\n",
    "target = target[1:]\n",
    "target = pd.DataFrame(target)\n",
    "target.reset_index(inplace=True)\n",
    "target.drop(['index'], axis=1, inplace=True)\n",
    "\n",
    "len_ = round(len(data)*0.8)\n",
    "x_train, x_test = data[:len_], data[len_:]\n",
    "y_train, y_test = target[:len_], target[len_:]\n",
    "\n",
    "lr = LinearRegression()\n",
    "lr.fit(x_train, y_train)\n",
    "pred = lr.predict(x_test)\n",
    "\n",
    "mse = mean_squared_error(y_test, pred)\n",
    "rmse = np.sqrt(mse)\n",
    "r2 = r2_score(y_test, pred)\n",
    "print(f'input_data with none\\ntarget with none \\nmse : {mse} \\nrmse : {rmse} \\nr2 : {r2}')"
   ]
  },
  {
   "cell_type": "code",
   "execution_count": 113,
   "metadata": {},
   "outputs": [
    {
     "name": "stdout",
     "output_type": "stream",
     "text": [
      "input_data with none\n",
      "target with none \n",
      "mse : 66.23261647648026 \n",
      "rmse : 8.138342366629722 \n",
      "r2 : -0.8269434792992103\n"
     ]
    }
   ],
   "source": [
    "from sklearn.preprocessing import StandardScaler\n",
    "\n",
    "data = union.drop(['Date', 'KS200', 'WTI', 'ER'], axis=1)\n",
    "#data['ER'] = (data['ER'] / 1224.5) * 100\n",
    "#data['WTI'] = (data['WTI'] / 23.99) * 100\n",
    "data['Nickel'] = (data['Nickel'] / 12303.0) * 100\n",
    "data['Copper'] = (data['Copper'] / 2.442) * 100\n",
    "data['Nasdaq'] = (data['Nasdaq'] / 8854.39) * 100\n",
    "target = (union['KS200'] / 254.46) * 100\n",
    "\n",
    "data = np.log1p(data)\n",
    "data = data.diff(1)\n",
    "data.dropna(inplace=True)\n",
    "data.reset_index(inplace=True)\n",
    "data.drop(['index'], axis=1, inplace=True)\n",
    "\n",
    "target = target[1:]\n",
    "target = pd.DataFrame(target)\n",
    "target.reset_index(inplace=True)\n",
    "target.drop(['index'], axis=1, inplace=True)\n",
    "\n",
    "len_ = round(len(data)*0.8)\n",
    "x_train, x_test = data[:len_], data[len_:]\n",
    "y_train, y_test = target[:len_], target[len_:]\n",
    "\n",
    "lr = LinearRegression()\n",
    "lr.fit(x_train, y_train)\n",
    "pred = lr.predict(x_test)\n",
    "\n",
    "mse = mean_squared_error(y_test, pred)\n",
    "rmse = np.sqrt(mse)\n",
    "r2 = r2_score(y_test, pred)\n",
    "print(f'input_data with none\\ntarget with none \\nmse : {mse} \\nrmse : {rmse} \\nr2 : {r2}')"
   ]
  },
  {
   "cell_type": "code",
   "execution_count": 71,
   "metadata": {},
   "outputs": [
    {
     "data": {
      "text/html": [
       "<div>\n",
       "<style scoped>\n",
       "    .dataframe tbody tr th:only-of-type {\n",
       "        vertical-align: middle;\n",
       "    }\n",
       "\n",
       "    .dataframe tbody tr th {\n",
       "        vertical-align: top;\n",
       "    }\n",
       "\n",
       "    .dataframe thead th {\n",
       "        text-align: right;\n",
       "    }\n",
       "</style>\n",
       "<table border=\"1\" class=\"dataframe\">\n",
       "  <thead>\n",
       "    <tr style=\"text-align: right;\">\n",
       "      <th></th>\n",
       "      <th>Date</th>\n",
       "      <th>ER</th>\n",
       "      <th>WTI</th>\n",
       "      <th>Nickel</th>\n",
       "      <th>Copper</th>\n",
       "      <th>Nasdaq</th>\n",
       "      <th>KS200</th>\n",
       "    </tr>\n",
       "  </thead>\n",
       "  <tbody>\n",
       "    <tr>\n",
       "      <th>0</th>\n",
       "      <td>2020-05-07</td>\n",
       "      <td>1224.5</td>\n",
       "      <td>23.99</td>\n",
       "      <td>12303.0</td>\n",
       "      <td>2.442</td>\n",
       "      <td>8854.39</td>\n",
       "      <td>254.46</td>\n",
       "    </tr>\n",
       "  </tbody>\n",
       "</table>\n",
       "</div>"
      ],
      "text/plain": [
       "        Date      ER    WTI   Nickel  Copper   Nasdaq   KS200\n",
       "0 2020-05-07  1224.5  23.99  12303.0   2.442  8854.39  254.46"
      ]
     },
     "execution_count": 71,
     "metadata": {},
     "output_type": "execute_result"
    }
   ],
   "source": [
    "union[union[\"Date\"]=='2020-05-07']"
   ]
  },
  {
   "cell_type": "code",
   "execution_count": 81,
   "metadata": {},
   "outputs": [
    {
     "data": {
      "text/plain": [
       "<AxesSubplot:>"
      ]
     },
     "execution_count": 81,
     "metadata": {},
     "output_type": "execute_result"
    },
    {
     "data": {
      "image/png": "[encoded data removed]",
      "text/plain": [
       "<Figure size 432x288 with 1 Axes>"
      ]
     },
     "metadata": {
      "needs_background": "light"
     },
     "output_type": "display_data"
    }
   ],
   "source": [
    "pd.DataFrame(pred).plot()"
   ]
  },
  {
   "cell_type": "code",
   "execution_count": 82,
   "metadata": {},
   "outputs": [
    {
     "data": {
      "text/plain": [
       "<AxesSubplot:>"
      ]
     },
     "execution_count": 82,
     "metadata": {},
     "output_type": "execute_result"
    },
    {
     "data": {
      "image/png": "[encoded data removed]",
      "text/plain": [
       "<Figure size 432x288 with 1 Axes>"
      ]
     },
     "metadata": {
      "needs_background": "light"
     },
     "output_type": "display_data"
    }
   ],
   "source": [
    "y_test.plot()"
   ]
  },
  {
   "cell_type": "code",
   "execution_count": 83,
   "metadata": {},
   "outputs": [
    {
     "data": {
      "text/plain": [
       "<bound method DataFrame.corr of           Date      ER     WTI   Nickel  Copper    Nasdaq   KS200\n",
       "0   2020-05-07  1224.5   23.99  12303.0  2.4420   8854.39  254.46\n",
       "1   2020-05-08  1225.5   23.55  12330.0  2.4700   8979.66  256.62\n",
       "2   2020-05-12  1223.0   24.14  12354.0  2.4710   9192.34  253.37\n",
       "3   2020-05-13  1225.0   25.78  12324.0  2.4515   9002.55  255.85\n",
       "4   2020-05-14  1225.0   25.29  12254.0  2.4360   8863.17  253.65\n",
       "..         ...     ...     ...      ...     ...       ...     ...\n",
       "342 2022-03-24  1218.5  114.93  32380.0  4.7765  13922.60  363.38\n",
       "343 2022-03-25  1222.0  112.34  37049.5  4.7430  14191.84  362.06\n",
       "344 2022-03-29  1225.0  105.96  32725.0  4.7255  14354.90  363.77\n",
       "345 2022-03-30  1211.0  104.24  31803.0  4.7330  14619.64  364.50\n",
       "346 2022-03-31  1210.5  107.82  32893.0  4.7545  14442.28  365.61\n",
       "\n",
       "[347 rows x 7 columns]>"
      ]
     },
     "execution_count": 83,
     "metadata": {},
     "output_type": "execute_result"
    }
   ],
   "source": [
    "corr = union.corr\n",
    "corr"
   ]
  },
  {
   "cell_type": "code",
   "execution_count": 84,
   "metadata": {},
   "outputs": [
    {
     "data": {
      "text/plain": [
       "<AxesSubplot:>"
      ]
     },
     "execution_count": 84,
     "metadata": {},
     "output_type": "execute_result"
    },
    {
     "data": {
      "image/png": "[encoded data removed]",
      "text/plain": [
       "<Figure size 432x288 with 2 Axes>"
      ]
     },
     "metadata": {
      "needs_background": "light"
     },
     "output_type": "display_data"
    }
   ],
   "source": [
    "import seaborn as sns\n",
    "union_withoutDate = union.drop(['Date'], axis=1)\n",
    "corr_before = union_withoutDate.corr(method='pearson')\n",
    "sns.heatmap(corr_before,annot=True, cmap='Blues')"
   ]
  },
  {
   "cell_type": "code",
   "execution_count": 86,
   "metadata": {},
   "outputs": [
    {
     "data": {
      "text/html": [
       "<div>\n",
       "<style scoped>\n",
       "    .dataframe tbody tr th:only-of-type {\n",
       "        vertical-align: middle;\n",
       "    }\n",
       "\n",
       "    .dataframe tbody tr th {\n",
       "        vertical-align: top;\n",
       "    }\n",
       "\n",
       "    .dataframe thead th {\n",
       "        text-align: right;\n",
       "    }\n",
       "</style>\n",
       "<table border=\"1\" class=\"dataframe\">\n",
       "  <thead>\n",
       "    <tr style=\"text-align: right;\">\n",
       "      <th></th>\n",
       "      <th>컬럼</th>\n",
       "      <th>VIF</th>\n",
       "    </tr>\n",
       "  </thead>\n",
       "  <tbody>\n",
       "    <tr>\n",
       "      <th>0</th>\n",
       "      <td>ER</td>\n",
       "      <td>1.204705</td>\n",
       "    </tr>\n",
       "    <tr>\n",
       "      <th>1</th>\n",
       "      <td>Nickel</td>\n",
       "      <td>2.269981</td>\n",
       "    </tr>\n",
       "    <tr>\n",
       "      <th>2</th>\n",
       "      <td>Copper</td>\n",
       "      <td>7.958339</td>\n",
       "    </tr>\n",
       "    <tr>\n",
       "      <th>3</th>\n",
       "      <td>Nasdaq</td>\n",
       "      <td>5.931109</td>\n",
       "    </tr>\n",
       "  </tbody>\n",
       "</table>\n",
       "</div>"
      ],
      "text/plain": [
       "       컬럼       VIF\n",
       "0      ER  1.204705\n",
       "1  Nickel  2.269981\n",
       "2  Copper  7.958339\n",
       "3  Nasdaq  5.931109"
      ]
     },
     "execution_count": 86,
     "metadata": {},
     "output_type": "execute_result"
    }
   ],
   "source": [
    "from statsmodels.stats.outliers_influence import variance_inflation_factor\n",
    "from statsmodels.formula.api import ols\n",
    "model = ols('KS200 ~ ER + Nickel + Copper + Nasdaq', union)\n",
    "\n",
    "pd.DataFrame({'컬럼': column, 'VIF': variance_inflation_factor(model.exog, i)} \n",
    "             for i, column in enumerate(model.exog_names)\n",
    "             if column != 'Intercept')"
   ]
  },
  {
   "cell_type": "code",
   "execution_count": 95,
   "metadata": {},
   "outputs": [
    {
     "data": {
      "text/html": [
       "<table class=\"simpletable\">\n",
       "<caption>OLS Regression Results</caption>\n",
       "<tr>\n",
       "  <th>Dep. Variable:</th>          <td>KS200</td>      <th>  R-squared:         </th> <td>   0.909</td> \n",
       "</tr>\n",
       "<tr>\n",
       "  <th>Model:</th>                   <td>OLS</td>       <th>  Adj. R-squared:    </th> <td>   0.908</td> \n",
       "</tr>\n",
       "<tr>\n",
       "  <th>Method:</th>             <td>Least Squares</td>  <th>  F-statistic:       </th> <td>   856.0</td> \n",
       "</tr>\n",
       "<tr>\n",
       "  <th>Date:</th>             <td>Tue, 26 Apr 2022</td> <th>  Prob (F-statistic):</th> <td>1.09e-176</td>\n",
       "</tr>\n",
       "<tr>\n",
       "  <th>Time:</th>                 <td>14:47:27</td>     <th>  Log-Likelihood:    </th> <td> -1456.1</td> \n",
       "</tr>\n",
       "<tr>\n",
       "  <th>No. Observations:</th>      <td>   347</td>      <th>  AIC:               </th> <td>   2922.</td> \n",
       "</tr>\n",
       "<tr>\n",
       "  <th>Df Residuals:</th>          <td>   342</td>      <th>  BIC:               </th> <td>   2942.</td> \n",
       "</tr>\n",
       "<tr>\n",
       "  <th>Df Model:</th>              <td>     4</td>      <th>                     </th>     <td> </td>    \n",
       "</tr>\n",
       "<tr>\n",
       "  <th>Covariance Type:</th>      <td>nonrobust</td>    <th>                     </th>     <td> </td>    \n",
       "</tr>\n",
       "</table>\n",
       "<table class=\"simpletable\">\n",
       "<tr>\n",
       "      <td></td>         <th>coef</th>     <th>std err</th>      <th>t</th>      <th>P>|t|</th>  <th>[0.025</th>    <th>0.975]</th>  \n",
       "</tr>\n",
       "<tr>\n",
       "  <th>Intercept</th> <td>  720.4804</td> <td>   29.938</td> <td>   24.066</td> <td> 0.000</td> <td>  661.595</td> <td>  779.366</td>\n",
       "</tr>\n",
       "<tr>\n",
       "  <th>ER</th>        <td>   -0.5298</td> <td>    0.024</td> <td>  -21.902</td> <td> 0.000</td> <td>   -0.577</td> <td>   -0.482</td>\n",
       "</tr>\n",
       "<tr>\n",
       "  <th>Nickel</th>    <td>   -0.0014</td> <td>    0.000</td> <td>   -5.027</td> <td> 0.000</td> <td>   -0.002</td> <td>   -0.001</td>\n",
       "</tr>\n",
       "<tr>\n",
       "  <th>Copper</th>    <td>   38.0372</td> <td>    3.617</td> <td>   10.517</td> <td> 0.000</td> <td>   30.923</td> <td>   45.151</td>\n",
       "</tr>\n",
       "<tr>\n",
       "  <th>Nasdaq</th>    <td>    0.0112</td> <td>    0.001</td> <td>    9.830</td> <td> 0.000</td> <td>    0.009</td> <td>    0.013</td>\n",
       "</tr>\n",
       "</table>\n",
       "<table class=\"simpletable\">\n",
       "<tr>\n",
       "  <th>Omnibus:</th>       <td>18.431</td> <th>  Durbin-Watson:     </th> <td>   0.150</td>\n",
       "</tr>\n",
       "<tr>\n",
       "  <th>Prob(Omnibus):</th> <td> 0.000</td> <th>  Jarque-Bera (JB):  </th> <td>   8.005</td>\n",
       "</tr>\n",
       "<tr>\n",
       "  <th>Skew:</th>          <td>-0.093</td> <th>  Prob(JB):          </th> <td>  0.0183</td>\n",
       "</tr>\n",
       "<tr>\n",
       "  <th>Kurtosis:</th>      <td> 2.280</td> <th>  Cond. No.          </th> <td>7.82e+05</td>\n",
       "</tr>\n",
       "</table><br/><br/>Notes:<br/>[1] Standard Errors assume that the covariance matrix of the errors is correctly specified.<br/>[2] The condition number is large, 7.82e+05. This might indicate that there are<br/>strong multicollinearity or other numerical problems."
      ],
      "text/plain": [
       "<class 'statsmodels.iolib.summary.Summary'>\n",
       "\"\"\"\n",
       "                            OLS Regression Results                            \n",
       "==============================================================================\n",
       "Dep. Variable:                  KS200   R-squared:                       0.909\n",
       "Model:                            OLS   Adj. R-squared:                  0.908\n",
       "Method:                 Least Squares   F-statistic:                     856.0\n",
       "Date:                Tue, 26 Apr 2022   Prob (F-statistic):          1.09e-176\n",
       "Time:                        14:47:27   Log-Likelihood:                -1456.1\n",
       "No. Observations:                 347   AIC:                             2922.\n",
       "Df Residuals:                     342   BIC:                             2942.\n",
       "Df Model:                           4                                         \n",
       "Covariance Type:            nonrobust                                         \n",
       "==============================================================================\n",
       "                 coef    std err          t      P>|t|      [0.025      0.975]\n",
       "------------------------------------------------------------------------------\n",
       "Intercept    720.4804     29.938     24.066      0.000     661.595     779.366\n",
       "ER            -0.5298      0.024    -21.902      0.000      -0.577      -0.482\n",
       "Nickel        -0.0014      0.000     -5.027      0.000      -0.002      -0.001\n",
       "Copper        38.0372      3.617     10.517      0.000      30.923      45.151\n",
       "Nasdaq         0.0112      0.001      9.830      0.000       0.009       0.013\n",
       "==============================================================================\n",
       "Omnibus:                       18.431   Durbin-Watson:                   0.150\n",
       "Prob(Omnibus):                  0.000   Jarque-Bera (JB):                8.005\n",
       "Skew:                          -0.093   Prob(JB):                       0.0183\n",
       "Kurtosis:                       2.280   Cond. No.                     7.82e+05\n",
       "==============================================================================\n",
       "\n",
       "Notes:\n",
       "[1] Standard Errors assume that the covariance matrix of the errors is correctly specified.\n",
       "[2] The condition number is large, 7.82e+05. This might indicate that there are\n",
       "strong multicollinearity or other numerical problems.\n",
       "\"\"\""
      ]
     },
     "execution_count": 95,
     "metadata": {},
     "output_type": "execute_result"
    }
   ],
   "source": [
    "a = model.fit()\n",
    "a.summary()"
   ]
  }
 ],
 "metadata": {
  "interpreter": {
   "hash": "ae86efb8b77dfb237f66b88168f0bd1dfff1a2694c121842130244f61fb57205"
  },
  "kernelspec": {
   "display_name": "Python 3.10.2 64-bit (system)",
   "language": "python",
   "name": "python3"
  },
  "language_info": {
   "codemirror_mode": {
    "name": "ipython",
    "version": 3
   },
   "file_extension": ".py",
   "mimetype": "text/x-python",
   "name": "python",
   "nbconvert_exporter": "python",
   "pygments_lexer": "ipython3",
   "version": "3.10.2"
  },
  "orig_nbformat": 4
 },
 "nbformat": 4,
 "nbformat_minor": 2
}
