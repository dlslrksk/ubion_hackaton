{
 "cells": [
  {
   "cell_type": "code",
   "execution_count": 3,
   "metadata": {},
   "outputs": [],
   "source": [
    "import FinanceDataReader as fdr\n",
    "import numpy as np\n",
    "import pandas as pd\n",
    "import pandas_datareader as pdr\n",
    "import matplotlib.pyplot as plt\n",
    "import plotly.express as px\n",
    "import seaborn as sns\n",
    "from sklearn.model_selection import train_test_split\n",
    "from sklearn.linear_model import LinearRegression\n",
    "from sklearn.metrics import mean_squared_error, r2_score\n",
    "from sklearn.model_selection import cross_val_score"
   ]
  },
  {
   "cell_type": "code",
   "execution_count": 4,
   "metadata": {},
   "outputs": [],
   "source": [
    "# 원유 데이터 불러오기\n",
    "_VIX = pd.read_csv('./csv/_VIX.csv')\n",
    "_KOSPI = pd.read_csv('./csv/_KOSPI.csv')"
   ]
  },
  {
   "cell_type": "code",
   "execution_count": 5,
   "metadata": {},
   "outputs": [
    {
     "name": "stdout",
     "output_type": "stream",
     "text": [
      "<class 'pandas.core.frame.DataFrame'>\n",
      "RangeIndex: 247 entries, 0 to 246\n",
      "Data columns (total 3 columns):\n",
      " #   Column      Non-Null Count  Dtype \n",
      "---  ------      --------------  ----- \n",
      " 0   Unnamed: 0  247 non-null    int64 \n",
      " 1   date        247 non-null    object\n",
      " 2   Close       247 non-null    object\n",
      "dtypes: int64(1), object(2)\n",
      "memory usage: 5.9+ KB\n"
     ]
    }
   ],
   "source": [
    "_KOSPI.info()\n",
    "\n",
    "drop_columns = ['Unnamed: 0']\n",
    "_KOSPI.drop(drop_columns, axis=1, inplace=True)"
   ]
  },
  {
   "cell_type": "code",
   "execution_count": 6,
   "metadata": {},
   "outputs": [
    {
     "name": "stdout",
     "output_type": "stream",
     "text": [
      "<class 'pandas.core.frame.DataFrame'>\n",
      "RangeIndex: 247 entries, 0 to 246\n",
      "Data columns (total 3 columns):\n",
      " #   Column  Non-Null Count  Dtype  \n",
      "---  ------  --------------  -----  \n",
      " 0   date    247 non-null    object \n",
      " 1   Close   247 non-null    object \n",
      " 2   KOSPI   247 non-null    float64\n",
      "dtypes: float64(1), object(2)\n",
      "memory usage: 5.9+ KB\n"
     ]
    }
   ],
   "source": [
    "# 데이터 타입 변환\n",
    "_KOSPI[\"KOSPI\"] = pd.to_numeric(_KOSPI[\"Close\"].str.replace(',', ''))\n",
    "_KOSPI.info()"
   ]
  },
  {
   "cell_type": "code",
   "execution_count": 7,
   "metadata": {},
   "outputs": [
    {
     "name": "stdout",
     "output_type": "stream",
     "text": [
      "<class 'pandas.core.frame.DataFrame'>\n",
      "RangeIndex: 256 entries, 0 to 255\n",
      "Data columns (total 3 columns):\n",
      " #   Column      Non-Null Count  Dtype  \n",
      "---  ------      --------------  -----  \n",
      " 0   Unnamed: 0  256 non-null    int64  \n",
      " 1   date        256 non-null    object \n",
      " 2   Close       256 non-null    float64\n",
      "dtypes: float64(1), int64(1), object(1)\n",
      "memory usage: 6.1+ KB\n"
     ]
    }
   ],
   "source": [
    "_VIX.info()\n",
    "\n",
    "drop_columns = ['Unnamed: 0']\n",
    "_VIX.drop(drop_columns, axis=1, inplace=True)"
   ]
  },
  {
   "cell_type": "code",
   "execution_count": 8,
   "metadata": {},
   "outputs": [],
   "source": [
    "# 컬럼명 변경 및 삭제\n",
    "_VIX = _VIX.rename(columns={'Close':'VIX'})\n",
    "\n",
    "drop_columns = ['Close']\n",
    "_KOSPI.drop(drop_columns, axis=1, inplace=True)"
   ]
  },
  {
   "cell_type": "code",
   "execution_count": 9,
   "metadata": {},
   "outputs": [
    {
     "data": {
      "text/html": [
       "<div>\n",
       "<style scoped>\n",
       "    .dataframe tbody tr th:only-of-type {\n",
       "        vertical-align: middle;\n",
       "    }\n",
       "\n",
       "    .dataframe tbody tr th {\n",
       "        vertical-align: top;\n",
       "    }\n",
       "\n",
       "    .dataframe thead th {\n",
       "        text-align: right;\n",
       "    }\n",
       "</style>\n",
       "<table border=\"1\" class=\"dataframe\">\n",
       "  <thead>\n",
       "    <tr style=\"text-align: right;\">\n",
       "      <th></th>\n",
       "      <th>date</th>\n",
       "      <th>VIX</th>\n",
       "      <th>KOSPI</th>\n",
       "    </tr>\n",
       "  </thead>\n",
       "  <tbody>\n",
       "    <tr>\n",
       "      <th>0</th>\n",
       "      <td>21/04/01</td>\n",
       "      <td>17.33</td>\n",
       "      <td>3087.40</td>\n",
       "    </tr>\n",
       "    <tr>\n",
       "      <th>1</th>\n",
       "      <td>21/04/02</td>\n",
       "      <td>17.33</td>\n",
       "      <td>3112.80</td>\n",
       "    </tr>\n",
       "    <tr>\n",
       "      <th>2</th>\n",
       "      <td>21/04/05</td>\n",
       "      <td>17.91</td>\n",
       "      <td>3120.83</td>\n",
       "    </tr>\n",
       "    <tr>\n",
       "      <th>3</th>\n",
       "      <td>21/04/06</td>\n",
       "      <td>18.12</td>\n",
       "      <td>3127.08</td>\n",
       "    </tr>\n",
       "    <tr>\n",
       "      <th>4</th>\n",
       "      <td>21/04/07</td>\n",
       "      <td>17.16</td>\n",
       "      <td>3137.41</td>\n",
       "    </tr>\n",
       "    <tr>\n",
       "      <th>...</th>\n",
       "      <td>...</td>\n",
       "      <td>...</td>\n",
       "      <td>...</td>\n",
       "    </tr>\n",
       "    <tr>\n",
       "      <th>237</th>\n",
       "      <td>22/03/25</td>\n",
       "      <td>20.81</td>\n",
       "      <td>2729.98</td>\n",
       "    </tr>\n",
       "    <tr>\n",
       "      <th>238</th>\n",
       "      <td>22/03/28</td>\n",
       "      <td>19.63</td>\n",
       "      <td>2729.56</td>\n",
       "    </tr>\n",
       "    <tr>\n",
       "      <th>239</th>\n",
       "      <td>22/03/29</td>\n",
       "      <td>18.90</td>\n",
       "      <td>2741.07</td>\n",
       "    </tr>\n",
       "    <tr>\n",
       "      <th>240</th>\n",
       "      <td>22/03/30</td>\n",
       "      <td>19.33</td>\n",
       "      <td>2746.74</td>\n",
       "    </tr>\n",
       "    <tr>\n",
       "      <th>241</th>\n",
       "      <td>22/03/31</td>\n",
       "      <td>20.56</td>\n",
       "      <td>2757.65</td>\n",
       "    </tr>\n",
       "  </tbody>\n",
       "</table>\n",
       "<p>242 rows × 3 columns</p>\n",
       "</div>"
      ],
      "text/plain": [
       "         date    VIX    KOSPI\n",
       "0    21/04/01  17.33  3087.40\n",
       "1    21/04/02  17.33  3112.80\n",
       "2    21/04/05  17.91  3120.83\n",
       "3    21/04/06  18.12  3127.08\n",
       "4    21/04/07  17.16  3137.41\n",
       "..        ...    ...      ...\n",
       "237  22/03/25  20.81  2729.98\n",
       "238  22/03/28  19.63  2729.56\n",
       "239  22/03/29  18.90  2741.07\n",
       "240  22/03/30  19.33  2746.74\n",
       "241  22/03/31  20.56  2757.65\n",
       "\n",
       "[242 rows x 3 columns]"
      ]
     },
     "execution_count": 9,
     "metadata": {},
     "output_type": "execute_result"
    }
   ],
   "source": [
    "# 병합\n",
    "vix_kospi = pd.merge(_VIX, _KOSPI, how='inner', on='date')\n",
    "vix_kospi[['date', 'VIX', 'KOSPI']]"
   ]
  },
  {
   "cell_type": "code",
   "execution_count": 10,
   "metadata": {},
   "outputs": [
    {
     "data": {
      "application/vnd.plotly.v1+json": {
       "config": {
        "plotlyServerURL": "https://plot.ly"
       },
       "data": [
        {
         "hovertemplate": "variable=KOSPI<br>date=%{x}<br>value=%{y}<extra></extra>",
         "legendgroup": "KOSPI",
         "line": {
          "color": "#636efa",
          "dash": "solid"
         },
         "marker": {
          "symbol": "circle"
         },
         "mode": "lines",
         "name": "KOSPI",
         "orientation": "v",
         "showlegend": true,
         "type": "scatter",
         "x": [
          "21/04/01",
          "21/04/02",
          "21/04/05",
          "21/04/06",
          "21/04/07",
          "21/04/08",
          "21/04/09",
          "21/04/12",
          "21/04/13",
          "21/04/14",
          "21/04/15",
          "21/04/16",
          "21/04/19",
          "21/04/20",
          "21/04/21",
          "21/04/22",
          "21/04/23",
          "21/04/26",
          "21/04/27",
          "21/04/28",
          "21/04/29",
          "21/04/30",
          "21/05/03",
          "21/05/04",
          "21/05/06",
          "21/05/07",
          "21/05/10",
          "21/05/11",
          "21/05/12",
          "21/05/13",
          "21/05/14",
          "21/05/17",
          "21/05/18",
          "21/05/20",
          "21/05/21",
          "21/05/24",
          "21/05/25",
          "21/05/26",
          "21/05/27",
          "21/05/28",
          "21/06/01",
          "21/06/02",
          "21/06/03",
          "21/06/04",
          "21/06/07",
          "21/06/08",
          "21/06/09",
          "21/06/10",
          "21/06/11",
          "21/06/14",
          "21/06/15",
          "21/06/16",
          "21/06/17",
          "21/06/18",
          "21/06/21",
          "21/06/22",
          "21/06/23",
          "21/06/24",
          "21/06/25",
          "21/06/28",
          "21/06/29",
          "21/06/30",
          "21/07/01",
          "21/07/02",
          "21/07/06",
          "21/07/07",
          "21/07/08",
          "21/07/09",
          "21/07/12",
          "21/07/13",
          "21/07/14",
          "21/07/15",
          "21/07/16",
          "21/07/19",
          "21/07/20",
          "21/07/21",
          "21/07/22",
          "21/07/23",
          "21/07/26",
          "21/07/27",
          "21/07/28",
          "21/07/29",
          "21/07/30",
          "21/08/02",
          "21/08/03",
          "21/08/04",
          "21/08/05",
          "21/08/06",
          "21/08/09",
          "21/08/10",
          "21/08/11",
          "21/08/12",
          "21/08/13",
          "21/08/17",
          "21/08/18",
          "21/08/19",
          "21/08/20",
          "21/08/23",
          "21/08/24",
          "21/08/25",
          "21/08/26",
          "21/08/27",
          "21/08/30",
          "21/08/31",
          "21/09/01",
          "21/09/02",
          "21/09/03",
          "21/09/07",
          "21/09/08",
          "21/09/09",
          "21/09/10",
          "21/09/13",
          "21/09/14",
          "21/09/15",
          "21/09/16",
          "21/09/17",
          "21/09/23",
          "21/09/24",
          "21/09/27",
          "21/09/28",
          "21/09/29",
          "21/09/30",
          "21/10/01",
          "21/10/05",
          "21/10/06",
          "21/10/07",
          "21/10/08",
          "21/10/12",
          "21/10/13",
          "21/10/14",
          "21/10/15",
          "21/10/18",
          "21/10/19",
          "21/10/20",
          "21/10/21",
          "21/10/22",
          "21/10/25",
          "21/10/26",
          "21/10/27",
          "21/10/28",
          "21/10/29",
          "21/11/01",
          "21/11/02",
          "21/11/03",
          "21/11/04",
          "21/11/05",
          "21/11/08",
          "21/11/09",
          "21/11/10",
          "21/11/11",
          "21/11/12",
          "21/11/15",
          "21/11/16",
          "21/11/17",
          "21/11/18",
          "21/11/19",
          "21/11/22",
          "21/11/23",
          "21/11/24",
          "21/11/25",
          "21/11/26",
          "21/11/29",
          "21/11/30",
          "21/12/01",
          "21/12/02",
          "21/12/03",
          "21/12/06",
          "21/12/07",
          "21/12/08",
          "21/12/09",
          "21/12/10",
          "21/12/13",
          "21/12/14",
          "21/12/15",
          "21/12/16",
          "21/12/17",
          "21/12/20",
          "21/12/21",
          "21/12/22",
          "21/12/23",
          "21/12/24",
          "21/12/27",
          "21/12/28",
          "21/12/29",
          "21/12/30",
          "22/01/03",
          "22/01/04",
          "22/01/05",
          "22/01/06",
          "22/01/07",
          "22/01/10",
          "22/01/11",
          "22/01/12",
          "22/01/13",
          "22/01/14",
          "22/01/18",
          "22/01/19",
          "22/01/20",
          "22/01/21",
          "22/01/24",
          "22/01/25",
          "22/01/26",
          "22/01/27",
          "22/01/28",
          "22/02/03",
          "22/02/04",
          "22/02/07",
          "22/02/08",
          "22/02/09",
          "22/02/10",
          "22/02/11",
          "22/02/14",
          "22/02/15",
          "22/02/16",
          "22/02/17",
          "22/02/18",
          "22/02/22",
          "22/02/23",
          "22/02/24",
          "22/02/25",
          "22/02/28",
          "22/03/02",
          "22/03/03",
          "22/03/04",
          "22/03/07",
          "22/03/08",
          "22/03/10",
          "22/03/11",
          "22/03/14",
          "22/03/15",
          "22/03/16",
          "22/03/17",
          "22/03/18",
          "22/03/21",
          "22/03/22",
          "22/03/23",
          "22/03/24",
          "22/03/25",
          "22/03/28",
          "22/03/29",
          "22/03/30",
          "22/03/31"
         ],
         "xaxis": "x",
         "y": [
          3087.4,
          3112.8,
          3120.83,
          3127.08,
          3137.41,
          3143.26,
          3131.88,
          3135.59,
          3169.08,
          3182.38,
          3194.33,
          3198.62,
          3198.84,
          3220.7,
          3171.66,
          3177.52,
          3186.1,
          3217.53,
          3215.42,
          3181.47,
          3174.07,
          3147.86,
          3127.2,
          3147.37,
          3178.74,
          3197.2,
          3249.3,
          3209.43,
          3161.66,
          3122.11,
          3153.32,
          3134.52,
          3173.05,
          3162.28,
          3156.42,
          3144.3,
          3171.32,
          3168.43,
          3165.51,
          3188.73,
          3221.87,
          3224.23,
          3247.43,
          3240.08,
          3252.12,
          3247.83,
          3216.18,
          3224.64,
          3249.32,
          3252.13,
          3258.63,
          3278.68,
          3264.96,
          3267.93,
          3240.79,
          3263.88,
          3276.19,
          3286.1,
          3302.84,
          3301.89,
          3286.68,
          3296.68,
          3282.06,
          3281.78,
          3305.21,
          3285.34,
          3252.68,
          3217.95,
          3246.47,
          3271.38,
          3264.81,
          3286.22,
          3276.91,
          3244.04,
          3232.7,
          3215.91,
          3250.21,
          3254.42,
          3224.95,
          3232.53,
          3236.86,
          3242.65,
          3202.32,
          3223.04,
          3237.14,
          3280.38,
          3276.13,
          3270.36,
          3260.42,
          3243.19,
          3220.62,
          3208.38,
          3171.29,
          3143.09,
          3158.93,
          3097.83,
          3060.51,
          3090.21,
          3138.3,
          3146.81,
          3128.53,
          3133.9,
          3144.19,
          3199.27,
          3207.02,
          3175.85,
          3201.06,
          3187.42,
          3162.99,
          3114.7,
          3125.76,
          3127.86,
          3148.83,
          3153.4,
          3130.09,
          3140.51,
          3127.58,
          3125.24,
          3133.64,
          3097.92,
          3060.27,
          3068.82,
          3019.18,
          2962.17,
          2908.31,
          2959.46,
          2956.3,
          2916.38,
          2944.41,
          2988.64,
          3015.06,
          3006.68,
          3029.04,
          3013.13,
          3007.33,
          3006.16,
          3020.54,
          3049.08,
          3025.49,
          3009.55,
          2970.68,
          2978.94,
          3013.49,
          2975.71,
          2983.22,
          2969.27,
          2960.2,
          2962.46,
          2930.17,
          2924.92,
          2968.8,
          2999.52,
          2997.21,
          2962.42,
          2947.38,
          2971.02,
          3013.25,
          2997.33,
          2994.29,
          2980.27,
          2936.44,
          2909.32,
          2839.01,
          2899.72,
          2945.27,
          2968.33,
          2973.25,
          2991.72,
          3001.8,
          3029.57,
          3010.23,
          3001.66,
          2987.95,
          2989.39,
          3006.41,
          3017.73,
          2963,
          2975.03,
          2984.48,
          2998.17,
          3012.43,
          2999.55,
          3020.24,
          2993.29,
          2977.65,
          2988.77,
          2989.24,
          2953.97,
          2920.53,
          2954.89,
          2926.72,
          2927.38,
          2972.48,
          2962.09,
          2921.92,
          2864.24,
          2842.28,
          2862.68,
          2834.29,
          2792,
          2720.39,
          2709.24,
          2614.49,
          2663.34,
          2707.82,
          2750.26,
          2745.06,
          2746.47,
          2768.85,
          2771.93,
          2747.71,
          2704.48,
          2676.54,
          2729.68,
          2744.09,
          2744.52,
          2706.79,
          2719.53,
          2648.8,
          2676.76,
          2699.18,
          2703.52,
          2747.08,
          2713.43,
          2651.31,
          2622.4,
          2680.32,
          2661.28,
          2645.65,
          2621.53,
          2659.23,
          2694.51,
          2707.02,
          2686.05,
          2710,
          2735.05,
          2729.66,
          2729.98,
          2729.56,
          2741.07,
          2746.74,
          2757.65
         ],
         "yaxis": "y"
        }
       ],
       "layout": {
        "legend": {
         "title": {
          "text": "variable"
         },
         "tracegroupgap": 0
        },
        "margin": {
         "t": 60
        },
        "template": {
         "data": {
          "bar": [
           {
            "error_x": {
             "color": "#2a3f5f"
            },
            "error_y": {
             "color": "#2a3f5f"
            },
            "marker": {
             "line": {
              "color": "#E5ECF6",
              "width": 0.5
             },
             "pattern": {
              "fillmode": "overlay",
              "size": 10,
              "solidity": 0.2
             }
            },
            "type": "bar"
           }
          ],
          "barpolar": [
           {
            "marker": {
             "line": {
              "color": "#E5ECF6",
              "width": 0.5
             },
             "pattern": {
              "fillmode": "overlay",
              "size": 10,
              "solidity": 0.2
             }
            },
            "type": "barpolar"
           }
          ],
          "carpet": [
           {
            "aaxis": {
             "endlinecolor": "#2a3f5f",
             "gridcolor": "white",
             "linecolor": "white",
             "minorgridcolor": "white",
             "startlinecolor": "#2a3f5f"
            },
            "baxis": {
             "endlinecolor": "#2a3f5f",
             "gridcolor": "white",
             "linecolor": "white",
             "minorgridcolor": "white",
             "startlinecolor": "#2a3f5f"
            },
            "type": "carpet"
           }
          ],
          "choropleth": [
           {
            "colorbar": {
             "outlinewidth": 0,
             "ticks": ""
            },
            "type": "choropleth"
           }
          ],
          "contour": [
           {
            "colorbar": {
             "outlinewidth": 0,
             "ticks": ""
            },
            "colorscale": [
             [
              0,
              "#0d0887"
             ],
             [
              0.1111111111111111,
              "#46039f"
             ],
             [
              0.2222222222222222,
              "#7201a8"
             ],
             [
              0.3333333333333333,
              "#9c179e"
             ],
             [
              0.4444444444444444,
              "#bd3786"
             ],
             [
              0.5555555555555556,
              "#d8576b"
             ],
             [
              0.6666666666666666,
              "#ed7953"
             ],
             [
              0.7777777777777778,
              "#fb9f3a"
             ],
             [
              0.8888888888888888,
              "#fdca26"
             ],
             [
              1,
              "#f0f921"
             ]
            ],
            "type": "contour"
           }
          ],
          "contourcarpet": [
           {
            "colorbar": {
             "outlinewidth": 0,
             "ticks": ""
            },
            "type": "contourcarpet"
           }
          ],
          "heatmap": [
           {
            "colorbar": {
             "outlinewidth": 0,
             "ticks": ""
            },
            "colorscale": [
             [
              0,
              "#0d0887"
             ],
             [
              0.1111111111111111,
              "#46039f"
             ],
             [
              0.2222222222222222,
              "#7201a8"
             ],
             [
              0.3333333333333333,
              "#9c179e"
             ],
             [
              0.4444444444444444,
              "#bd3786"
             ],
             [
              0.5555555555555556,
              "#d8576b"
             ],
             [
              0.6666666666666666,
              "#ed7953"
             ],
             [
              0.7777777777777778,
              "#fb9f3a"
             ],
             [
              0.8888888888888888,
              "#fdca26"
             ],
             [
              1,
              "#f0f921"
             ]
            ],
            "type": "heatmap"
           }
          ],
          "heatmapgl": [
           {
            "colorbar": {
             "outlinewidth": 0,
             "ticks": ""
            },
            "colorscale": [
             [
              0,
              "#0d0887"
             ],
             [
              0.1111111111111111,
              "#46039f"
             ],
             [
              0.2222222222222222,
              "#7201a8"
             ],
             [
              0.3333333333333333,
              "#9c179e"
             ],
             [
              0.4444444444444444,
              "#bd3786"
             ],
             [
              0.5555555555555556,
              "#d8576b"
             ],
             [
              0.6666666666666666,
              "#ed7953"
             ],
             [
              0.7777777777777778,
              "#fb9f3a"
             ],
             [
              0.8888888888888888,
              "#fdca26"
             ],
             [
              1,
              "#f0f921"
             ]
            ],
            "type": "heatmapgl"
           }
          ],
          "histogram": [
           {
            "marker": {
             "pattern": {
              "fillmode": "overlay",
              "size": 10,
              "solidity": 0.2
             }
            },
            "type": "histogram"
           }
          ],
          "histogram2d": [
           {
            "colorbar": {
             "outlinewidth": 0,
             "ticks": ""
            },
            "colorscale": [
             [
              0,
              "#0d0887"
             ],
             [
              0.1111111111111111,
              "#46039f"
             ],
             [
              0.2222222222222222,
              "#7201a8"
             ],
             [
              0.3333333333333333,
              "#9c179e"
             ],
             [
              0.4444444444444444,
              "#bd3786"
             ],
             [
              0.5555555555555556,
              "#d8576b"
             ],
             [
              0.6666666666666666,
              "#ed7953"
             ],
             [
              0.7777777777777778,
              "#fb9f3a"
             ],
             [
              0.8888888888888888,
              "#fdca26"
             ],
             [
              1,
              "#f0f921"
             ]
            ],
            "type": "histogram2d"
           }
          ],
          "histogram2dcontour": [
           {
            "colorbar": {
             "outlinewidth": 0,
             "ticks": ""
            },
            "colorscale": [
             [
              0,
              "#0d0887"
             ],
             [
              0.1111111111111111,
              "#46039f"
             ],
             [
              0.2222222222222222,
              "#7201a8"
             ],
             [
              0.3333333333333333,
              "#9c179e"
             ],
             [
              0.4444444444444444,
              "#bd3786"
             ],
             [
              0.5555555555555556,
              "#d8576b"
             ],
             [
              0.6666666666666666,
              "#ed7953"
             ],
             [
              0.7777777777777778,
              "#fb9f3a"
             ],
             [
              0.8888888888888888,
              "#fdca26"
             ],
             [
              1,
              "#f0f921"
             ]
            ],
            "type": "histogram2dcontour"
           }
          ],
          "mesh3d": [
           {
            "colorbar": {
             "outlinewidth": 0,
             "ticks": ""
            },
            "type": "mesh3d"
           }
          ],
          "parcoords": [
           {
            "line": {
             "colorbar": {
              "outlinewidth": 0,
              "ticks": ""
             }
            },
            "type": "parcoords"
           }
          ],
          "pie": [
           {
            "automargin": true,
            "type": "pie"
           }
          ],
          "scatter": [
           {
            "marker": {
             "colorbar": {
              "outlinewidth": 0,
              "ticks": ""
             }
            },
            "type": "scatter"
           }
          ],
          "scatter3d": [
           {
            "line": {
             "colorbar": {
              "outlinewidth": 0,
              "ticks": ""
             }
            },
            "marker": {
             "colorbar": {
              "outlinewidth": 0,
              "ticks": ""
             }
            },
            "type": "scatter3d"
           }
          ],
          "scattercarpet": [
           {
            "marker": {
             "colorbar": {
              "outlinewidth": 0,
              "ticks": ""
             }
            },
            "type": "scattercarpet"
           }
          ],
          "scattergeo": [
           {
            "marker": {
             "colorbar": {
              "outlinewidth": 0,
              "ticks": ""
             }
            },
            "type": "scattergeo"
           }
          ],
          "scattergl": [
           {
            "marker": {
             "colorbar": {
              "outlinewidth": 0,
              "ticks": ""
             }
            },
            "type": "scattergl"
           }
          ],
          "scattermapbox": [
           {
            "marker": {
             "colorbar": {
              "outlinewidth": 0,
              "ticks": ""
             }
            },
            "type": "scattermapbox"
           }
          ],
          "scatterpolar": [
           {
            "marker": {
             "colorbar": {
              "outlinewidth": 0,
              "ticks": ""
             }
            },
            "type": "scatterpolar"
           }
          ],
          "scatterpolargl": [
           {
            "marker": {
             "colorbar": {
              "outlinewidth": 0,
              "ticks": ""
             }
            },
            "type": "scatterpolargl"
           }
          ],
          "scatterternary": [
           {
            "marker": {
             "colorbar": {
              "outlinewidth": 0,
              "ticks": ""
             }
            },
            "type": "scatterternary"
           }
          ],
          "surface": [
           {
            "colorbar": {
             "outlinewidth": 0,
             "ticks": ""
            },
            "colorscale": [
             [
              0,
              "#0d0887"
             ],
             [
              0.1111111111111111,
              "#46039f"
             ],
             [
              0.2222222222222222,
              "#7201a8"
             ],
             [
              0.3333333333333333,
              "#9c179e"
             ],
             [
              0.4444444444444444,
              "#bd3786"
             ],
             [
              0.5555555555555556,
              "#d8576b"
             ],
             [
              0.6666666666666666,
              "#ed7953"
             ],
             [
              0.7777777777777778,
              "#fb9f3a"
             ],
             [
              0.8888888888888888,
              "#fdca26"
             ],
             [
              1,
              "#f0f921"
             ]
            ],
            "type": "surface"
           }
          ],
          "table": [
           {
            "cells": {
             "fill": {
              "color": "#EBF0F8"
             },
             "line": {
              "color": "white"
             }
            },
            "header": {
             "fill": {
              "color": "#C8D4E3"
             },
             "line": {
              "color": "white"
             }
            },
            "type": "table"
           }
          ]
         },
         "layout": {
          "annotationdefaults": {
           "arrowcolor": "#2a3f5f",
           "arrowhead": 0,
           "arrowwidth": 1
          },
          "autotypenumbers": "strict",
          "coloraxis": {
           "colorbar": {
            "outlinewidth": 0,
            "ticks": ""
           }
          },
          "colorscale": {
           "diverging": [
            [
             0,
             "#8e0152"
            ],
            [
             0.1,
             "#c51b7d"
            ],
            [
             0.2,
             "#de77ae"
            ],
            [
             0.3,
             "#f1b6da"
            ],
            [
             0.4,
             "#fde0ef"
            ],
            [
             0.5,
             "#f7f7f7"
            ],
            [
             0.6,
             "#e6f5d0"
            ],
            [
             0.7,
             "#b8e186"
            ],
            [
             0.8,
             "#7fbc41"
            ],
            [
             0.9,
             "#4d9221"
            ],
            [
             1,
             "#276419"
            ]
           ],
           "sequential": [
            [
             0,
             "#0d0887"
            ],
            [
             0.1111111111111111,
             "#46039f"
            ],
            [
             0.2222222222222222,
             "#7201a8"
            ],
            [
             0.3333333333333333,
             "#9c179e"
            ],
            [
             0.4444444444444444,
             "#bd3786"
            ],
            [
             0.5555555555555556,
             "#d8576b"
            ],
            [
             0.6666666666666666,
             "#ed7953"
            ],
            [
             0.7777777777777778,
             "#fb9f3a"
            ],
            [
             0.8888888888888888,
             "#fdca26"
            ],
            [
             1,
             "#f0f921"
            ]
           ],
           "sequentialminus": [
            [
             0,
             "#0d0887"
            ],
            [
             0.1111111111111111,
             "#46039f"
            ],
            [
             0.2222222222222222,
             "#7201a8"
            ],
            [
             0.3333333333333333,
             "#9c179e"
            ],
            [
             0.4444444444444444,
             "#bd3786"
            ],
            [
             0.5555555555555556,
             "#d8576b"
            ],
            [
             0.6666666666666666,
             "#ed7953"
            ],
            [
             0.7777777777777778,
             "#fb9f3a"
            ],
            [
             0.8888888888888888,
             "#fdca26"
            ],
            [
             1,
             "#f0f921"
            ]
           ]
          },
          "colorway": [
           "#636efa",
           "#EF553B",
           "#00cc96",
           "#ab63fa",
           "#FFA15A",
           "#19d3f3",
           "#FF6692",
           "#B6E880",
           "#FF97FF",
           "#FECB52"
          ],
          "font": {
           "color": "#2a3f5f"
          },
          "geo": {
           "bgcolor": "white",
           "lakecolor": "white",
           "landcolor": "#E5ECF6",
           "showlakes": true,
           "showland": true,
           "subunitcolor": "white"
          },
          "hoverlabel": {
           "align": "left"
          },
          "hovermode": "closest",
          "mapbox": {
           "style": "light"
          },
          "paper_bgcolor": "white",
          "plot_bgcolor": "#E5ECF6",
          "polar": {
           "angularaxis": {
            "gridcolor": "white",
            "linecolor": "white",
            "ticks": ""
           },
           "bgcolor": "#E5ECF6",
           "radialaxis": {
            "gridcolor": "white",
            "linecolor": "white",
            "ticks": ""
           }
          },
          "scene": {
           "xaxis": {
            "backgroundcolor": "#E5ECF6",
            "gridcolor": "white",
            "gridwidth": 2,
            "linecolor": "white",
            "showbackground": true,
            "ticks": "",
            "zerolinecolor": "white"
           },
           "yaxis": {
            "backgroundcolor": "#E5ECF6",
            "gridcolor": "white",
            "gridwidth": 2,
            "linecolor": "white",
            "showbackground": true,
            "ticks": "",
            "zerolinecolor": "white"
           },
           "zaxis": {
            "backgroundcolor": "#E5ECF6",
            "gridcolor": "white",
            "gridwidth": 2,
            "linecolor": "white",
            "showbackground": true,
            "ticks": "",
            "zerolinecolor": "white"
           }
          },
          "shapedefaults": {
           "line": {
            "color": "#2a3f5f"
           }
          },
          "ternary": {
           "aaxis": {
            "gridcolor": "white",
            "linecolor": "white",
            "ticks": ""
           },
           "baxis": {
            "gridcolor": "white",
            "linecolor": "white",
            "ticks": ""
           },
           "bgcolor": "#E5ECF6",
           "caxis": {
            "gridcolor": "white",
            "linecolor": "white",
            "ticks": ""
           }
          },
          "title": {
           "x": 0.05
          },
          "xaxis": {
           "automargin": true,
           "gridcolor": "white",
           "linecolor": "white",
           "ticks": "",
           "title": {
            "standoff": 15
           },
           "zerolinecolor": "white",
           "zerolinewidth": 2
          },
          "yaxis": {
           "automargin": true,
           "gridcolor": "white",
           "linecolor": "white",
           "ticks": "",
           "title": {
            "standoff": 15
           },
           "zerolinecolor": "white",
           "zerolinewidth": 2
          }
         }
        },
        "xaxis": {
         "anchor": "y",
         "domain": [
          0,
          1
         ],
         "title": {
          "text": "date"
         }
        },
        "yaxis": {
         "anchor": "x",
         "domain": [
          0,
          1
         ],
         "title": {
          "text": "value"
         }
        }
       }
      }
     },
     "metadata": {},
     "output_type": "display_data"
    }
   ],
   "source": [
    "# 시각화\n",
    "fig = px.line(vix_kospi, x='date', y=[\"VIX\"])\n",
    "fig = px.line(vix_kospi, x='date', y=[\"KOSPI\"])\n",
    "fig.show()"
   ]
  },
  {
   "cell_type": "code",
   "execution_count": 11,
   "metadata": {},
   "outputs": [],
   "source": [
    "# 에러 함수들 정의 후 선형회귀 학습/예측\n",
    "from sklearn.metrics import mean_absolute_error, mean_squared_error\n",
    "\n",
    "# log 값 변환 시 NaN등의 이슈로 log()가 아닌 log1p()를 이용하여 RMSLE 계산\n",
    "def rmsle(y, pred):\n",
    "    log_y = np.log1p(y)\n",
    "    log_pred = np.log1p(pred)\n",
    "    sqaured_error = (log_y - log_pred) **2\n",
    "    rmsle = np.sqrt(np.mean(sqaured_error))\n",
    "    return rmsle\n",
    "\n",
    "# 사이킷런의 mean_square_error()를 이용하여 RMSE 계산\n",
    "def rmse(y,pred):\n",
    "    return np.sqrt(mean_squared_error(y, pred))\n",
    "\n",
    "# MAE, RMSE, RMSLE를 모두 계산\n",
    "def evaluate_regr(y, pred):\n",
    "    rmsle_val = rmsle(y, pred)\n",
    "    rmse_val = rmse(y,pred)\n",
    "    # MAE는 scikit learn의 mean_absolute_error()로 계산\n",
    "    mae_val = mean_absolute_error(y, pred)\n",
    "    print('RMLSE: {0:.3f}, RMSE: {1:.3f}, MAE: {2:.3f}'.format(rmsle_val, rmse_val, mae_val))"
   ]
  },
  {
   "cell_type": "code",
   "execution_count": 12,
   "metadata": {},
   "outputs": [
    {
     "name": "stdout",
     "output_type": "stream",
     "text": [
      "RMLSE: 0.047, RMSE: 139.914, MAE: 119.282\n",
      "Variance score:0.573\n",
      "절편 값 : 3628.521500363449\n",
      "회귀 계수값 : [-30.]\n"
     ]
    }
   ],
   "source": [
    "# 학습 데이터, 테스트 데이터 분리\n",
    "from sklearn.model_selection import train_test_split, GridSearchCV\n",
    "from sklearn.linear_model import LinearRegression, Ridge, Lasso\n",
    "\n",
    "y_target = vix_kospi['KOSPI']\n",
    "X_features = vix_kospi.drop(['date', 'KOSPI'], axis=1, inplace=False)\n",
    "\n",
    "X_train, X_test, y_train, y_test = train_test_split(X_features, y_target, test_size=0.3, random_state=107)\n",
    "\n",
    "# 선형회귀 적용 후 학습/예측/평가\n",
    "lr_reg = LinearRegression()\n",
    "lr_reg.fit(X_train, y_train)\n",
    "pred = lr_reg.predict(X_test)\n",
    "\n",
    "evaluate_regr(y_test, pred)\n",
    "\n",
    "print('Variance score:{0:.3f}'.format(r2_score(y_test, pred)))\n",
    "print('절편 값 :',lr_reg.intercept_)\n",
    "print('회귀 계수값 :', np.round(lr_reg.coef_))"
   ]
  },
  {
   "cell_type": "code",
   "execution_count": 13,
   "metadata": {},
   "outputs": [
    {
     "data": {
      "text/plain": [
       "[<matplotlib.lines.Line2D at 0x168a30f10>]"
      ]
     },
     "execution_count": 13,
     "metadata": {},
     "output_type": "execute_result"
    },
    {
     "data": {
      "image/png": "[encoded data removed]",
      "text/plain": [
       "<Figure size 432x288 with 1 Axes>"
      ]
     },
     "metadata": {
      "needs_background": "light"
     },
     "output_type": "display_data"
    }
   ],
   "source": [
    "# plt.plot(X_train, color = 'k')\n",
    "plt.plot(y_train, color = 'b')\n",
    "plt.plot(pred, color = 'g')"
   ]
  },
  {
   "cell_type": "code",
   "execution_count": 14,
   "metadata": {},
   "outputs": [
    {
     "name": "stdout",
     "output_type": "stream",
     "text": [
      "    real_count  predicted_count    diff\n",
      "15     3161.66           2810.0  351.66\n",
      "39     2741.07           3068.0  326.93\n",
      "34     2746.74           3055.0  308.26\n",
      "47     3244.04           2961.0  283.04\n",
      "53     2768.85           3037.0  268.15\n"
     ]
    }
   ],
   "source": [
    "# 예측값과 실제값 오차 확인\n",
    "def get_top_error_data(y_test, pred, n_tops = 5):\n",
    "    # DataFrame에 컬럼들로 실제 대여횟수(count)와 예측값을 서로 비교할 수 있도록 생성\n",
    "    result_df = pd.DataFrame(y_test.values, columns=['real_count'])\n",
    "    result_df['predicted_count'] = np.round(pred)\n",
    "    result_df['diff'] = np.abs(result_df['real_count'] - result_df['predicted_count'])\n",
    "    # 예측값과 실제값의 차이가 가장 큰 데이터 순으로 출력\n",
    "    print(result_df.sort_values('diff', ascending=False)[:n_tops])\n",
    "\n",
    "get_top_error_data(y_test, pred, n_tops=5)"
   ]
  },
  {
   "cell_type": "code",
   "execution_count": 15,
   "metadata": {},
   "outputs": [
    {
     "name": "stdout",
     "output_type": "stream",
     "text": [
      "RMLSE: 0.047, RMSE: 140.067, MAE: 119.783\n",
      "Variance score:0.584\n",
      "절편 값 : 8.217367356838087\n",
      "회귀 계수값 : [-0.01004002]\n"
     ]
    }
   ],
   "source": [
    "# 타겟값에 로그를 취해서 정규화\n",
    "\n",
    "# 타겟 컬럼인 count를 log1p로 Log변환\n",
    "y_target_log = np.log1p(y_target)\n",
    "\n",
    "# 로그 변환된 y_target_log를 반영하여 학습/테스트 데이터 셋 분할\n",
    "X_train, X_test, y_train, y_test = train_test_split(X_features, y_target_log, test_size=0.3, random_state=107)\n",
    "lr_reg = LinearRegression()\n",
    "lr_reg.fit(X_train, y_train)\n",
    "pred = lr_reg.predict(X_test)\n",
    "\n",
    "# 테스트 데이터 셋의 Target 값은 Log 변환되었으므로 다시 exmp1를 이용하여 원래 scale로 변환\n",
    "y_test_exp = np.expm1(y_test)\n",
    "\n",
    "# 테스트 데이터 셋의 Target값은 Log 변환되었으므로 다시 expm1를 이용하여 원래 scale로 변환\n",
    "pred_exp = np.expm1(pred)\n",
    "\n",
    "evaluate_regr(y_test_exp, pred_exp)\n",
    "\n",
    "print('Variance score:{0:.3f}'.format(r2_score(y_test, pred)))\n",
    "print('절편 값 :',lr_reg.intercept_)\n",
    "print('회귀 계수값 :', lr_reg.coef_)"
   ]
  },
  {
   "cell_type": "code",
   "execution_count": 16,
   "metadata": {},
   "outputs": [
    {
     "data": {
      "text/plain": [
       "<AxesSubplot:>"
      ]
     },
     "execution_count": 16,
     "metadata": {},
     "output_type": "execute_result"
    },
    {
     "data": {
      "image/png": "[encoded data removed]",
      "text/plain": [
       "<Figure size 432x288 with 1 Axes>"
      ]
     },
     "metadata": {
      "needs_background": "light"
     },
     "output_type": "display_data"
    }
   ],
   "source": [
    "# 피처 별 회귀계수 확인\n",
    "\n",
    "coef = pd.Series(lr_reg.coef_, index=X_features.columns)\n",
    "coef_sort = coef.sort_values(ascending=False)\n",
    "sns.barplot(x=coef_sort.values, y=coef_sort.index)"
   ]
  }
 ],
 "metadata": {
  "interpreter": {
   "hash": "aee8b7b246df8f9039afb4144a1f6fd8d2ca17a180786b69acc140d282b71a49"
  },
  "kernelspec": {
   "display_name": "Python 3.10.2 64-bit",
   "language": "python",
   "name": "python3"
  },
  "language_info": {
   "codemirror_mode": {
    "name": "ipython",
    "version": 3
   },
   "file_extension": ".py",
   "mimetype": "text/x-python",
   "name": "python",
   "nbconvert_exporter": "python",
   "pygments_lexer": "ipython3",
   "version": "3.10.2"
  },
  "orig_nbformat": 4
 },
 "nbformat": 4,
 "nbformat_minor": 2
}
