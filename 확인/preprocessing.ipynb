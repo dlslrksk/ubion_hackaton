{
 "cells": [
  {
   "cell_type": "code",
   "execution_count": 8,
   "metadata": {},
   "outputs": [],
   "source": [
    "import FinanceDataReader as fdr\n",
    "import numpy as np\n",
    "import pandas as pd\n",
    "import pandas_datareader as pdr\n",
    "import matplotlib.pyplot as plt\n",
    "import plotly.express as px\n",
    "from sklearn.model_selection import train_test_split\n",
    "from sklearn.linear_model import LinearRegression\n",
    "from sklearn.metrics import mean_squared_error, r2_score\n",
    "from sklearn.model_selection import cross_val_score"
   ]
  },
  {
   "cell_type": "code",
   "execution_count": 12,
   "metadata": {},
   "outputs": [],
   "source": [
    "# 원유 데이터 불러오기\n",
    "_KOSPI = pd.read_csv('./csv/KOSPI.csv')\n",
    "_VIX = pd.read_csv('./csv/VIX.csv')\n",
    "\n",
    "# 날짜 데이터 정렬\n",
    "_KOSPI.sort_values('날짜', ascending=True, inplace=True)\n",
    "_VIX.sort_values('날짜', ascending=True, inplace=True)\n",
    "\n",
    "# 날짜 데이터 변환\n",
    "_KOSPI['날짜'] = _KOSPI['날짜'].str.replace(\" \",\"\")\n",
    "_KOSPI['날짜'] = _KOSPI['날짜'].str.replace(\"년\",\"-\")\n",
    "_KOSPI['날짜'] = _KOSPI['날짜'].str.replace(\"월\",\"-\")\n",
    "_KOSPI['날짜'] = _KOSPI['날짜'].str.replace(\"일\",\"\")\n",
    "_KOSPI['날짜'] = pd.to_datetime(_KOSPI['날짜'])\n",
    "_KOSPI['날짜'] = _KOSPI['날짜'].dt.strftime('%y/%m/%d')\n",
    "\n",
    "_VIX['날짜'] = _VIX['날짜'].str.replace(\" \",\"\")\n",
    "_VIX['날짜'] = _VIX['날짜'].str.replace(\"년\",\"-\")\n",
    "_VIX['날짜'] = _VIX['날짜'].str.replace(\"월\",\"-\")\n",
    "_VIX['날짜'] = _VIX['날짜'].str.replace(\"일\",\"\")\n",
    "_VIX['날짜'] = pd.to_datetime(_VIX['날짜'])\n",
    "_VIX['날짜'] = _VIX['날짜'].dt.strftime('%y/%m/%d')\n",
    "\n",
    "# 컬럼명 변경\n",
    "_KOSPI = _KOSPI.rename(columns={'날짜':'date', '종가':'Close'})\n",
    "_VIX = _VIX.rename(columns={'날짜':'date', '종가':'Close'})\n",
    "\n",
    "_KOSPI = _KOSPI[['date', 'Close']]\n",
    "_VIX = _VIX[['date', 'Close']]\n",
    "\n",
    "_KOSPI.to_csv('./csv/_KOSPI.csv')\n",
    "_VIX.to_csv('./csv/_VIX.csv')"
   ]
  }
 ],
 "metadata": {
  "interpreter": {
   "hash": "aee8b7b246df8f9039afb4144a1f6fd8d2ca17a180786b69acc140d282b71a49"
  },
  "kernelspec": {
   "display_name": "Python 3.10.2 64-bit",
   "language": "python",
   "name": "python3"
  },
  "language_info": {
   "codemirror_mode": {
    "name": "ipython",
    "version": 3
   },
   "file_extension": ".py",
   "mimetype": "text/x-python",
   "name": "python",
   "nbconvert_exporter": "python",
   "pygments_lexer": "ipython3",
   "version": "3.10.2"
  },
  "orig_nbformat": 4
 },
 "nbformat": 4,
 "nbformat_minor": 2
}
