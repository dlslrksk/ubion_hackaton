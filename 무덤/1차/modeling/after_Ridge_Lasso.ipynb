{
 "cells": [
  {
   "cell_type": "code",
   "execution_count": 1,
   "metadata": {},
   "outputs": [],
   "source": [
    "import pandas as pd\n",
    "import numpy as np\n",
    "import seaborn as sns\n",
    "from sklearn.linear_model import LinearRegression, Ridge, Lasso\n",
    "from sklearn.preprocessing import StandardScaler, MinMaxScaler\n",
    "from sklearn.model_selection import KFold, train_test_split\n",
    "from sklearn.metrics import mean_squared_error, r2_score\n",
    "import matplotlib.pyplot as plt\n",
    "from sklearn.ensemble import RandomForestRegressor\n",
    "import statsmodels.formula.api as sm\n",
    "import warnings\n",
    "warnings.filterwarnings('ignore')"
   ]
  },
  {
   "cell_type": "code",
   "execution_count": 2,
   "metadata": {},
   "outputs": [],
   "source": [
    "# MinMax, Standard 함수\n",
    "\n",
    "def minmax(data):\n",
    "    scaled = MinMaxScaler().fit_transform(data)\n",
    "    return scaled\n",
    "\n",
    "def standard(data):\n",
    "    scaled = StandardScaler().fit_transform(data)\n",
    "    return scaled\n",
    "\n",
    "def logscale(data):\n",
    "    scaled = np.log1p(data)\n",
    "    return scaled"
   ]
  },
  {
   "cell_type": "code",
   "execution_count": 3,
   "metadata": {},
   "outputs": [
    {
     "data": {
      "text/html": [
       "<div>\n",
       "<style scoped>\n",
       "    .dataframe tbody tr th:only-of-type {\n",
       "        vertical-align: middle;\n",
       "    }\n",
       "\n",
       "    .dataframe tbody tr th {\n",
       "        vertical-align: top;\n",
       "    }\n",
       "\n",
       "    .dataframe thead th {\n",
       "        text-align: right;\n",
       "    }\n",
       "</style>\n",
       "<table border=\"1\" class=\"dataframe\">\n",
       "  <thead>\n",
       "    <tr style=\"text-align: right;\">\n",
       "      <th></th>\n",
       "      <th>Date</th>\n",
       "      <th>ETF</th>\n",
       "      <th>WTI</th>\n",
       "      <th>ExchangeRate</th>\n",
       "      <th>Gold</th>\n",
       "      <th>Pork</th>\n",
       "      <th>ITA</th>\n",
       "    </tr>\n",
       "  </thead>\n",
       "  <tbody>\n",
       "    <tr>\n",
       "      <th>0</th>\n",
       "      <td>2021-11-01</td>\n",
       "      <td>10970</td>\n",
       "      <td>84.05</td>\n",
       "      <td>1177.5</td>\n",
       "      <td>67450</td>\n",
       "      <td>2393.0</td>\n",
       "      <td>105.36</td>\n",
       "    </tr>\n",
       "    <tr>\n",
       "      <th>1</th>\n",
       "      <td>2021-11-02</td>\n",
       "      <td>11175</td>\n",
       "      <td>83.91</td>\n",
       "      <td>1176.0</td>\n",
       "      <td>67760</td>\n",
       "      <td>2390.0</td>\n",
       "      <td>104.62</td>\n",
       "    </tr>\n",
       "    <tr>\n",
       "      <th>2</th>\n",
       "      <td>2021-11-03</td>\n",
       "      <td>11070</td>\n",
       "      <td>80.86</td>\n",
       "      <td>1183.5</td>\n",
       "      <td>67620</td>\n",
       "      <td>2376.0</td>\n",
       "      <td>105.46</td>\n",
       "    </tr>\n",
       "    <tr>\n",
       "      <th>3</th>\n",
       "      <td>2021-11-04</td>\n",
       "      <td>11000</td>\n",
       "      <td>78.81</td>\n",
       "      <td>1183.5</td>\n",
       "      <td>67400</td>\n",
       "      <td>2504.0</td>\n",
       "      <td>105.26</td>\n",
       "    </tr>\n",
       "    <tr>\n",
       "      <th>4</th>\n",
       "      <td>2021-11-05</td>\n",
       "      <td>10875</td>\n",
       "      <td>81.27</td>\n",
       "      <td>1184.5</td>\n",
       "      <td>68460</td>\n",
       "      <td>2515.0</td>\n",
       "      <td>108.96</td>\n",
       "    </tr>\n",
       "    <tr>\n",
       "      <th>...</th>\n",
       "      <td>...</td>\n",
       "      <td>...</td>\n",
       "      <td>...</td>\n",
       "      <td>...</td>\n",
       "      <td>...</td>\n",
       "      <td>...</td>\n",
       "      <td>...</td>\n",
       "    </tr>\n",
       "    <tr>\n",
       "      <th>93</th>\n",
       "      <td>2022-03-25</td>\n",
       "      <td>14535</td>\n",
       "      <td>113.90</td>\n",
       "      <td>1221.0</td>\n",
       "      <td>76670</td>\n",
       "      <td>2402.0</td>\n",
       "      <td>112.95</td>\n",
       "    </tr>\n",
       "    <tr>\n",
       "      <th>94</th>\n",
       "      <td>2022-03-28</td>\n",
       "      <td>14470</td>\n",
       "      <td>105.96</td>\n",
       "      <td>1225.0</td>\n",
       "      <td>76380</td>\n",
       "      <td>2393.0</td>\n",
       "      <td>111.43</td>\n",
       "    </tr>\n",
       "    <tr>\n",
       "      <th>95</th>\n",
       "      <td>2022-03-29</td>\n",
       "      <td>14350</td>\n",
       "      <td>104.24</td>\n",
       "      <td>1211.0</td>\n",
       "      <td>75440</td>\n",
       "      <td>2389.0</td>\n",
       "      <td>112.02</td>\n",
       "    </tr>\n",
       "    <tr>\n",
       "      <th>96</th>\n",
       "      <td>2022-03-30</td>\n",
       "      <td>14020</td>\n",
       "      <td>107.82</td>\n",
       "      <td>1210.5</td>\n",
       "      <td>74810</td>\n",
       "      <td>2367.0</td>\n",
       "      <td>112.24</td>\n",
       "    </tr>\n",
       "    <tr>\n",
       "      <th>97</th>\n",
       "      <td>2022-03-31</td>\n",
       "      <td>14235</td>\n",
       "      <td>100.28</td>\n",
       "      <td>1214.5</td>\n",
       "      <td>75060</td>\n",
       "      <td>2370.0</td>\n",
       "      <td>110.79</td>\n",
       "    </tr>\n",
       "  </tbody>\n",
       "</table>\n",
       "<p>98 rows × 7 columns</p>\n",
       "</div>"
      ],
      "text/plain": [
       "          Date    ETF     WTI  ExchangeRate   Gold    Pork     ITA\n",
       "0   2021-11-01  10970   84.05        1177.5  67450  2393.0  105.36\n",
       "1   2021-11-02  11175   83.91        1176.0  67760  2390.0  104.62\n",
       "2   2021-11-03  11070   80.86        1183.5  67620  2376.0  105.46\n",
       "3   2021-11-04  11000   78.81        1183.5  67400  2504.0  105.26\n",
       "4   2021-11-05  10875   81.27        1184.5  68460  2515.0  108.96\n",
       "..         ...    ...     ...           ...    ...     ...     ...\n",
       "93  2022-03-25  14535  113.90        1221.0  76670  2402.0  112.95\n",
       "94  2022-03-28  14470  105.96        1225.0  76380  2393.0  111.43\n",
       "95  2022-03-29  14350  104.24        1211.0  75440  2389.0  112.02\n",
       "96  2022-03-30  14020  107.82        1210.5  74810  2367.0  112.24\n",
       "97  2022-03-31  14235  100.28        1214.5  75060  2370.0  110.79\n",
       "\n",
       "[98 rows x 7 columns]"
      ]
     },
     "execution_count": 3,
     "metadata": {},
     "output_type": "execute_result"
    }
   ],
   "source": [
    "after = pd.read_csv('../data_merge/after_data.csv')\n",
    "after_data = after.drop(['Date','ETF'], axis=1)\n",
    "after_target = after['ETF']\n",
    "after"
   ]
  },
  {
   "cell_type": "markdown",
   "metadata": {},
   "source": [
    "### Ridge"
   ]
  },
  {
   "cell_type": "code",
   "execution_count": 5,
   "metadata": {},
   "outputs": [
    {
     "name": "stdout",
     "output_type": "stream",
     "text": [
      "mse : 167822.1789487545 \n",
      "rmse : 409.6610537368112 \n",
      "r2 : 0.928312935071869\n"
     ]
    }
   ],
   "source": [
    "## Ridge 0\n",
    "after = pd.read_csv('../data_merge/after_data.csv')\n",
    "after_data = after.drop(['Date','ETF'], axis=1)\n",
    "after_target = after['ETF']\n",
    "after\n",
    "x_train, x_test, y_train, y_test = train_test_split(after_data,after_target,\n",
    "                                test_size=0.2,\n",
    "                                random_state=42)\n",
    "\n",
    "rg = Ridge(alpha=0)\n",
    "rg.fit(x_train, y_train)\n",
    "pred = rg.predict(x_test)\n",
    "mse = mean_squared_error(y_test, pred)\n",
    "rmse = np.sqrt(mse)\n",
    "r2 = r2_score(y_test, pred)\n",
    "print(f'mse : {mse} \\nrmse : {rmse} \\nr2 : {r2}')"
   ]
  },
  {
   "cell_type": "code",
   "execution_count": 8,
   "metadata": {},
   "outputs": [
    {
     "name": "stdout",
     "output_type": "stream",
     "text": [
      "mse : 260632.4341333573 \n",
      "rmse : 510.52172738616844 \n",
      "r2 : -0.20210155918456452\n"
     ]
    }
   ],
   "source": [
    "## Ridge 0\n",
    "after = pd.read_csv('../data_merge/after_data.csv')\n",
    "after_data = after.drop(['Date','ETF'], axis=1)\n",
    "after_target = after['ETF']\n",
    "len_ = len(after_data)\n",
    "x_train, x_test, y_train, y_test = after_data.loc[:(len_*0.8)], after_data.loc[(len_*0.8):], after_target.loc[:(len_*0.8)], after_target.loc[(len_*0.8):]\n",
    "\n",
    "rg = Ridge(alpha=0)\n",
    "rg.fit(x_train, y_train)\n",
    "pred = rg.predict(x_test)\n",
    "mse = mean_squared_error(y_test, pred)\n",
    "rmse = np.sqrt(mse)\n",
    "r2 = r2_score(y_test, pred)\n",
    "print(f'mse : {mse} \\nrmse : {rmse} \\nr2 : {r2}')"
   ]
  },
  {
   "cell_type": "code",
   "execution_count": 6,
   "metadata": {},
   "outputs": [
    {
     "name": "stdout",
     "output_type": "stream",
     "text": [
      "mse : 167822.1789487545 \n",
      "rmse : 409.6610537368112 \n",
      "r2 : 0.928312935071869\n"
     ]
    }
   ],
   "source": [
    "## Ridge 0.1\n",
    "after = pd.read_csv('../data_merge/after_data.csv')\n",
    "after_data = after.drop(['Date','ETF'], axis=1)\n",
    "after_target = after['ETF']\n",
    "after\n",
    "x_train, x_test, y_train, y_test = train_test_split(after_data,after_target,\n",
    "                                test_size=0.2,\n",
    "                                random_state=42)\n",
    "\n",
    "rg1 = Ridge(alpha=0.1)\n",
    "rg1.fit(x_train, y_train)\n",
    "pred = rg1.predict(x_test)\n",
    "mse = mean_squared_error(y_test, pred)\n",
    "rmse = np.sqrt(mse)\n",
    "r2 = r2_score(y_test, pred)\n",
    "print(f'mse : {mse} \\nrmse : {rmse} \\nr2 : {r2}')"
   ]
  },
  {
   "cell_type": "code",
   "execution_count": 7,
   "metadata": {},
   "outputs": [
    {
     "name": "stdout",
     "output_type": "stream",
     "text": [
      "mse : 161075.18605917873 \n",
      "rmse : 401.3417322671276 \n",
      "r2 : 0.9311949863023702\n"
     ]
    }
   ],
   "source": [
    "## Ridge 100\n",
    "after = pd.read_csv('../data_merge/after_data.csv')\n",
    "after_data = after.drop(['Date','ETF'], axis=1)\n",
    "after_target = after['ETF']\n",
    "after\n",
    "x_train, x_test, y_train, y_test = train_test_split(after_data,after_target,\n",
    "                                test_size=0.2,\n",
    "                                random_state=42)\n",
    "\n",
    "rg2 = Ridge(alpha=100)\n",
    "rg2.fit(x_train, y_train)\n",
    "pred = rg2.predict(x_test)\n",
    "mse = mean_squared_error(y_test, pred)\n",
    "rmse = np.sqrt(mse)\n",
    "r2 = r2_score(y_test, pred)\n",
    "print(f'mse : {mse} \\nrmse : {rmse} \\nr2 : {r2}')"
   ]
  },
  {
   "cell_type": "code",
   "execution_count": 10,
   "metadata": {},
   "outputs": [
    {
     "name": "stdout",
     "output_type": "stream",
     "text": [
      "\n",
      "NO Scaler\n",
      "mse : 170436.78852597057 \n",
      "rmse : 412.8399066538633 \n",
      "r2 : 0.9179543593745981\n",
      "\n",
      "After MinMaxScaler\n",
      "mse : 170436.78852597057 \n",
      "rmse : 412.8399066538633 \n",
      "r2 : 0.9179543593745981\n",
      "\n",
      "After StandarScaler\n",
      "mse : 170436.78852597057 \n",
      "rmse : 412.8399066538633 \n",
      "r2 : 0.9179543593745981\n",
      "\n",
      "After log\n",
      "mse : 170436.78852597057 \n",
      "rmse : 412.8399066538633 \n",
      "r2 : 0.9179543593745981\n"
     ]
    }
   ],
   "source": [
    "## normal\n",
    "after = pd.read_csv('../data_merge/after_data.csv')\n",
    "after_data = after.drop(['Date','ETF'], axis=1)\n",
    "after_target = after['ETF']\n",
    "after\n",
    "\n",
    "print(\"\\nNO Scaler\")\n",
    "x_train, x_test, y_train, y_test = train_test_split(after_data, after_target,\n",
    "                                test_size=0.2,\n",
    "                                random_state=123)\n",
    "\n",
    "rg = Ridge(alpha=0)\n",
    "rg.fit(x_train, y_train)\n",
    "pred = rg.predict(x_test)\n",
    "mse = mean_squared_error(y_test, pred)\n",
    "rmse = np.sqrt(mse)\n",
    "r2 = r2_score(y_test, pred)\n",
    "print(f'mse : {mse} \\nrmse : {rmse} \\nr2 : {r2}')\n",
    "\n",
    "## After MinMaxScaler\n",
    "print(\"\\nAfter MinMaxScaler\")\n",
    "x_train, x_test, y_train, y_test = train_test_split(after_data, after_target,\n",
    "                                test_size=0.2,\n",
    "                                random_state=123)\n",
    "\n",
    "x_train_minmax = minmax(x_train)\n",
    "x_test_minmax = minmax(x_test)\n",
    "\n",
    "rg = Ridge(alpha=0)\n",
    "rg.fit(x_train, y_train)\n",
    "pred = rg.predict(x_test)\n",
    "mse = mean_squared_error(y_test, pred)\n",
    "rmse = np.sqrt(mse)\n",
    "r2 = r2_score(y_test, pred)\n",
    "print(f'mse : {mse} \\nrmse : {rmse} \\nr2 : {r2}')\n",
    "\n",
    "## After StandarScaler\n",
    "print(\"\\nAfter StandarScaler\")\n",
    "x_train, x_test, y_train, y_test = train_test_split(after_data, after_target,\n",
    "                                test_size=0.2,\n",
    "                                random_state=123)\n",
    "\n",
    "x_train_standard = standard(x_train)\n",
    "x_test_standard = standard(x_test)\n",
    "\n",
    "rg = Ridge(alpha=0)\n",
    "rg.fit(x_train, y_train)\n",
    "pred = rg.predict(x_test)\n",
    "mse = mean_squared_error(y_test, pred)\n",
    "rmse = np.sqrt(mse)\n",
    "r2 = r2_score(y_test, pred)\n",
    "print(f'mse : {mse} \\nrmse : {rmse} \\nr2 : {r2}')\n",
    "\n",
    "## After log\n",
    "print(\"\\nAfter log\")\n",
    "x_train, x_test, y_train, y_test = train_test_split(after_data, after_target,\n",
    "                                test_size=0.2,\n",
    "                                random_state=123)\n",
    "\n",
    "x_train_log = logscale(x_train)\n",
    "x_test_log = logscale(x_test)\n",
    "\n",
    "rg = Ridge(alpha=0)\n",
    "rg.fit(x_train, y_train)\n",
    "pred = rg.predict(x_test)\n",
    "mse = mean_squared_error(y_test, pred)\n",
    "rmse = np.sqrt(mse)\n",
    "r2 = r2_score(y_test, pred)\n",
    "print(f'mse : {mse} \\nrmse : {rmse} \\nr2 : {r2}')"
   ]
  },
  {
   "cell_type": "code",
   "execution_count": 4,
   "metadata": {},
   "outputs": [],
   "source": [
    "import scale_model_\n",
    "a = scale_model_.complex(after_data, after_target)\n"
   ]
  },
  {
   "cell_type": "code",
   "execution_count": 6,
   "metadata": {},
   "outputs": [
    {
     "name": "stdout",
     "output_type": "stream",
     "text": [
      "Ridge\n",
      "NO Scaler with alpha : 1\n",
      "mse : 170349.8884639077 \n",
      "rmse : 412.7346465513983 \n",
      "r2 : 0.9179961917238462 \n",
      "coef : [ 58.81449613  19.69557336   0.16840359   1.15674478 -31.84400298] \n",
      "intercept : -27937.591620185765\n"
     ]
    }
   ],
   "source": [
    "a.Regression_(model='Ridge')"
   ]
  },
  {
   "cell_type": "markdown",
   "metadata": {},
   "source": [
    "### Lasso"
   ]
  },
  {
   "cell_type": "code",
   "execution_count": 7,
   "metadata": {},
   "outputs": [
    {
     "name": "stdout",
     "output_type": "stream",
     "text": [
      "mse : 167831.68721926614 \n",
      "rmse : 409.6726586181535 \n",
      "r2 : 0.928308873510937\n"
     ]
    }
   ],
   "source": [
    "## Lasso\n",
    "after = pd.read_csv('../data_merge/after_data.csv')\n",
    "after_data = after.drop(['Date','ETF'], axis=1)\n",
    "after_target = after['ETF']\n",
    "after\n",
    "x_train, x_test, y_train, y_test = train_test_split(after_data,after_target,\n",
    "                                test_size=0.2,\n",
    "                                random_state=42)\n",
    "\n",
    "ls = Lasso(alpha=0)\n",
    "ls.fit(x_train, y_train)\n",
    "pred = ls.predict(x_test)\n",
    "mse = mean_squared_error(y_test, pred)\n",
    "rmse = np.sqrt(mse)\n",
    "r2 = r2_score(y_test, pred)\n",
    "print(f'mse : {mse} \\nrmse : {rmse} \\nr2 : {r2}')"
   ]
  },
  {
   "cell_type": "code",
   "execution_count": 6,
   "metadata": {},
   "outputs": [
    {
     "name": "stdout",
     "output_type": "stream",
     "text": [
      "mse : 167812.3032101725 \n",
      "rmse : 409.6490000111956 \n",
      "r2 : 0.9283171536007748\n"
     ]
    }
   ],
   "source": [
    "## Lasso 0.1\n",
    "after = pd.read_csv('../data_merge/after_data.csv')\n",
    "after_data = after.drop(['Date','ETF'], axis=1)\n",
    "after_target = after['ETF']\n",
    "after\n",
    "x_train, x_test, y_train, y_test = train_test_split(after_data,after_target,\n",
    "                                test_size=0.2,\n",
    "                                random_state=42)\n",
    "\n",
    "ls1 = Lasso(alpha=0.1)\n",
    "ls1.fit(x_train, y_train)\n",
    "pred = ls1.predict(x_test)\n",
    "mse = mean_squared_error(y_test, pred)\n",
    "rmse = np.sqrt(mse)\n",
    "r2 = r2_score(y_test, pred)\n",
    "print(f'mse : {mse} \\nrmse : {rmse} \\nr2 : {r2}')"
   ]
  },
  {
   "cell_type": "code",
   "execution_count": 5,
   "metadata": {},
   "outputs": [
    {
     "name": "stdout",
     "output_type": "stream",
     "text": [
      "mse : 154538.3101856396 \n",
      "rmse : 393.1136097690331 \n",
      "r2 : 0.9339872837693017\n"
     ]
    }
   ],
   "source": [
    "## Lasso 100\n",
    "after = pd.read_csv('../data_merge/after_data.csv')\n",
    "after_data = after.drop(['Date','ETF'], axis=1)\n",
    "after_target = after['ETF']\n",
    "after\n",
    "x_train, x_test, y_train, y_test = train_test_split(after_data,after_target,\n",
    "                                test_size=0.2,\n",
    "                                random_state=42)\n",
    "\n",
    "ls2 = Lasso(alpha=100)\n",
    "ls2.fit(x_train, y_train)\n",
    "pred = ls2.predict(x_test)\n",
    "mse = mean_squared_error(y_test, pred)\n",
    "rmse = np.sqrt(mse)\n",
    "r2 = r2_score(y_test, pred)\n",
    "print(f'mse : {mse} \\nrmse : {rmse} \\nr2 : {r2}')"
   ]
  },
  {
   "cell_type": "code",
   "execution_count": 11,
   "metadata": {},
   "outputs": [
    {
     "name": "stdout",
     "output_type": "stream",
     "text": [
      "\n",
      "NO Scaler\n",
      "mse : 170436.7885259708 \n",
      "rmse : 412.8399066538636 \n",
      "r2 : 0.917954359374598\n",
      "\n",
      "After MinMaxScaler\n",
      "mse : 170436.7885259708 \n",
      "rmse : 412.8399066538636 \n",
      "r2 : 0.917954359374598\n",
      "\n",
      "After StandarScaler\n",
      "mse : 170436.7885259708 \n",
      "rmse : 412.8399066538636 \n",
      "r2 : 0.917954359374598\n",
      "\n",
      "After log\n",
      "mse : 170436.7885259708 \n",
      "rmse : 412.8399066538636 \n",
      "r2 : 0.917954359374598\n"
     ]
    }
   ],
   "source": [
    "## normal\n",
    "after = pd.read_csv('../data_merge/after_data.csv')\n",
    "after_data = after.drop(['Date','ETF'], axis=1)\n",
    "after_target = after['ETF']\n",
    "after\n",
    "\n",
    "print(\"\\nNO Scaler\")\n",
    "x_train, x_test, y_train, y_test = train_test_split(after_data, after_target,\n",
    "                                test_size=0.2,\n",
    "                                random_state=123)\n",
    "\n",
    "ls = Lasso(alpha=0)\n",
    "ls.fit(x_train, y_train)\n",
    "pred = ls.predict(x_test)\n",
    "mse = mean_squared_error(y_test, pred)\n",
    "rmse = np.sqrt(mse)\n",
    "r2 = r2_score(y_test, pred)\n",
    "print(f'mse : {mse} \\nrmse : {rmse} \\nr2 : {r2}')\n",
    "\n",
    "## After MinMaxScaler\n",
    "print(\"\\nAfter MinMaxScaler\")\n",
    "x_train, x_test, y_train, y_test = train_test_split(after_data, after_target,\n",
    "                                test_size=0.2,\n",
    "                                random_state=123)\n",
    "\n",
    "x_train_minmax = minmax(x_train)\n",
    "x_test_minmax = minmax(x_test)\n",
    "\n",
    "ls = Lasso(alpha=0)\n",
    "ls.fit(x_train, y_train)\n",
    "pred = ls.predict(x_test)\n",
    "mse = mean_squared_error(y_test, pred)\n",
    "rmse = np.sqrt(mse)\n",
    "r2 = r2_score(y_test, pred)\n",
    "print(f'mse : {mse} \\nrmse : {rmse} \\nr2 : {r2}')\n",
    "\n",
    "## After StandarScaler\n",
    "print(\"\\nAfter StandarScaler\")\n",
    "x_train, x_test, y_train, y_test = train_test_split(after_data, after_target,\n",
    "                                test_size=0.2,\n",
    "                                random_state=123)\n",
    "\n",
    "x_train_standard = standard(x_train)\n",
    "x_test_standard = standard(x_test)\n",
    "\n",
    "ls = Lasso(alpha=0)\n",
    "ls.fit(x_train, y_train)\n",
    "pred = ls.predict(x_test)\n",
    "mse = mean_squared_error(y_test, pred)\n",
    "rmse = np.sqrt(mse)\n",
    "r2 = r2_score(y_test, pred)\n",
    "print(f'mse : {mse} \\nrmse : {rmse} \\nr2 : {r2}')\n",
    "\n",
    "## After log\n",
    "print(\"\\nAfter log\")\n",
    "x_train, x_test, y_train, y_test = train_test_split(after_data, after_target,\n",
    "                                test_size=0.2,\n",
    "                                random_state=123)\n",
    "\n",
    "x_train_log = logscale(x_train)\n",
    "x_test_log = logscale(x_test)\n",
    "\n",
    "ls = Lasso(alpha=0)\n",
    "ls.fit(x_train, y_train)\n",
    "pred = ls.predict(x_test)\n",
    "mse = mean_squared_error(y_test, pred)\n",
    "rmse = np.sqrt(mse)\n",
    "r2 = r2_score(y_test, pred)\n",
    "print(f'mse : {mse} \\nrmse : {rmse} \\nr2 : {r2}')"
   ]
  },
  {
   "cell_type": "code",
   "execution_count": 4,
   "metadata": {},
   "outputs": [],
   "source": [
    "import scale_model_\n",
    "a = scale_model_.complex(after_data, after_target)"
   ]
  },
  {
   "cell_type": "code",
   "execution_count": 5,
   "metadata": {},
   "outputs": [
    {
     "name": "stdout",
     "output_type": "stream",
     "text": [
      "Lasso\n",
      "NO Scaler with alpha : 1\n",
      "mse : 170275.0772643935 \n",
      "rmse : 412.6440079104427 \n",
      "r2 : 0.9180322046811612 \n",
      "coef : [ 58.78004578  19.69092946   0.16846512   1.15635752 -31.74228841] \n",
      "intercept : -27943.144736715873\n"
     ]
    }
   ],
   "source": [
    "a.Regression_(model='Lasso', max_iter=1000)"
   ]
  },
  {
   "cell_type": "code",
   "execution_count": 6,
   "metadata": {},
   "outputs": [
    {
     "name": "stdout",
     "output_type": "stream",
     "text": [
      "mse : 170420.5592730235 \n",
      "rmse : 412.8202505607295 \n",
      "r2 : 0.9179621718865941 \n",
      "coef : [ 58.85590073  19.69339768   0.16833015   1.15730326 -31.92331002] \n",
      "intercept : -27926.407435553843\n"
     ]
    }
   ],
   "source": [
    "x_train, x_test, y_train, y_test = train_test_split(after_data, after_target,\n",
    "                                test_size=0.2,\n",
    "                                random_state=123)\n",
    "model = Lasso(alpha = 0.1, max_iter=1000)\n",
    "model.fit(x_train, y_train)\n",
    "pred = model.predict(x_test)\n",
    "mse = mean_squared_error(y_test, pred)\n",
    "rmse = np.sqrt(mse)\n",
    "r2 = r2_score(y_test, pred)\n",
    "print(f'mse : {mse} \\nrmse : {rmse} \\nr2 : {r2} \\ncoef : {model.coef_} \\nintercept : {model.intercept_}')"
   ]
  },
  {
   "cell_type": "code",
   "execution_count": null,
   "metadata": {},
   "outputs": [],
   "source": []
  }
 ],
 "metadata": {
  "interpreter": {
   "hash": "bb0cbac54d6cdbae60be2e6d83bf46fb7f752717ca2d60c579508701c83844df"
  },
  "kernelspec": {
   "display_name": "Python 3.10.1 64-bit",
   "language": "python",
   "name": "python3"
  },
  "language_info": {
   "codemirror_mode": {
    "name": "ipython",
    "version": 3
   },
   "file_extension": ".py",
   "mimetype": "text/x-python",
   "name": "python",
   "nbconvert_exporter": "python",
   "pygments_lexer": "ipython3",
   "version": "3.10.1"
  },
  "orig_nbformat": 4
 },
 "nbformat": 4,
 "nbformat_minor": 2
}
