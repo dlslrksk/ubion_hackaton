{
 "cells": [
  {
   "cell_type": "code",
   "execution_count": 28,
   "metadata": {},
   "outputs": [],
   "source": [
    "# 회귀분석\n",
    "\n",
    "# 회귀는 여러 개의 독립변수와 한 개의 종속변수 간의 상관관계를 모델링하는 기법을 통칭\n",
    "# 머신러닝 회귀 예측의 핵심은 주어진 피처와 결정 값 데이터 기반에서 학습을 통해 최적의 회귀 계수를 찾아내는 것\n",
    "\n",
    "# 회귀는 회귀 계수의 선형/비선형 여부, 독립변수의 개수, 종속변수의 개수에 따라 여러 가지 유형으로 나눌 수 있음\n",
    "\n",
    "# 일반 선형 회귀 : 예측값과 실제값의 RSS를 최소화할 수 있도록 회귀계수를 최적화화며, 규제를 적용하지 않은 모델\n",
    "# 릿지 : 선형 회귀에 L2 규제 추가\n",
    "# 라쏘 : 선형 회귀에 L1 규제 적용\n",
    "# 엘라스틱넷 : L2, L1 규제를 결합한 모델"
   ]
  },
  {
   "cell_type": "code",
   "execution_count": 29,
   "metadata": {},
   "outputs": [],
   "source": [
    "# RSS\n",
    "\n",
    "# 오류 값의 제곱을 구해서 더하는 방식\n",
    "# 일반적으로 미분 등의 계산을 편리하게 하기 위해서 RSS 방식으로 오류 합을 구함\n",
    "\n",
    "# 회귀식의 독립변수X, 종속변수 Y가 중심 변수가 아니라 w변수(회귀 계수)가 중심 변수임을 인지\n",
    "\n",
    "# 비용함수, 손실함수\n",
    "# 비용최소화 >> 경사하강법\n",
    "\n",
    "# 다중공선성 문제"
   ]
  },
  {
   "cell_type": "code",
   "execution_count": 30,
   "metadata": {},
   "outputs": [],
   "source": [
    "# 회귀평가\n",
    "\n",
    "# MAE : metrics.mean_absolute_error : 'neg_mean_absolute_error'\n",
    "# MSE : metrics.mean_squared_error : 'neg_mean_squared_error'\n",
    "# R제곱 : metrics.r2_socre : 'r2'"
   ]
  },
  {
   "cell_type": "markdown",
   "metadata": {},
   "source": [
    "### 전쟁충격으로 인한 농산물 가격변화"
   ]
  },
  {
   "cell_type": "code",
   "execution_count": 41,
   "metadata": {},
   "outputs": [
    {
     "name": "stdout",
     "output_type": "stream",
     "text": [
      "(98, 7)\n"
     ]
    },
    {
     "data": {
      "text/html": [
       "<div>\n",
       "<style scoped>\n",
       "    .dataframe tbody tr th:only-of-type {\n",
       "        vertical-align: middle;\n",
       "    }\n",
       "\n",
       "    .dataframe tbody tr th {\n",
       "        vertical-align: top;\n",
       "    }\n",
       "\n",
       "    .dataframe thead th {\n",
       "        text-align: right;\n",
       "    }\n",
       "</style>\n",
       "<table border=\"1\" class=\"dataframe\">\n",
       "  <thead>\n",
       "    <tr style=\"text-align: right;\">\n",
       "      <th></th>\n",
       "      <th>Date</th>\n",
       "      <th>ETF</th>\n",
       "      <th>WTI</th>\n",
       "      <th>ExchangeRate</th>\n",
       "      <th>Gold</th>\n",
       "      <th>Pork</th>\n",
       "      <th>ITA</th>\n",
       "    </tr>\n",
       "  </thead>\n",
       "  <tbody>\n",
       "    <tr>\n",
       "      <th>0</th>\n",
       "      <td>2020-11-02</td>\n",
       "      <td>8045</td>\n",
       "      <td>36.81</td>\n",
       "      <td>1135.5</td>\n",
       "      <td>68650</td>\n",
       "      <td>2062.0</td>\n",
       "      <td>77.44</td>\n",
       "    </tr>\n",
       "    <tr>\n",
       "      <th>1</th>\n",
       "      <td>2020-11-03</td>\n",
       "      <td>8120</td>\n",
       "      <td>37.66</td>\n",
       "      <td>1133.0</td>\n",
       "      <td>69010</td>\n",
       "      <td>2061.0</td>\n",
       "      <td>79.91</td>\n",
       "    </tr>\n",
       "    <tr>\n",
       "      <th>2</th>\n",
       "      <td>2020-11-04</td>\n",
       "      <td>8165</td>\n",
       "      <td>39.15</td>\n",
       "      <td>1140.0</td>\n",
       "      <td>69400</td>\n",
       "      <td>2039.0</td>\n",
       "      <td>79.87</td>\n",
       "    </tr>\n",
       "  </tbody>\n",
       "</table>\n",
       "</div>"
      ],
      "text/plain": [
       "         Date   ETF    WTI  ExchangeRate   Gold    Pork    ITA\n",
       "0  2020-11-02  8045  36.81        1135.5  68650  2062.0  77.44\n",
       "1  2020-11-03  8120  37.66        1133.0  69010  2061.0  79.91\n",
       "2  2020-11-04  8165  39.15        1140.0  69400  2039.0  79.87"
      ]
     },
     "execution_count": 41,
     "metadata": {},
     "output_type": "execute_result"
    }
   ],
   "source": [
    "# 데이터 확인\n",
    "\n",
    "import numpy as np\n",
    "import pandas as pd\n",
    "import seaborn as sns\n",
    "import matplotlib.pyplot as plt\n",
    "from sklearn.model_selection import train_test_split\n",
    "from sklearn.linear_model import LinearRegression\n",
    "from sklearn.metrics import mean_squared_error, r2_score\n",
    "from sklearn.model_selection import cross_val_score\n",
    "%matplotlib inline\n",
    "\n",
    "import warnings\n",
    "warnings.filterwarnings('ignore', category=RuntimeWarning)\n",
    "\n",
    "before_df = pd.read_csv('../data_merge/before_data.csv')\n",
    "after_df = pd.read_csv('../data_merge/after_data.csv')\n",
    "\n",
    "print(before_df.shape)\n",
    "before_df.head(3)"
   ]
  },
  {
   "cell_type": "code",
   "execution_count": 42,
   "metadata": {},
   "outputs": [
    {
     "name": "stdout",
     "output_type": "stream",
     "text": [
      "<class 'pandas.core.frame.DataFrame'>\n",
      "RangeIndex: 98 entries, 0 to 97\n",
      "Data columns (total 7 columns):\n",
      " #   Column        Non-Null Count  Dtype  \n",
      "---  ------        --------------  -----  \n",
      " 0   Date          98 non-null     object \n",
      " 1   ETF           98 non-null     int64  \n",
      " 2   WTI           98 non-null     float64\n",
      " 3   ExchangeRate  98 non-null     float64\n",
      " 4   Gold          98 non-null     int64  \n",
      " 5   Pork          98 non-null     float64\n",
      " 6   ITA           98 non-null     float64\n",
      "dtypes: float64(4), int64(2), object(1)\n",
      "memory usage: 5.5+ KB\n"
     ]
    }
   ],
   "source": [
    "# 데이터 타입, null값 확인\n",
    "\n",
    "before_df.info()"
   ]
  },
  {
   "cell_type": "code",
   "execution_count": 48,
   "metadata": {},
   "outputs": [
    {
     "data": {
      "text/html": [
       "<div>\n",
       "<style scoped>\n",
       "    .dataframe tbody tr th:only-of-type {\n",
       "        vertical-align: middle;\n",
       "    }\n",
       "\n",
       "    .dataframe tbody tr th {\n",
       "        vertical-align: top;\n",
       "    }\n",
       "\n",
       "    .dataframe thead th {\n",
       "        text-align: right;\n",
       "    }\n",
       "</style>\n",
       "<table border=\"1\" class=\"dataframe\">\n",
       "  <thead>\n",
       "    <tr style=\"text-align: right;\">\n",
       "      <th></th>\n",
       "      <th>Date</th>\n",
       "      <th>ETF</th>\n",
       "      <th>WTI</th>\n",
       "      <th>ExchangeRate</th>\n",
       "      <th>Gold</th>\n",
       "      <th>Pork</th>\n",
       "      <th>ITA</th>\n",
       "    </tr>\n",
       "  </thead>\n",
       "  <tbody>\n",
       "    <tr>\n",
       "      <th>0</th>\n",
       "      <td>2020-11-02</td>\n",
       "      <td>8045</td>\n",
       "      <td>36.81</td>\n",
       "      <td>1135.5</td>\n",
       "      <td>68650</td>\n",
       "      <td>2062.0</td>\n",
       "      <td>77.44</td>\n",
       "    </tr>\n",
       "    <tr>\n",
       "      <th>1</th>\n",
       "      <td>2020-11-03</td>\n",
       "      <td>8120</td>\n",
       "      <td>37.66</td>\n",
       "      <td>1133.0</td>\n",
       "      <td>69010</td>\n",
       "      <td>2061.0</td>\n",
       "      <td>79.91</td>\n",
       "    </tr>\n",
       "    <tr>\n",
       "      <th>2</th>\n",
       "      <td>2020-11-04</td>\n",
       "      <td>8165</td>\n",
       "      <td>39.15</td>\n",
       "      <td>1140.0</td>\n",
       "      <td>69400</td>\n",
       "      <td>2039.0</td>\n",
       "      <td>79.87</td>\n",
       "    </tr>\n",
       "    <tr>\n",
       "      <th>3</th>\n",
       "      <td>2020-11-05</td>\n",
       "      <td>8335</td>\n",
       "      <td>38.79</td>\n",
       "      <td>1127.5</td>\n",
       "      <td>69250</td>\n",
       "      <td>2186.0</td>\n",
       "      <td>80.80</td>\n",
       "    </tr>\n",
       "    <tr>\n",
       "      <th>4</th>\n",
       "      <td>2020-11-06</td>\n",
       "      <td>8355</td>\n",
       "      <td>37.14</td>\n",
       "      <td>1122.5</td>\n",
       "      <td>69930</td>\n",
       "      <td>2181.0</td>\n",
       "      <td>80.73</td>\n",
       "    </tr>\n",
       "    <tr>\n",
       "      <th>...</th>\n",
       "      <td>...</td>\n",
       "      <td>...</td>\n",
       "      <td>...</td>\n",
       "      <td>...</td>\n",
       "      <td>...</td>\n",
       "      <td>...</td>\n",
       "      <td>...</td>\n",
       "    </tr>\n",
       "    <tr>\n",
       "      <th>93</th>\n",
       "      <td>2021-03-25</td>\n",
       "      <td>10045</td>\n",
       "      <td>58.56</td>\n",
       "      <td>1136.1</td>\n",
       "      <td>63220</td>\n",
       "      <td>2124.0</td>\n",
       "      <td>102.28</td>\n",
       "    </tr>\n",
       "    <tr>\n",
       "      <th>94</th>\n",
       "      <td>2021-03-26</td>\n",
       "      <td>9985</td>\n",
       "      <td>60.97</td>\n",
       "      <td>1131.5</td>\n",
       "      <td>62770</td>\n",
       "      <td>2124.0</td>\n",
       "      <td>102.64</td>\n",
       "    </tr>\n",
       "    <tr>\n",
       "      <th>95</th>\n",
       "      <td>2021-03-29</td>\n",
       "      <td>9950</td>\n",
       "      <td>61.56</td>\n",
       "      <td>1133.5</td>\n",
       "      <td>62840</td>\n",
       "      <td>2151.0</td>\n",
       "      <td>103.18</td>\n",
       "    </tr>\n",
       "    <tr>\n",
       "      <th>96</th>\n",
       "      <td>2021-03-30</td>\n",
       "      <td>9880</td>\n",
       "      <td>60.55</td>\n",
       "      <td>1134.5</td>\n",
       "      <td>62110</td>\n",
       "      <td>2157.0</td>\n",
       "      <td>103.84</td>\n",
       "    </tr>\n",
       "    <tr>\n",
       "      <th>97</th>\n",
       "      <td>2021-03-31</td>\n",
       "      <td>9735</td>\n",
       "      <td>59.16</td>\n",
       "      <td>1129.5</td>\n",
       "      <td>61400</td>\n",
       "      <td>2163.0</td>\n",
       "      <td>104.11</td>\n",
       "    </tr>\n",
       "  </tbody>\n",
       "</table>\n",
       "<p>98 rows × 7 columns</p>\n",
       "</div>"
      ],
      "text/plain": [
       "         Date    ETF    WTI  ExchangeRate   Gold    Pork     ITA\n",
       "0  2020-11-02   8045  36.81        1135.5  68650  2062.0   77.44\n",
       "1  2020-11-03   8120  37.66        1133.0  69010  2061.0   79.91\n",
       "2  2020-11-04   8165  39.15        1140.0  69400  2039.0   79.87\n",
       "3  2020-11-05   8335  38.79        1127.5  69250  2186.0   80.80\n",
       "4  2020-11-06   8355  37.14        1122.5  69930  2181.0   80.73\n",
       "..        ...    ...    ...           ...    ...     ...     ...\n",
       "93 2021-03-25  10045  58.56        1136.1  63220  2124.0  102.28\n",
       "94 2021-03-26   9985  60.97        1131.5  62770  2124.0  102.64\n",
       "95 2021-03-29   9950  61.56        1133.5  62840  2151.0  103.18\n",
       "96 2021-03-30   9880  60.55        1134.5  62110  2157.0  103.84\n",
       "97 2021-03-31   9735  59.16        1129.5  61400  2163.0  104.11\n",
       "\n",
       "[98 rows x 7 columns]"
      ]
     },
     "execution_count": 48,
     "metadata": {},
     "output_type": "execute_result"
    }
   ],
   "source": [
    "# 데이터 타입 변경 삭제\n",
    "\n",
    "# 문자열을 datetime 타입으로 변경\n",
    "before_df['Date'] = pd.to_datetime(before_df['Date'])\n",
    "\n",
    "# # datetime 타입에서 년, 월, 일, 시간 추출1\n",
    "# bike_df['year'] = pd.DatetimeIndex(bike_df['datetime']).year\n",
    "# bike_df['month'] = pd.DatetimeIndex(bike_df['datetime']).month\n",
    "# bike_df['day'] = pd.DatetimeIndex(bike_df['datetime']).day\n",
    "# bike_df['hour'] = pd.DatetimeIndex(bike_df['datetime']).hour\n",
    "\n",
    "# # datetime 타입에서 년, 월, 일, 시간 추출2\n",
    "# bike_df['year'] = bike_df['datetime'].dt.strftime('%Y')\n",
    "# bike_df['month'] = bike_df['datetime'].dt.strftime('%m')\n",
    "# bike_df['day'] = bike_df['datetime'].dt.strftime('%d')\n",
    "# bike_df['hour'] = bike_df['datetime'].dt.strftime('%H')\n",
    "\n",
    "\n",
    "# # datetime 타입에서 년, 월, 일, 시간 추출3\n",
    "# before_df['year'] = before_df.datetime.apply(lambda x : x.year)\n",
    "# before_df['month'] = before_df.datetime.apply(lambda x : x.month)\n",
    "# before_df['day'] = before_df.datetime.apply(lambda x : x.day)\n",
    "# before_df['hour'] = before_df.datetime.apply(lambda x : x.hour)\n",
    "\n",
    "before_df"
   ]
  },
  {
   "cell_type": "code",
   "execution_count": 49,
   "metadata": {},
   "outputs": [
    {
     "name": "stdout",
     "output_type": "stream",
     "text": [
      "<class 'pandas.core.frame.DataFrame'>\n",
      "RangeIndex: 98 entries, 0 to 97\n",
      "Data columns (total 7 columns):\n",
      " #   Column        Non-Null Count  Dtype         \n",
      "---  ------        --------------  -----         \n",
      " 0   Date          98 non-null     datetime64[ns]\n",
      " 1   ETF           98 non-null     int64         \n",
      " 2   WTI           98 non-null     float64       \n",
      " 3   ExchangeRate  98 non-null     float64       \n",
      " 4   Gold          98 non-null     int64         \n",
      " 5   Pork          98 non-null     float64       \n",
      " 6   ITA           98 non-null     float64       \n",
      "dtypes: datetime64[ns](1), float64(4), int64(2)\n",
      "memory usage: 5.5 KB\n"
     ]
    }
   ],
   "source": [
    "# data type 확인후 불필요한 목록 삭제\n",
    "before_df.info()\n",
    "\n",
    "drop_columns = []\n",
    "before_df.drop(drop_columns, axis=1, inplace=True)"
   ]
  },
  {
   "cell_type": "code",
   "execution_count": 45,
   "metadata": {},
   "outputs": [],
   "source": [
    "# 에러 함수들 정의 후 선형회귀 학습/예측\n",
    "from sklearn.metrics import mean_absolute_error, mean_squared_error\n",
    "\n",
    "# log 값 변환 시 NaN등의 이슈로 log()가 아닌 log1p()를 이용하여 RMSLE 계산\n",
    "def rmsle(y, pred):\n",
    "    log_y = np.log1p(y)\n",
    "    log_pred = np.log1p(pred)\n",
    "    sqaured_error = (log_y - log_pred) **2\n",
    "    rmsle = np.sqrt(np.mean(sqaured_error))\n",
    "    return rmsle\n",
    "\n",
    "# 사이킷런의 mean_square_error()를 이용하여 RMSE 계산\n",
    "def rmse(y,pred):\n",
    "    return np.sqrt(mean_squared_error(y, pred))\n",
    "\n",
    "# MAE, RMSE, RMSLE를 모두 계산\n",
    "def evaluate_regr(y, pred):\n",
    "    rmsle_val = rmsle(y, pred)\n",
    "    rmse_val = rmse(y,pred)\n",
    "    # MAE는 scikit learn의 mean_absolute_error()로 계산\n",
    "    mae_val = mean_absolute_error(y, pred)\n",
    "    print('RMLSE: {0:.3f}, RMSE: {1:.3f}, MAE: {2:.3f}'.format(rmsle_val, rmse_val, mae_val))"
   ]
  },
  {
   "cell_type": "code",
   "execution_count": 50,
   "metadata": {},
   "outputs": [
    {
     "name": "stdout",
     "output_type": "stream",
     "text": [
      "RMLSE: 0.028, RMSE: 272.701, MAE: 212.092\n"
     ]
    }
   ],
   "source": [
    "# 학습 데이터, 테스트 데이터 분리\n",
    "from sklearn.model_selection import train_test_split, GridSearchCV\n",
    "from sklearn.linear_model import LinearRegression, Ridge, Lasso\n",
    "\n",
    "y_target = before_df['ETF']\n",
    "X_features = before_df.drop(['ETF','Date'], axis=1, inplace=False)\n",
    "\n",
    "X_train, X_test, y_train, y_test = train_test_split(X_features, y_target, test_size=0.3, random_state=107)\n",
    "\n",
    "# 선형회귀 적용 후 학습/예측/평가\n",
    "lr_reg = LinearRegression()\n",
    "lr_reg.fit(X_train, y_train)\n",
    "pred = lr_reg.predict(X_test)\n",
    "\n",
    "evaluate_regr(y_test, pred)"
   ]
  },
  {
   "cell_type": "code",
   "execution_count": 51,
   "metadata": {},
   "outputs": [
    {
     "name": "stdout",
     "output_type": "stream",
     "text": [
      "    real_count  predicted_count   diff\n",
      "27       10180           9554.0  626.0\n",
      "12        8700           9276.0  576.0\n",
      "13       10055          10613.0  558.0\n",
      "7         9970          10402.0  432.0\n",
      "11       10045           9663.0  382.0\n"
     ]
    }
   ],
   "source": [
    "# 예측값과 실제값 오차 확인\n",
    "def get_top_error_data(y_test, pred, n_tops = 5):\n",
    "    # DataFrame에 컬럼들로 실제 대여횟수(count)와 예측값을 서로 비교할 수 있도록 생성\n",
    "    result_df = pd.DataFrame(y_test.values, columns=['real_count'])\n",
    "    result_df['predicted_count'] = np.round(pred)\n",
    "    result_df['diff'] = np.abs(result_df['real_count'] - result_df['predicted_count'])\n",
    "    # 예측값과 실제값의 차이가 가장 큰 데이터 순으로 출력\n",
    "    print(result_df.sort_values('diff', ascending=False)[:n_tops])\n",
    "\n",
    "get_top_error_data(y_test, pred, n_tops=5)"
   ]
  },
  {
   "cell_type": "code",
   "execution_count": 52,
   "metadata": {},
   "outputs": [
    {
     "name": "stdout",
     "output_type": "stream",
     "text": [
      "RMLSE: 0.029, RMSE: 286.190, MAE: 220.747\n",
      "Variance score:0.872\n",
      "절편 값 : 8.600549967555803\n",
      "회귀 계수값 : [ 0. -0.  0. -0. -0.]\n"
     ]
    }
   ],
   "source": [
    "# 타겟값에 로그를 취해서 정규화\n",
    "\n",
    "# 타겟 컬럼인 count를 log1p로 Log변환\n",
    "y_target_log = np.log1p(y_target)\n",
    "\n",
    "# 로그 변환된 y_target_log를 반영하여 학습/테스트 데이터 셋 분할\n",
    "X_train, X_test, y_train, y_test = train_test_split(X_features, y_target_log, test_size=0.3, random_state=107)\n",
    "lr_reg = LinearRegression()\n",
    "lr_reg.fit(X_train, y_train)\n",
    "pred = lr_reg.predict(X_test)\n",
    "\n",
    "# 테스트 데이터 셋의 Target 값은 Log 변환되었으므로 다시 exmp1를 이용하여 원래 scale로 변환\n",
    "y_test_exp = np.expm1(y_test)\n",
    "\n",
    "# 테스트 데이터 셋의 Target값은 Log 변환되었으므로 다시 expm1를 이용하여 원래 scale로 변환\n",
    "pred_exp = np.expm1(pred)\n",
    "\n",
    "evaluate_regr(y_test_exp, pred_exp)\n",
    "\n",
    "print('Variance score:{0:.3f}'.format(r2_score(y_test, pred)))\n",
    "print('절편 값 :',lr_reg.intercept_)\n",
    "print('회귀 계수값 :', np.round(lr_reg.coef_))"
   ]
  },
  {
   "cell_type": "code",
   "execution_count": 53,
   "metadata": {},
   "outputs": [
    {
     "data": {
      "text/plain": [
       "<AxesSubplot:>"
      ]
     },
     "execution_count": 53,
     "metadata": {},
     "output_type": "execute_result"
    },
    {
     "data": {
      "image/png": "[encoded data removed]",
      "text/plain": [
       "<Figure size 432x288 with 1 Axes>"
      ]
     },
     "metadata": {
      "needs_background": "light"
     },
     "output_type": "display_data"
    }
   ],
   "source": [
    "# 피처별 회귀계수 확인\n",
    "\n",
    "coef = pd.Series(lr_reg.coef_, index=X_features.columns)\n",
    "coef_sort = coef.sort_values(ascending=False)\n",
    "sns.barplot(x=coef_sort.values, y=coef_sort.index)"
   ]
  }
 ],
 "metadata": {
  "interpreter": {
   "hash": "aee8b7b246df8f9039afb4144a1f6fd8d2ca17a180786b69acc140d282b71a49"
  },
  "kernelspec": {
   "display_name": "Python 3.10.2 64-bit",
   "language": "python",
   "name": "python3"
  },
  "language_info": {
   "codemirror_mode": {
    "name": "ipython",
    "version": 3
   },
   "file_extension": ".py",
   "mimetype": "text/x-python",
   "name": "python",
   "nbconvert_exporter": "python",
   "pygments_lexer": "ipython3",
   "version": "3.10.2"
  },
  "orig_nbformat": 4
 },
 "nbformat": 4,
 "nbformat_minor": 2
}
