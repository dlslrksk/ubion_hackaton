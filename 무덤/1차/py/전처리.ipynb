{
 "cells": [
  {
   "cell_type": "code",
   "execution_count": 4,
   "metadata": {},
   "outputs": [],
   "source": [
    "# 2022/04/22\n",
    "\n",
    "import FinanceDataReader as fdr\n",
    "import numpy as np\n",
    "import pandas as pd\n",
    "import pandas_datareader as pdr\n",
    "import matplotlib.pyplot as plt\n",
    "import plotly.express as px\n",
    "from sklearn.model_selection import train_test_split\n",
    "from sklearn.linear_model import LinearRegression\n",
    "from sklearn.metrics import mean_squared_error, r2_score\n",
    "from sklearn.model_selection import cross_val_score"
   ]
  },
  {
   "cell_type": "markdown",
   "metadata": {},
   "source": [
    "#### 뉴스 : 우크라이나 전쟁 + a(발칸반도, 911, 중동전쟁)\n",
    "\n",
    "#### .array.reshape(-1, 1)"
   ]
  },
  {
   "cell_type": "code",
   "execution_count": 5,
   "metadata": {},
   "outputs": [],
   "source": [
    "# 원유 데이터 불러오기\n",
    "after_ITA = pd.read_csv('../csv/after_ITA.csv')\n",
    "before_ITA = pd.read_csv('../csv/before_ITA.csv')\n",
    "\n",
    "# 날짜 데이터 정렬\n",
    "after_ITA.sort_values('Date', ascending=True, inplace=True)\n",
    "before_ITA.sort_values('Date', ascending=True, inplace=True)\n",
    "\n",
    "# 날짜 데이터 변환\n",
    "after_ITA['Date'] = after_ITA['Date'].str.replace(\" \",\"\")\n",
    "after_ITA['Date'] = after_ITA['Date'].str.replace(\"년\",\"-\")\n",
    "after_ITA['Date'] = after_ITA['Date'].str.replace(\"월\",\"-\")\n",
    "after_ITA['Date'] = after_ITA['Date'].str.replace(\"일\",\"\")\n",
    "after_ITA['Date'] = pd.to_datetime(after_ITA['Date'])\n",
    "after_ITA['Date'] = after_ITA['Date'].dt.strftime('%y/%m/%d')\n",
    "\n",
    "before_ITA['Date'] = before_ITA['Date'].str.replace(\" \",\"\")\n",
    "before_ITA['Date'] = before_ITA['Date'].str.replace(\"년\",\"-\")\n",
    "before_ITA['Date'] = before_ITA['Date'].str.replace(\"월\",\"-\")\n",
    "before_ITA['Date'] = before_ITA['Date'].str.replace(\"일\",\"\")\n",
    "before_ITA['Date'] = pd.to_datetime(before_ITA['Date'])\n",
    "before_ITA['Date'] = before_ITA['Date'].dt.strftime('%y/%m/%d')\n",
    "\n",
    "# 컬럼명 변경\n",
    "after_ITA = after_ITA.rename(columns={'Date':'Date', '종가':'ITA_Close'})\n",
    "before_ITA = before_ITA.rename(columns={'Date':'Date', '종가':'ITA_Close'})\n",
    "\n",
    "after_ITA = after_ITA[['Date', 'ITA_Close']]\n",
    "before_ITA = before_ITA[['Date', 'ITA_Close']]\n",
    "\n",
    "after_ITA.to_csv('../csv/After_ITA.csv')\n",
    "before_ITA.to_csv('../csv/Before_ITA.csv')"
   ]
  },
  {
   "cell_type": "markdown",
   "metadata": {},
   "source": [
    "![war_oil_produce](https://user-images.githubusercontent.com/96412661/164569906-31e29fe9-4105-49c9-b86b-672b25791d0a.png)"
   ]
  }
 ],
 "metadata": {
  "interpreter": {
   "hash": "aee8b7b246df8f9039afb4144a1f6fd8d2ca17a180786b69acc140d282b71a49"
  },
  "kernelspec": {
   "display_name": "Python 3.10.2 64-bit",
   "language": "python",
   "name": "python3"
  },
  "language_info": {
   "codemirror_mode": {
    "name": "ipython",
    "version": 3
   },
   "file_extension": ".py",
   "mimetype": "text/x-python",
   "name": "python",
   "nbconvert_exporter": "python",
   "pygments_lexer": "ipython3",
   "version": "3.10.2"
  },
  "orig_nbformat": 4
 },
 "nbformat": 4,
 "nbformat_minor": 2
}
