{
 "cells": [
  {
   "cell_type": "code",
   "execution_count": 14,
   "metadata": {},
   "outputs": [],
   "source": [
    "# 2022/04/21 ~\n",
    "# 2022/\n",
    "\n",
    "import FinanceDataReader as fdr\n",
    "import numpy as np\n",
    "import pandas as pd\n",
    "import pandas_datareader as pdr\n",
    "import matplotlib.pyplot as plt\n",
    "import plotly.express as px\n",
    "from sklearn.model_selection import train_test_split\n",
    "from sklearn.linear_model import LinearRegression\n",
    "from sklearn.metrics import mean_squared_error, r2_score\n",
    "from sklearn.model_selection import cross_val_score"
   ]
  },
  {
   "cell_type": "markdown",
   "metadata": {},
   "source": [
    "#### 뉴스 : 우크라이나 전쟁 + a(발칸반도, 911, 중동전쟁)\n",
    "\n",
    "#### .array.reshape(-1, 1)"
   ]
  },
  {
   "cell_type": "code",
   "execution_count": 3,
   "metadata": {},
   "outputs": [
    {
     "data": {
      "application/vnd.plotly.v1+json": {
       "config": {
        "plotlyServerURL": "https://plot.ly"
       },
       "data": [
        {
         "hovertemplate": "variable=oil(2020-2021)<br>Date=%{x}<br>value=%{y}<extra></extra>",
         "legendgroup": "oil(2020-2021)",
         "line": {
          "color": "#636efa",
          "dash": "solid"
         },
         "marker": {
          "symbol": "circle"
         },
         "mode": "lines",
         "name": "oil(2020-2021)",
         "orientation": "v",
         "showlegend": true,
         "type": "scatter",
         "x": [
          "11/02",
          "11/03",
          "11/04",
          "11/05",
          "11/09",
          "11/10",
          "11/11",
          "11/12",
          "11/16",
          "11/17",
          "11/18",
          "11/19",
          "11/23",
          "11/24",
          "11/25",
          "11/26",
          "11/30",
          "12/01",
          "12/02",
          "12/03",
          "12/07",
          "12/08",
          "12/09",
          "12/10",
          "12/14",
          "12/15",
          "12/16",
          "12/17",
          "12/21",
          "12/22",
          "12/23",
          "12/28",
          "12/29",
          "12/30",
          "12/31",
          "01/04",
          "01/05",
          "01/06",
          "01/07",
          "01/11",
          "01/12",
          "01/13",
          "01/14",
          "01/17",
          "01/18",
          "01/19",
          "01/20",
          "01/21",
          "01/25",
          "01/26",
          "01/27",
          "01/28",
          "02/01",
          "02/02",
          "02/03",
          "02/04",
          "02/08",
          "02/09",
          "02/10",
          "02/11",
          "02/14",
          "02/15",
          "02/16",
          "02/17",
          "02/18",
          "02/22",
          "02/23",
          "02/24",
          "02/25",
          "03/01",
          "03/02",
          "03/03",
          "03/04",
          "03/08",
          "03/09",
          "03/10",
          "03/11",
          "03/15",
          "03/16",
          "03/17",
          "03/18",
          "03/22",
          "03/23",
          "03/24",
          "03/25",
          "03/29",
          "03/30",
          "03/31"
         ],
         "xaxis": "x",
         "y": [
          36.81,
          37.66,
          39.15,
          38.79,
          40.29,
          41.36,
          41.45,
          41.12,
          41.34,
          41.43,
          41.82,
          41.74,
          43.06,
          44.91,
          45.71,
          44.98,
          45.34,
          44.55,
          45.28,
          45.64,
          45.76,
          45.6,
          45.52,
          46.78,
          46.99,
          47.62,
          47.82,
          48.36,
          47.74,
          47.02,
          48.12,
          47.62,
          48,
          48.4,
          48.52,
          47.62,
          49.93,
          50.63,
          50.83,
          52.25,
          53.21,
          52.91,
          53.57,
          52.2,
          52.36,
          52.98,
          53.24,
          53.13,
          52.77,
          52.61,
          52.85,
          52.34,
          53.55,
          54.76,
          55.69,
          56.23,
          57.97,
          58.36,
          58.68,
          58.24,
          60.37,
          60.09,
          60.05,
          61.14,
          60.52,
          61.49,
          61.67,
          63.22,
          63.53,
          60.64,
          59.75,
          61.28,
          63.83,
          65.05,
          64.01,
          64.44,
          66.02,
          65.39,
          64.8,
          64.6,
          60,
          61.55,
          57.76,
          61.18,
          58.56,
          61.56,
          60.55,
          59.16
         ],
         "yaxis": "y"
        },
        {
         "hovertemplate": "variable=oil(2021-2022)<br>Date=%{x}<br>value=%{y}<extra></extra>",
         "legendgroup": "oil(2021-2022)",
         "line": {
          "color": "#EF553B",
          "dash": "solid"
         },
         "marker": {
          "symbol": "circle"
         },
         "mode": "lines",
         "name": "oil(2021-2022)",
         "orientation": "v",
         "showlegend": true,
         "type": "scatter",
         "x": [
          "11/02",
          "11/03",
          "11/04",
          "11/05",
          "11/09",
          "11/10",
          "11/11",
          "11/12",
          "11/16",
          "11/17",
          "11/18",
          "11/19",
          "11/23",
          "11/24",
          "11/25",
          "11/26",
          "11/30",
          "12/01",
          "12/02",
          "12/03",
          "12/07",
          "12/08",
          "12/09",
          "12/10",
          "12/14",
          "12/15",
          "12/16",
          "12/17",
          "12/21",
          "12/22",
          "12/23",
          "12/28",
          "12/29",
          "12/30",
          "12/31",
          "01/04",
          "01/05",
          "01/06",
          "01/07",
          "01/11",
          "01/12",
          "01/13",
          "01/14",
          "01/17",
          "01/18",
          "01/19",
          "01/20",
          "01/21",
          "01/25",
          "01/26",
          "01/27",
          "01/28",
          "02/01",
          "02/02",
          "02/03",
          "02/04",
          "02/08",
          "02/09",
          "02/10",
          "02/11",
          "02/14",
          "02/15",
          "02/16",
          "02/17",
          "02/18",
          "02/22",
          "02/23",
          "02/24",
          "02/25",
          "03/01",
          "03/02",
          "03/03",
          "03/04",
          "03/08",
          "03/09",
          "03/10",
          "03/11",
          "03/15",
          "03/16",
          "03/17",
          "03/18",
          "03/22",
          "03/23",
          "03/24",
          "03/25",
          "03/29",
          "03/30",
          "03/31"
         ],
         "xaxis": "x",
         "y": [
          83.91,
          80.86,
          78.81,
          81.27,
          84.15,
          81.34,
          81.59,
          80.79,
          80.76,
          78.36,
          79.01,
          76.1,
          78.5,
          78.39,
          77.41,
          68.15,
          66.18,
          65.57,
          66.5,
          66.26,
          72.05,
          72.36,
          70.94,
          71.67,
          70.73,
          70.87,
          72.38,
          70.86,
          71.12,
          72.76,
          73.79,
          75.98,
          76.56,
          76.99,
          75.21,
          76.99,
          77.85,
          79.46,
          78.9,
          81.22,
          82.64,
          82.12,
          83.82,
          83.69,
          85.43,
          86.96,
          86.9,
          85.14,
          85.6,
          87.35,
          86.61,
          86.82,
          88.2,
          88.26,
          90.27,
          92.31,
          89.36,
          89.66,
          89.88,
          93.1,
          95.46,
          92.07,
          93.66,
          91.76,
          91.07,
          92.35,
          92.1,
          92.81,
          91.59,
          103.41,
          110.6,
          107.67,
          115.68,
          123.7,
          108.7,
          106.02,
          109.33,
          96.44,
          95.04,
          102.98,
          104.7,
          111.76,
          114.93,
          112.34,
          113.9,
          104.24,
          107.82,
          100.28
         ],
         "yaxis": "y"
        }
       ],
       "layout": {
        "legend": {
         "title": {
          "text": "variable"
         },
         "tracegroupgap": 0
        },
        "margin": {
         "t": 60
        },
        "template": {
         "data": {
          "bar": [
           {
            "error_x": {
             "color": "#2a3f5f"
            },
            "error_y": {
             "color": "#2a3f5f"
            },
            "marker": {
             "line": {
              "color": "#E5ECF6",
              "width": 0.5
             },
             "pattern": {
              "fillmode": "overlay",
              "size": 10,
              "solidity": 0.2
             }
            },
            "type": "bar"
           }
          ],
          "barpolar": [
           {
            "marker": {
             "line": {
              "color": "#E5ECF6",
              "width": 0.5
             },
             "pattern": {
              "fillmode": "overlay",
              "size": 10,
              "solidity": 0.2
             }
            },
            "type": "barpolar"
           }
          ],
          "carpet": [
           {
            "aaxis": {
             "endlinecolor": "#2a3f5f",
             "gridcolor": "white",
             "linecolor": "white",
             "minorgridcolor": "white",
             "startlinecolor": "#2a3f5f"
            },
            "baxis": {
             "endlinecolor": "#2a3f5f",
             "gridcolor": "white",
             "linecolor": "white",
             "minorgridcolor": "white",
             "startlinecolor": "#2a3f5f"
            },
            "type": "carpet"
           }
          ],
          "choropleth": [
           {
            "colorbar": {
             "outlinewidth": 0,
             "ticks": ""
            },
            "type": "choropleth"
           }
          ],
          "contour": [
           {
            "colorbar": {
             "outlinewidth": 0,
             "ticks": ""
            },
            "colorscale": [
             [
              0,
              "#0d0887"
             ],
             [
              0.1111111111111111,
              "#46039f"
             ],
             [
              0.2222222222222222,
              "#7201a8"
             ],
             [
              0.3333333333333333,
              "#9c179e"
             ],
             [
              0.4444444444444444,
              "#bd3786"
             ],
             [
              0.5555555555555556,
              "#d8576b"
             ],
             [
              0.6666666666666666,
              "#ed7953"
             ],
             [
              0.7777777777777778,
              "#fb9f3a"
             ],
             [
              0.8888888888888888,
              "#fdca26"
             ],
             [
              1,
              "#f0f921"
             ]
            ],
            "type": "contour"
           }
          ],
          "contourcarpet": [
           {
            "colorbar": {
             "outlinewidth": 0,
             "ticks": ""
            },
            "type": "contourcarpet"
           }
          ],
          "heatmap": [
           {
            "colorbar": {
             "outlinewidth": 0,
             "ticks": ""
            },
            "colorscale": [
             [
              0,
              "#0d0887"
             ],
             [
              0.1111111111111111,
              "#46039f"
             ],
             [
              0.2222222222222222,
              "#7201a8"
             ],
             [
              0.3333333333333333,
              "#9c179e"
             ],
             [
              0.4444444444444444,
              "#bd3786"
             ],
             [
              0.5555555555555556,
              "#d8576b"
             ],
             [
              0.6666666666666666,
              "#ed7953"
             ],
             [
              0.7777777777777778,
              "#fb9f3a"
             ],
             [
              0.8888888888888888,
              "#fdca26"
             ],
             [
              1,
              "#f0f921"
             ]
            ],
            "type": "heatmap"
           }
          ],
          "heatmapgl": [
           {
            "colorbar": {
             "outlinewidth": 0,
             "ticks": ""
            },
            "colorscale": [
             [
              0,
              "#0d0887"
             ],
             [
              0.1111111111111111,
              "#46039f"
             ],
             [
              0.2222222222222222,
              "#7201a8"
             ],
             [
              0.3333333333333333,
              "#9c179e"
             ],
             [
              0.4444444444444444,
              "#bd3786"
             ],
             [
              0.5555555555555556,
              "#d8576b"
             ],
             [
              0.6666666666666666,
              "#ed7953"
             ],
             [
              0.7777777777777778,
              "#fb9f3a"
             ],
             [
              0.8888888888888888,
              "#fdca26"
             ],
             [
              1,
              "#f0f921"
             ]
            ],
            "type": "heatmapgl"
           }
          ],
          "histogram": [
           {
            "marker": {
             "pattern": {
              "fillmode": "overlay",
              "size": 10,
              "solidity": 0.2
             }
            },
            "type": "histogram"
           }
          ],
          "histogram2d": [
           {
            "colorbar": {
             "outlinewidth": 0,
             "ticks": ""
            },
            "colorscale": [
             [
              0,
              "#0d0887"
             ],
             [
              0.1111111111111111,
              "#46039f"
             ],
             [
              0.2222222222222222,
              "#7201a8"
             ],
             [
              0.3333333333333333,
              "#9c179e"
             ],
             [
              0.4444444444444444,
              "#bd3786"
             ],
             [
              0.5555555555555556,
              "#d8576b"
             ],
             [
              0.6666666666666666,
              "#ed7953"
             ],
             [
              0.7777777777777778,
              "#fb9f3a"
             ],
             [
              0.8888888888888888,
              "#fdca26"
             ],
             [
              1,
              "#f0f921"
             ]
            ],
            "type": "histogram2d"
           }
          ],
          "histogram2dcontour": [
           {
            "colorbar": {
             "outlinewidth": 0,
             "ticks": ""
            },
            "colorscale": [
             [
              0,
              "#0d0887"
             ],
             [
              0.1111111111111111,
              "#46039f"
             ],
             [
              0.2222222222222222,
              "#7201a8"
             ],
             [
              0.3333333333333333,
              "#9c179e"
             ],
             [
              0.4444444444444444,
              "#bd3786"
             ],
             [
              0.5555555555555556,
              "#d8576b"
             ],
             [
              0.6666666666666666,
              "#ed7953"
             ],
             [
              0.7777777777777778,
              "#fb9f3a"
             ],
             [
              0.8888888888888888,
              "#fdca26"
             ],
             [
              1,
              "#f0f921"
             ]
            ],
            "type": "histogram2dcontour"
           }
          ],
          "mesh3d": [
           {
            "colorbar": {
             "outlinewidth": 0,
             "ticks": ""
            },
            "type": "mesh3d"
           }
          ],
          "parcoords": [
           {
            "line": {
             "colorbar": {
              "outlinewidth": 0,
              "ticks": ""
             }
            },
            "type": "parcoords"
           }
          ],
          "pie": [
           {
            "automargin": true,
            "type": "pie"
           }
          ],
          "scatter": [
           {
            "marker": {
             "colorbar": {
              "outlinewidth": 0,
              "ticks": ""
             }
            },
            "type": "scatter"
           }
          ],
          "scatter3d": [
           {
            "line": {
             "colorbar": {
              "outlinewidth": 0,
              "ticks": ""
             }
            },
            "marker": {
             "colorbar": {
              "outlinewidth": 0,
              "ticks": ""
             }
            },
            "type": "scatter3d"
           }
          ],
          "scattercarpet": [
           {
            "marker": {
             "colorbar": {
              "outlinewidth": 0,
              "ticks": ""
             }
            },
            "type": "scattercarpet"
           }
          ],
          "scattergeo": [
           {
            "marker": {
             "colorbar": {
              "outlinewidth": 0,
              "ticks": ""
             }
            },
            "type": "scattergeo"
           }
          ],
          "scattergl": [
           {
            "marker": {
             "colorbar": {
              "outlinewidth": 0,
              "ticks": ""
             }
            },
            "type": "scattergl"
           }
          ],
          "scattermapbox": [
           {
            "marker": {
             "colorbar": {
              "outlinewidth": 0,
              "ticks": ""
             }
            },
            "type": "scattermapbox"
           }
          ],
          "scatterpolar": [
           {
            "marker": {
             "colorbar": {
              "outlinewidth": 0,
              "ticks": ""
             }
            },
            "type": "scatterpolar"
           }
          ],
          "scatterpolargl": [
           {
            "marker": {
             "colorbar": {
              "outlinewidth": 0,
              "ticks": ""
             }
            },
            "type": "scatterpolargl"
           }
          ],
          "scatterternary": [
           {
            "marker": {
             "colorbar": {
              "outlinewidth": 0,
              "ticks": ""
             }
            },
            "type": "scatterternary"
           }
          ],
          "surface": [
           {
            "colorbar": {
             "outlinewidth": 0,
             "ticks": ""
            },
            "colorscale": [
             [
              0,
              "#0d0887"
             ],
             [
              0.1111111111111111,
              "#46039f"
             ],
             [
              0.2222222222222222,
              "#7201a8"
             ],
             [
              0.3333333333333333,
              "#9c179e"
             ],
             [
              0.4444444444444444,
              "#bd3786"
             ],
             [
              0.5555555555555556,
              "#d8576b"
             ],
             [
              0.6666666666666666,
              "#ed7953"
             ],
             [
              0.7777777777777778,
              "#fb9f3a"
             ],
             [
              0.8888888888888888,
              "#fdca26"
             ],
             [
              1,
              "#f0f921"
             ]
            ],
            "type": "surface"
           }
          ],
          "table": [
           {
            "cells": {
             "fill": {
              "color": "#EBF0F8"
             },
             "line": {
              "color": "white"
             }
            },
            "header": {
             "fill": {
              "color": "#C8D4E3"
             },
             "line": {
              "color": "white"
             }
            },
            "type": "table"
           }
          ]
         },
         "layout": {
          "annotationdefaults": {
           "arrowcolor": "#2a3f5f",
           "arrowhead": 0,
           "arrowwidth": 1
          },
          "autotypenumbers": "strict",
          "coloraxis": {
           "colorbar": {
            "outlinewidth": 0,
            "ticks": ""
           }
          },
          "colorscale": {
           "diverging": [
            [
             0,
             "#8e0152"
            ],
            [
             0.1,
             "#c51b7d"
            ],
            [
             0.2,
             "#de77ae"
            ],
            [
             0.3,
             "#f1b6da"
            ],
            [
             0.4,
             "#fde0ef"
            ],
            [
             0.5,
             "#f7f7f7"
            ],
            [
             0.6,
             "#e6f5d0"
            ],
            [
             0.7,
             "#b8e186"
            ],
            [
             0.8,
             "#7fbc41"
            ],
            [
             0.9,
             "#4d9221"
            ],
            [
             1,
             "#276419"
            ]
           ],
           "sequential": [
            [
             0,
             "#0d0887"
            ],
            [
             0.1111111111111111,
             "#46039f"
            ],
            [
             0.2222222222222222,
             "#7201a8"
            ],
            [
             0.3333333333333333,
             "#9c179e"
            ],
            [
             0.4444444444444444,
             "#bd3786"
            ],
            [
             0.5555555555555556,
             "#d8576b"
            ],
            [
             0.6666666666666666,
             "#ed7953"
            ],
            [
             0.7777777777777778,
             "#fb9f3a"
            ],
            [
             0.8888888888888888,
             "#fdca26"
            ],
            [
             1,
             "#f0f921"
            ]
           ],
           "sequentialminus": [
            [
             0,
             "#0d0887"
            ],
            [
             0.1111111111111111,
             "#46039f"
            ],
            [
             0.2222222222222222,
             "#7201a8"
            ],
            [
             0.3333333333333333,
             "#9c179e"
            ],
            [
             0.4444444444444444,
             "#bd3786"
            ],
            [
             0.5555555555555556,
             "#d8576b"
            ],
            [
             0.6666666666666666,
             "#ed7953"
            ],
            [
             0.7777777777777778,
             "#fb9f3a"
            ],
            [
             0.8888888888888888,
             "#fdca26"
            ],
            [
             1,
             "#f0f921"
            ]
           ]
          },
          "colorway": [
           "#636efa",
           "#EF553B",
           "#00cc96",
           "#ab63fa",
           "#FFA15A",
           "#19d3f3",
           "#FF6692",
           "#B6E880",
           "#FF97FF",
           "#FECB52"
          ],
          "font": {
           "color": "#2a3f5f"
          },
          "geo": {
           "bgcolor": "white",
           "lakecolor": "white",
           "landcolor": "#E5ECF6",
           "showlakes": true,
           "showland": true,
           "subunitcolor": "white"
          },
          "hoverlabel": {
           "align": "left"
          },
          "hovermode": "closest",
          "mapbox": {
           "style": "light"
          },
          "paper_bgcolor": "white",
          "plot_bgcolor": "#E5ECF6",
          "polar": {
           "angularaxis": {
            "gridcolor": "white",
            "linecolor": "white",
            "ticks": ""
           },
           "bgcolor": "#E5ECF6",
           "radialaxis": {
            "gridcolor": "white",
            "linecolor": "white",
            "ticks": ""
           }
          },
          "scene": {
           "xaxis": {
            "backgroundcolor": "#E5ECF6",
            "gridcolor": "white",
            "gridwidth": 2,
            "linecolor": "white",
            "showbackground": true,
            "ticks": "",
            "zerolinecolor": "white"
           },
           "yaxis": {
            "backgroundcolor": "#E5ECF6",
            "gridcolor": "white",
            "gridwidth": 2,
            "linecolor": "white",
            "showbackground": true,
            "ticks": "",
            "zerolinecolor": "white"
           },
           "zaxis": {
            "backgroundcolor": "#E5ECF6",
            "gridcolor": "white",
            "gridwidth": 2,
            "linecolor": "white",
            "showbackground": true,
            "ticks": "",
            "zerolinecolor": "white"
           }
          },
          "shapedefaults": {
           "line": {
            "color": "#2a3f5f"
           }
          },
          "ternary": {
           "aaxis": {
            "gridcolor": "white",
            "linecolor": "white",
            "ticks": ""
           },
           "baxis": {
            "gridcolor": "white",
            "linecolor": "white",
            "ticks": ""
           },
           "bgcolor": "#E5ECF6",
           "caxis": {
            "gridcolor": "white",
            "linecolor": "white",
            "ticks": ""
           }
          },
          "title": {
           "x": 0.05
          },
          "xaxis": {
           "automargin": true,
           "gridcolor": "white",
           "linecolor": "white",
           "ticks": "",
           "title": {
            "standoff": 15
           },
           "zerolinecolor": "white",
           "zerolinewidth": 2
          },
          "yaxis": {
           "automargin": true,
           "gridcolor": "white",
           "linecolor": "white",
           "ticks": "",
           "title": {
            "standoff": 15
           },
           "zerolinecolor": "white",
           "zerolinewidth": 2
          }
         }
        },
        "xaxis": {
         "anchor": "y",
         "domain": [
          0,
          1
         ],
         "title": {
          "text": "Date"
         }
        },
        "yaxis": {
         "anchor": "x",
         "domain": [
          0,
          1
         ],
         "title": {
          "text": "value"
         }
        }
       }
      }
     },
     "metadata": {},
     "output_type": "display_data"
    }
   ],
   "source": [
    "# 원유 데이터 불러오기\n",
    "WI_WTI = pd.read_csv('../csv/WTI_WI.csv')\n",
    "NWI_WTI = pd.read_csv('../csv/WTI_noWI.csv')\n",
    "\n",
    "# 날짜 데이터 정렬\n",
    "WI_WTI.sort_values('날짜', ascending=True, inplace=True)\n",
    "NWI_WTI.sort_values('날짜', ascending=True, inplace=True)\n",
    "\n",
    "# 날짜 데이터 변환\n",
    "WI_WTI['날짜'] = WI_WTI['날짜'].str.replace(\" \",\"\")\n",
    "WI_WTI['날짜'] = WI_WTI['날짜'].str.replace(\"년\",\"-\")\n",
    "WI_WTI['날짜'] = WI_WTI['날짜'].str.replace(\"월\",\"-\")\n",
    "WI_WTI['날짜'] = WI_WTI['날짜'].str.replace(\"일\",\"\")\n",
    "WI_WTI['날짜'] = pd.to_datetime(WI_WTI['날짜'])\n",
    "WI_WTI['날짜'] = WI_WTI['날짜'].dt.strftime('%m/%d')\n",
    "\n",
    "NWI_WTI['날짜'] = NWI_WTI['날짜'].str.replace(\" \",\"\")\n",
    "NWI_WTI['날짜'] = NWI_WTI['날짜'].str.replace(\"년\",\"-\")\n",
    "NWI_WTI['날짜'] = NWI_WTI['날짜'].str.replace(\"월\",\"-\")\n",
    "NWI_WTI['날짜'] = NWI_WTI['날짜'].str.replace(\"일\",\"\")\n",
    "NWI_WTI['날짜'] = pd.to_datetime(NWI_WTI['날짜'])\n",
    "NWI_WTI['날짜'] = NWI_WTI['날짜'].dt.strftime('%m/%d')\n",
    "\n",
    "# 컬럼명 변경\n",
    "WI_WTI = WI_WTI.rename(columns={'날짜':'Date', '종가':'oil(2021-2022)'})\n",
    "NWI_WTI = NWI_WTI.rename(columns={'날짜':'Date', '종가':'oil(2020-2021)'})\n",
    "\n",
    "# 병합\n",
    "war_oil = pd.merge(NWI_WTI, WI_WTI, how='inner', on='Date')\n",
    "war_oil[['Date', 'oil(2020-2021)', 'oil(2021-2022)']]\n",
    "\n",
    "# 시각화\n",
    "fig = px.line(war_oil, x='Date', y=[\"oil(2020-2021)\", \"oil(2021-2022)\"])\n",
    "fig.show()\n"
   ]
  },
  {
   "cell_type": "markdown",
   "metadata": {},
   "source": [
    "![war_oil](https://user-images.githubusercontent.com/96412661/164569910-ed548971-365e-435b-947c-ad5bbdc06e8b.png)"
   ]
  },
  {
   "cell_type": "code",
   "execution_count": 4,
   "metadata": {},
   "outputs": [
    {
     "data": {
      "application/vnd.plotly.v1+json": {
       "config": {
        "plotlyServerURL": "https://plot.ly"
       },
       "data": [
        {
         "hovertemplate": "variable=produce(2020-2021)<br>Date=%{x}<br>value=%{y}<extra></extra>",
         "legendgroup": "produce(2020-2021)",
         "line": {
          "color": "#636efa",
          "dash": "solid"
         },
         "marker": {
          "symbol": "circle"
         },
         "mode": "lines",
         "name": "produce(2020-2021)",
         "orientation": "v",
         "showlegend": true,
         "type": "scatter",
         "x": [
          "11/02",
          "11/03",
          "11/04",
          "11/05",
          "11/09",
          "11/10",
          "11/11",
          "11/12",
          "11/16",
          "11/17",
          "11/18",
          "11/19",
          "11/23",
          "11/24",
          "11/25",
          "11/26",
          "11/30",
          "12/01",
          "12/02",
          "12/03",
          "12/07",
          "12/08",
          "12/09",
          "12/10",
          "12/14",
          "12/15",
          "12/16",
          "12/17",
          "12/21",
          "12/22",
          "12/23",
          "12/24",
          "12/28",
          "12/29",
          "12/30",
          "01/04",
          "01/05",
          "01/06",
          "01/07",
          "01/11",
          "01/12",
          "01/13",
          "01/14",
          "01/18",
          "01/19",
          "01/20",
          "01/21",
          "01/25",
          "01/26",
          "01/27",
          "01/28",
          "02/03",
          "02/04",
          "02/08",
          "02/09",
          "02/10",
          "02/15",
          "02/16",
          "02/17",
          "02/18",
          "02/22",
          "02/23",
          "02/24",
          "02/25",
          "03/02",
          "03/03",
          "03/04",
          "03/08",
          "03/10",
          "03/11",
          "03/15",
          "03/16",
          "03/17",
          "03/18",
          "03/22",
          "03/23",
          "03/24",
          "03/25",
          "03/29",
          "03/30",
          "03/31"
         ],
         "xaxis": "x",
         "y": [
          8045,
          8120,
          8165,
          8335,
          8300,
          8300,
          8575,
          8460,
          8435,
          8525,
          8565,
          8590,
          8655,
          8600,
          8710,
          8680,
          8675,
          8500,
          8380,
          8450,
          8335,
          8320,
          8280,
          8415,
          8590,
          8505,
          8560,
          8605,
          8815,
          8810,
          8870,
          9020,
          9040,
          9015,
          9135,
          9625,
          9545,
          9785,
          9715,
          9635,
          9620,
          10220,
          10105,
          10310,
          10180,
          9955,
          10030,
          9480,
          9655,
          10100,
          9975,
          9910,
          10100,
          10065,
          10290,
          10180,
          10130,
          10085,
          10195,
          10065,
          10075,
          10300,
          10260,
          10380,
          9970,
          10110,
          10090,
          10295,
          10110,
          10055,
          9970,
          10125,
          10180,
          10125,
          10075,
          10045,
          10080,
          10045,
          9950,
          9880,
          9735
         ],
         "yaxis": "y"
        },
        {
         "hovertemplate": "variable=produce(2021-2022)<br>Date=%{x}<br>value=%{y}<extra></extra>",
         "legendgroup": "produce(2021-2022)",
         "line": {
          "color": "#EF553B",
          "dash": "solid"
         },
         "marker": {
          "symbol": "circle"
         },
         "mode": "lines",
         "name": "produce(2021-2022)",
         "orientation": "v",
         "showlegend": true,
         "type": "scatter",
         "x": [
          "11/02",
          "11/03",
          "11/04",
          "11/05",
          "11/09",
          "11/10",
          "11/11",
          "11/12",
          "11/16",
          "11/17",
          "11/18",
          "11/19",
          "11/23",
          "11/24",
          "11/25",
          "11/26",
          "11/30",
          "12/01",
          "12/02",
          "12/03",
          "12/07",
          "12/08",
          "12/09",
          "12/10",
          "12/14",
          "12/15",
          "12/16",
          "12/17",
          "12/21",
          "12/22",
          "12/23",
          "12/24",
          "12/28",
          "12/29",
          "12/30",
          "01/04",
          "01/05",
          "01/06",
          "01/07",
          "01/11",
          "01/12",
          "01/13",
          "01/14",
          "01/18",
          "01/19",
          "01/20",
          "01/21",
          "01/25",
          "01/26",
          "01/27",
          "01/28",
          "02/03",
          "02/04",
          "02/08",
          "02/09",
          "02/10",
          "02/15",
          "02/16",
          "02/17",
          "02/18",
          "02/22",
          "02/23",
          "02/24",
          "02/25",
          "03/02",
          "03/03",
          "03/04",
          "03/08",
          "03/10",
          "03/11",
          "03/15",
          "03/16",
          "03/17",
          "03/18",
          "03/22",
          "03/23",
          "03/24",
          "03/25",
          "03/29",
          "03/30",
          "03/31"
         ],
         "xaxis": "x",
         "y": [
          11175,
          11070,
          11000,
          10875,
          10730,
          10850,
          11100,
          11105,
          11250,
          11145,
          11330,
          11305,
          11360,
          11500,
          11370,
          11235,
          11150,
          10950,
          10940,
          11160,
          11130,
          11115,
          11120,
          11100,
          11035,
          11040,
          11000,
          11090,
          11140,
          11315,
          11515,
          11405,
          11650,
          11400,
          11470,
          11350,
          11450,
          11250,
          11310,
          11360,
          11450,
          11330,
          11200,
          11200,
          11430,
          11650,
          11610,
          11755,
          11735,
          11760,
          11835,
          11870,
          11900,
          12230,
          12210,
          12380,
          12370,
          12200,
          12415,
          12395,
          12760,
          13020,
          13960,
          13675,
          14140,
          14715,
          15300,
          15535,
          14655,
          14700,
          14470,
          14740,
          14115,
          14585,
          15050,
          14700,
          14625,
          14535,
          14350,
          14020,
          14235
         ],
         "yaxis": "y"
        }
       ],
       "layout": {
        "legend": {
         "title": {
          "text": "variable"
         },
         "tracegroupgap": 0
        },
        "margin": {
         "t": 60
        },
        "template": {
         "data": {
          "bar": [
           {
            "error_x": {
             "color": "#2a3f5f"
            },
            "error_y": {
             "color": "#2a3f5f"
            },
            "marker": {
             "line": {
              "color": "#E5ECF6",
              "width": 0.5
             },
             "pattern": {
              "fillmode": "overlay",
              "size": 10,
              "solidity": 0.2
             }
            },
            "type": "bar"
           }
          ],
          "barpolar": [
           {
            "marker": {
             "line": {
              "color": "#E5ECF6",
              "width": 0.5
             },
             "pattern": {
              "fillmode": "overlay",
              "size": 10,
              "solidity": 0.2
             }
            },
            "type": "barpolar"
           }
          ],
          "carpet": [
           {
            "aaxis": {
             "endlinecolor": "#2a3f5f",
             "gridcolor": "white",
             "linecolor": "white",
             "minorgridcolor": "white",
             "startlinecolor": "#2a3f5f"
            },
            "baxis": {
             "endlinecolor": "#2a3f5f",
             "gridcolor": "white",
             "linecolor": "white",
             "minorgridcolor": "white",
             "startlinecolor": "#2a3f5f"
            },
            "type": "carpet"
           }
          ],
          "choropleth": [
           {
            "colorbar": {
             "outlinewidth": 0,
             "ticks": ""
            },
            "type": "choropleth"
           }
          ],
          "contour": [
           {
            "colorbar": {
             "outlinewidth": 0,
             "ticks": ""
            },
            "colorscale": [
             [
              0,
              "#0d0887"
             ],
             [
              0.1111111111111111,
              "#46039f"
             ],
             [
              0.2222222222222222,
              "#7201a8"
             ],
             [
              0.3333333333333333,
              "#9c179e"
             ],
             [
              0.4444444444444444,
              "#bd3786"
             ],
             [
              0.5555555555555556,
              "#d8576b"
             ],
             [
              0.6666666666666666,
              "#ed7953"
             ],
             [
              0.7777777777777778,
              "#fb9f3a"
             ],
             [
              0.8888888888888888,
              "#fdca26"
             ],
             [
              1,
              "#f0f921"
             ]
            ],
            "type": "contour"
           }
          ],
          "contourcarpet": [
           {
            "colorbar": {
             "outlinewidth": 0,
             "ticks": ""
            },
            "type": "contourcarpet"
           }
          ],
          "heatmap": [
           {
            "colorbar": {
             "outlinewidth": 0,
             "ticks": ""
            },
            "colorscale": [
             [
              0,
              "#0d0887"
             ],
             [
              0.1111111111111111,
              "#46039f"
             ],
             [
              0.2222222222222222,
              "#7201a8"
             ],
             [
              0.3333333333333333,
              "#9c179e"
             ],
             [
              0.4444444444444444,
              "#bd3786"
             ],
             [
              0.5555555555555556,
              "#d8576b"
             ],
             [
              0.6666666666666666,
              "#ed7953"
             ],
             [
              0.7777777777777778,
              "#fb9f3a"
             ],
             [
              0.8888888888888888,
              "#fdca26"
             ],
             [
              1,
              "#f0f921"
             ]
            ],
            "type": "heatmap"
           }
          ],
          "heatmapgl": [
           {
            "colorbar": {
             "outlinewidth": 0,
             "ticks": ""
            },
            "colorscale": [
             [
              0,
              "#0d0887"
             ],
             [
              0.1111111111111111,
              "#46039f"
             ],
             [
              0.2222222222222222,
              "#7201a8"
             ],
             [
              0.3333333333333333,
              "#9c179e"
             ],
             [
              0.4444444444444444,
              "#bd3786"
             ],
             [
              0.5555555555555556,
              "#d8576b"
             ],
             [
              0.6666666666666666,
              "#ed7953"
             ],
             [
              0.7777777777777778,
              "#fb9f3a"
             ],
             [
              0.8888888888888888,
              "#fdca26"
             ],
             [
              1,
              "#f0f921"
             ]
            ],
            "type": "heatmapgl"
           }
          ],
          "histogram": [
           {
            "marker": {
             "pattern": {
              "fillmode": "overlay",
              "size": 10,
              "solidity": 0.2
             }
            },
            "type": "histogram"
           }
          ],
          "histogram2d": [
           {
            "colorbar": {
             "outlinewidth": 0,
             "ticks": ""
            },
            "colorscale": [
             [
              0,
              "#0d0887"
             ],
             [
              0.1111111111111111,
              "#46039f"
             ],
             [
              0.2222222222222222,
              "#7201a8"
             ],
             [
              0.3333333333333333,
              "#9c179e"
             ],
             [
              0.4444444444444444,
              "#bd3786"
             ],
             [
              0.5555555555555556,
              "#d8576b"
             ],
             [
              0.6666666666666666,
              "#ed7953"
             ],
             [
              0.7777777777777778,
              "#fb9f3a"
             ],
             [
              0.8888888888888888,
              "#fdca26"
             ],
             [
              1,
              "#f0f921"
             ]
            ],
            "type": "histogram2d"
           }
          ],
          "histogram2dcontour": [
           {
            "colorbar": {
             "outlinewidth": 0,
             "ticks": ""
            },
            "colorscale": [
             [
              0,
              "#0d0887"
             ],
             [
              0.1111111111111111,
              "#46039f"
             ],
             [
              0.2222222222222222,
              "#7201a8"
             ],
             [
              0.3333333333333333,
              "#9c179e"
             ],
             [
              0.4444444444444444,
              "#bd3786"
             ],
             [
              0.5555555555555556,
              "#d8576b"
             ],
             [
              0.6666666666666666,
              "#ed7953"
             ],
             [
              0.7777777777777778,
              "#fb9f3a"
             ],
             [
              0.8888888888888888,
              "#fdca26"
             ],
             [
              1,
              "#f0f921"
             ]
            ],
            "type": "histogram2dcontour"
           }
          ],
          "mesh3d": [
           {
            "colorbar": {
             "outlinewidth": 0,
             "ticks": ""
            },
            "type": "mesh3d"
           }
          ],
          "parcoords": [
           {
            "line": {
             "colorbar": {
              "outlinewidth": 0,
              "ticks": ""
             }
            },
            "type": "parcoords"
           }
          ],
          "pie": [
           {
            "automargin": true,
            "type": "pie"
           }
          ],
          "scatter": [
           {
            "marker": {
             "colorbar": {
              "outlinewidth": 0,
              "ticks": ""
             }
            },
            "type": "scatter"
           }
          ],
          "scatter3d": [
           {
            "line": {
             "colorbar": {
              "outlinewidth": 0,
              "ticks": ""
             }
            },
            "marker": {
             "colorbar": {
              "outlinewidth": 0,
              "ticks": ""
             }
            },
            "type": "scatter3d"
           }
          ],
          "scattercarpet": [
           {
            "marker": {
             "colorbar": {
              "outlinewidth": 0,
              "ticks": ""
             }
            },
            "type": "scattercarpet"
           }
          ],
          "scattergeo": [
           {
            "marker": {
             "colorbar": {
              "outlinewidth": 0,
              "ticks": ""
             }
            },
            "type": "scattergeo"
           }
          ],
          "scattergl": [
           {
            "marker": {
             "colorbar": {
              "outlinewidth": 0,
              "ticks": ""
             }
            },
            "type": "scattergl"
           }
          ],
          "scattermapbox": [
           {
            "marker": {
             "colorbar": {
              "outlinewidth": 0,
              "ticks": ""
             }
            },
            "type": "scattermapbox"
           }
          ],
          "scatterpolar": [
           {
            "marker": {
             "colorbar": {
              "outlinewidth": 0,
              "ticks": ""
             }
            },
            "type": "scatterpolar"
           }
          ],
          "scatterpolargl": [
           {
            "marker": {
             "colorbar": {
              "outlinewidth": 0,
              "ticks": ""
             }
            },
            "type": "scatterpolargl"
           }
          ],
          "scatterternary": [
           {
            "marker": {
             "colorbar": {
              "outlinewidth": 0,
              "ticks": ""
             }
            },
            "type": "scatterternary"
           }
          ],
          "surface": [
           {
            "colorbar": {
             "outlinewidth": 0,
             "ticks": ""
            },
            "colorscale": [
             [
              0,
              "#0d0887"
             ],
             [
              0.1111111111111111,
              "#46039f"
             ],
             [
              0.2222222222222222,
              "#7201a8"
             ],
             [
              0.3333333333333333,
              "#9c179e"
             ],
             [
              0.4444444444444444,
              "#bd3786"
             ],
             [
              0.5555555555555556,
              "#d8576b"
             ],
             [
              0.6666666666666666,
              "#ed7953"
             ],
             [
              0.7777777777777778,
              "#fb9f3a"
             ],
             [
              0.8888888888888888,
              "#fdca26"
             ],
             [
              1,
              "#f0f921"
             ]
            ],
            "type": "surface"
           }
          ],
          "table": [
           {
            "cells": {
             "fill": {
              "color": "#EBF0F8"
             },
             "line": {
              "color": "white"
             }
            },
            "header": {
             "fill": {
              "color": "#C8D4E3"
             },
             "line": {
              "color": "white"
             }
            },
            "type": "table"
           }
          ]
         },
         "layout": {
          "annotationdefaults": {
           "arrowcolor": "#2a3f5f",
           "arrowhead": 0,
           "arrowwidth": 1
          },
          "autotypenumbers": "strict",
          "coloraxis": {
           "colorbar": {
            "outlinewidth": 0,
            "ticks": ""
           }
          },
          "colorscale": {
           "diverging": [
            [
             0,
             "#8e0152"
            ],
            [
             0.1,
             "#c51b7d"
            ],
            [
             0.2,
             "#de77ae"
            ],
            [
             0.3,
             "#f1b6da"
            ],
            [
             0.4,
             "#fde0ef"
            ],
            [
             0.5,
             "#f7f7f7"
            ],
            [
             0.6,
             "#e6f5d0"
            ],
            [
             0.7,
             "#b8e186"
            ],
            [
             0.8,
             "#7fbc41"
            ],
            [
             0.9,
             "#4d9221"
            ],
            [
             1,
             "#276419"
            ]
           ],
           "sequential": [
            [
             0,
             "#0d0887"
            ],
            [
             0.1111111111111111,
             "#46039f"
            ],
            [
             0.2222222222222222,
             "#7201a8"
            ],
            [
             0.3333333333333333,
             "#9c179e"
            ],
            [
             0.4444444444444444,
             "#bd3786"
            ],
            [
             0.5555555555555556,
             "#d8576b"
            ],
            [
             0.6666666666666666,
             "#ed7953"
            ],
            [
             0.7777777777777778,
             "#fb9f3a"
            ],
            [
             0.8888888888888888,
             "#fdca26"
            ],
            [
             1,
             "#f0f921"
            ]
           ],
           "sequentialminus": [
            [
             0,
             "#0d0887"
            ],
            [
             0.1111111111111111,
             "#46039f"
            ],
            [
             0.2222222222222222,
             "#7201a8"
            ],
            [
             0.3333333333333333,
             "#9c179e"
            ],
            [
             0.4444444444444444,
             "#bd3786"
            ],
            [
             0.5555555555555556,
             "#d8576b"
            ],
            [
             0.6666666666666666,
             "#ed7953"
            ],
            [
             0.7777777777777778,
             "#fb9f3a"
            ],
            [
             0.8888888888888888,
             "#fdca26"
            ],
            [
             1,
             "#f0f921"
            ]
           ]
          },
          "colorway": [
           "#636efa",
           "#EF553B",
           "#00cc96",
           "#ab63fa",
           "#FFA15A",
           "#19d3f3",
           "#FF6692",
           "#B6E880",
           "#FF97FF",
           "#FECB52"
          ],
          "font": {
           "color": "#2a3f5f"
          },
          "geo": {
           "bgcolor": "white",
           "lakecolor": "white",
           "landcolor": "#E5ECF6",
           "showlakes": true,
           "showland": true,
           "subunitcolor": "white"
          },
          "hoverlabel": {
           "align": "left"
          },
          "hovermode": "closest",
          "mapbox": {
           "style": "light"
          },
          "paper_bgcolor": "white",
          "plot_bgcolor": "#E5ECF6",
          "polar": {
           "angularaxis": {
            "gridcolor": "white",
            "linecolor": "white",
            "ticks": ""
           },
           "bgcolor": "#E5ECF6",
           "radialaxis": {
            "gridcolor": "white",
            "linecolor": "white",
            "ticks": ""
           }
          },
          "scene": {
           "xaxis": {
            "backgroundcolor": "#E5ECF6",
            "gridcolor": "white",
            "gridwidth": 2,
            "linecolor": "white",
            "showbackground": true,
            "ticks": "",
            "zerolinecolor": "white"
           },
           "yaxis": {
            "backgroundcolor": "#E5ECF6",
            "gridcolor": "white",
            "gridwidth": 2,
            "linecolor": "white",
            "showbackground": true,
            "ticks": "",
            "zerolinecolor": "white"
           },
           "zaxis": {
            "backgroundcolor": "#E5ECF6",
            "gridcolor": "white",
            "gridwidth": 2,
            "linecolor": "white",
            "showbackground": true,
            "ticks": "",
            "zerolinecolor": "white"
           }
          },
          "shapedefaults": {
           "line": {
            "color": "#2a3f5f"
           }
          },
          "ternary": {
           "aaxis": {
            "gridcolor": "white",
            "linecolor": "white",
            "ticks": ""
           },
           "baxis": {
            "gridcolor": "white",
            "linecolor": "white",
            "ticks": ""
           },
           "bgcolor": "#E5ECF6",
           "caxis": {
            "gridcolor": "white",
            "linecolor": "white",
            "ticks": ""
           }
          },
          "title": {
           "x": 0.05
          },
          "xaxis": {
           "automargin": true,
           "gridcolor": "white",
           "linecolor": "white",
           "ticks": "",
           "title": {
            "standoff": 15
           },
           "zerolinecolor": "white",
           "zerolinewidth": 2
          },
          "yaxis": {
           "automargin": true,
           "gridcolor": "white",
           "linecolor": "white",
           "ticks": "",
           "title": {
            "standoff": 15
           },
           "zerolinecolor": "white",
           "zerolinewidth": 2
          }
         }
        },
        "xaxis": {
         "anchor": "y",
         "domain": [
          0,
          1
         ],
         "title": {
          "text": "Date"
         }
        },
        "yaxis": {
         "anchor": "x",
         "domain": [
          0,
          1
         ],
         "title": {
          "text": "value"
         }
        }
       }
      }
     },
     "metadata": {},
     "output_type": "display_data"
    }
   ],
   "source": [
    "# 농산물 데이터 불러오기\n",
    "# 271060 : KODEX 3대농산물선물(H) - 옥수수, 콩, 밀\n",
    "# 전쟁의 영향력을 알기 위해 '러시아의 우크라이나 침공이 언급되는 시점 및 전년동기대비 가격'\n",
    "beforewar = pd.read_csv('../csv/beforewar.csv')\n",
    "afterwar = pd.read_csv('../csv/afterwar.csv')\n",
    "\n",
    "# 날짜 데이터 변환\n",
    "# beforewar['Date'] = beforewar['Date'].str[5:]\n",
    "# afterwar['Date'] = afterwar['Date'].str[5:]\n",
    "\n",
    "beforewar['Date'] = pd.to_datetime(beforewar['Date'])\n",
    "afterwar['Date'] = pd.to_datetime(afterwar['Date'])\n",
    "\n",
    "beforewar['Date'] = beforewar['Date'].dt.strftime('%m/%d')\n",
    "afterwar['Date'] = afterwar['Date'].dt.strftime('%m/%d')\n",
    "\n",
    "# 컬럼명 변경\n",
    "beforewar = beforewar.rename(columns={'Close':'produce(2020-2021)'})\n",
    "afterwar = afterwar.rename(columns={'Close':'produce(2021-2022)'})\n",
    "\n",
    "# 병합\n",
    "war_produce = pd.merge(beforewar, afterwar, how='inner', on='Date')\n",
    "war_produce[['Date', 'produce(2020-2021)', 'produce(2021-2022)']]\n",
    "\n",
    "# 시각화\n",
    "fig = px.line(war_produce, x='Date', y=[\"produce(2020-2021)\",\"produce(2021-2022)\"])\n",
    "fig.show()"
   ]
  },
  {
   "cell_type": "markdown",
   "metadata": {},
   "source": [
    "![war_produce](https://user-images.githubusercontent.com/96412661/164569913-c9c0ae7d-50fa-4cea-9990-e64f60c76f92.png)"
   ]
  },
  {
   "cell_type": "code",
   "execution_count": 5,
   "metadata": {},
   "outputs": [
    {
     "name": "stdout",
     "output_type": "stream",
     "text": [
      "MSE :68160.279, RMSE :261.075\n",
      "Variance score:0.847\n",
      "절편 값 : [4815.60979138]\n",
      "회귀 계수값 : [[88.]]\n"
     ]
    }
   ],
   "source": [
    "# 원유와 농산물 ETF 병합\n",
    "# \"oil(2020-2021)\", \"oil(2021-2022)\", \"produce(2020-2021)\", \"produce(2021-2022)\"\n",
    "# 전쟁 충격 이전\n",
    "war_oil_produce = pd.merge(war_produce, war_oil, how='inner', on='Date')\n",
    "\n",
    "# 학습 데이터와 테스트 데이터 분리\n",
    "ex_oil_train, ex_oil_test, ex_produce_train, ex_produce_test = \\\n",
    "    train_test_split(war_oil_produce['oil(2020-2021)'], war_oil_produce['produce(2020-2021)'], test_size=0.2, random_state=107) \n",
    "\n",
    "# 선형 회귀 모델로 학습 수행\n",
    "lr = LinearRegression()\n",
    "lr.fit(ex_oil_train.array.reshape(-1, 1), ex_produce_train.array.reshape(-1, 1))\n",
    "\n",
    "# 테스트 데이터로 예측\n",
    "ex_produce_pred = lr.predict(ex_oil_test.array.reshape(-1, 1))\n",
    "\n",
    "# MSE & RMSE & R2\n",
    "mse = mean_squared_error(ex_produce_test, ex_produce_pred)\n",
    "rmse = np.sqrt(mse)\n",
    "\n",
    "print('MSE :{0:.3f}, RMSE :{1:.3f}'.format(mse, rmse))\n",
    "print('Variance score:{0:.3f}'.format(r2_score(ex_produce_test, ex_produce_pred)))\n",
    "\n",
    "print('절편 값 :',lr.intercept_)\n",
    "print('회귀 계수값 :', np.round(lr.coef_))"
   ]
  },
  {
   "cell_type": "code",
   "execution_count": 6,
   "metadata": {},
   "outputs": [
    {
     "name": "stdout",
     "output_type": "stream",
     "text": [
      "MSE :359320.521, RMSE :599.434\n",
      "Variance score:0.867\n",
      "절편 값 : [4567.52579607]\n",
      "회귀 계수값 : [[88.]]\n"
     ]
    }
   ],
   "source": [
    "# 전쟁 충격 이후\n",
    "war_oil_produce = pd.merge(war_produce, war_oil, how='inner', on='Date')\n",
    "\n",
    "# 학습 데이터와 테스트 데이터 분리\n",
    "oil_train, oil_test, produce_train, produce_test = \\\n",
    "    train_test_split(war_oil_produce['oil(2021-2022)'], war_oil_produce['produce(2021-2022)'], test_size=0.2, random_state=107) \n",
    "\n",
    "# 선형 회귀 모델로 학습 수행\n",
    "lr = LinearRegression()\n",
    "lr.fit(oil_train.array.reshape(-1, 1), produce_train.array.reshape(-1, 1))\n",
    "\n",
    "# 테스트 데이터로 예측\n",
    "produce_pred = lr.predict(oil_test.array.reshape(-1, 1))\n",
    "\n",
    "# MSE & RMSE & R2\n",
    "mse = mean_squared_error(produce_test, produce_pred)\n",
    "rmse = np.sqrt(mse)\n",
    "\n",
    "print('MSE :{0:.3f}, RMSE :{1:.3f}'.format(mse, rmse))\n",
    "print('Variance score:{0:.3f}'.format(r2_score(produce_test, produce_pred)))\n",
    "\n",
    "print('절편 값 :',lr.intercept_)\n",
    "print('회귀 계수값 :', np.round(lr.coef_))"
   ]
  },
  {
   "cell_type": "markdown",
   "metadata": {},
   "source": [
    "Linear Regression with scikit-learn\n",
    "---\n",
    "import numpy as np\n",
    "import plotly.express as px\n",
    "import plotly.graph_objects as go\n",
    "from sklearn.linear_model import LinearRegression\n",
    "\n",
    "df = px.data.tips()\n",
    "X = df.total_bill.values.reshape(-1, 1)\n",
    "\n",
    "model = LinearRegression()\n",
    "model.fit(X, df.tip)\n",
    "\n",
    "x_range = np.linspace(X.min(), X.max(), 100)\n",
    "y_range = model.predict(x_range.reshape(-1, 1))\n",
    "\n",
    "fig = px.scatter(df, x='total_bill', y='tip', opacity=0.65)\n",
    "fig.add_traces(go.Scatter(x=x_range, y=y_range, name='Regression Fit'))\n",
    "fig.show()"
   ]
  },
  {
   "cell_type": "code",
   "execution_count": 7,
   "metadata": {},
   "outputs": [
    {
     "data": {
      "application/vnd.plotly.v1+json": {
       "config": {
        "plotlyServerURL": "https://plot.ly"
       },
       "data": [
        {
         "hovertemplate": "oil(2020-2021)=%{x}<br>produce(2020-2021)=%{y}<extra></extra>",
         "legendgroup": "",
         "marker": {
          "color": "#636efa",
          "opacity": 0.65,
          "symbol": "circle"
         },
         "mode": "markers",
         "name": "",
         "orientation": "v",
         "showlegend": false,
         "type": "scatter",
         "x": [
          36.81,
          37.66,
          39.15,
          38.79,
          40.29,
          41.36,
          41.45,
          41.12,
          41.34,
          41.43,
          41.82,
          41.74,
          43.06,
          44.91,
          45.71,
          44.98,
          45.34,
          44.55,
          45.28,
          45.64,
          45.76,
          45.6,
          45.52,
          46.78,
          46.99,
          47.62,
          47.82,
          48.36,
          47.74,
          47.02,
          48.12,
          47.62,
          48,
          48.4,
          47.62,
          49.93,
          50.63,
          50.83,
          52.25,
          53.21,
          52.91,
          53.57,
          52.36,
          52.98,
          53.24,
          53.13,
          52.77,
          52.61,
          52.85,
          52.34,
          55.69,
          56.23,
          57.97,
          58.36,
          58.68,
          60.09,
          60.05,
          61.14,
          60.52,
          61.49,
          61.67,
          63.22,
          63.53,
          59.75,
          61.28,
          63.83,
          65.05,
          64.44,
          66.02,
          65.39,
          64.8,
          64.6,
          60,
          61.55,
          57.76,
          61.18,
          58.56,
          61.56,
          60.55,
          59.16
         ],
         "xaxis": "x",
         "y": [
          8045,
          8120,
          8165,
          8335,
          8300,
          8300,
          8575,
          8460,
          8435,
          8525,
          8565,
          8590,
          8655,
          8600,
          8710,
          8680,
          8675,
          8500,
          8380,
          8450,
          8335,
          8320,
          8280,
          8415,
          8590,
          8505,
          8560,
          8605,
          8815,
          8810,
          8870,
          9040,
          9015,
          9135,
          9625,
          9545,
          9785,
          9715,
          9635,
          9620,
          10220,
          10105,
          10310,
          10180,
          9955,
          10030,
          9480,
          9655,
          10100,
          9975,
          9910,
          10100,
          10065,
          10290,
          10180,
          10130,
          10085,
          10195,
          10065,
          10075,
          10300,
          10260,
          10380,
          9970,
          10110,
          10090,
          10295,
          10110,
          10055,
          9970,
          10125,
          10180,
          10125,
          10075,
          10045,
          10080,
          10045,
          9950,
          9880,
          9735
         ],
         "yaxis": "y"
        },
        {
         "name": "Regression Fit",
         "type": "scatter",
         "x": [
          36.81,
          37.10505050505051,
          37.40010101010101,
          37.695151515151515,
          37.99020202020202,
          38.285252525252524,
          38.580303030303035,
          38.87535353535354,
          39.170404040404044,
          39.46545454545455,
          39.76050505050505,
          40.05555555555556,
          40.35060606060606,
          40.645656565656566,
          40.94070707070707,
          41.235757575757575,
          41.530808080808086,
          41.82585858585859,
          42.120909090909095,
          42.4159595959596,
          42.7110101010101,
          43.00606060606061,
          43.30111111111111,
          43.596161616161616,
          43.89121212121212,
          44.186262626262625,
          44.48131313131313,
          44.77636363636364,
          45.07141414141414,
          45.36646464646465,
          45.661515151515154,
          45.95656565656566,
          46.25161616161616,
          46.54666666666667,
          46.84171717171717,
          47.136767676767676,
          47.43181818181819,
          47.726868686868684,
          48.021919191919196,
          48.3169696969697,
          48.612020202020204,
          48.90707070707071,
          49.20212121212121,
          49.49717171717172,
          49.79222222222222,
          50.087272727272726,
          50.38232323232323,
          50.67737373737374,
          50.97242424242424,
          51.26747474747475,
          51.562525252525255,
          51.85757575757576,
          52.152626262626264,
          52.44767676767677,
          52.74272727272727,
          53.03777777777778,
          53.33282828282828,
          53.627878787878785,
          53.9229292929293,
          54.217979797979794,
          54.513030303030305,
          54.8080808080808,
          55.103131313131314,
          55.39818181818182,
          55.69323232323232,
          55.98828282828283,
          56.28333333333333,
          56.57838383838384,
          56.87343434343434,
          57.16848484848485,
          57.46353535353535,
          57.75858585858586,
          58.053636363636365,
          58.34868686868687,
          58.64373737373737,
          58.93878787878788,
          59.23383838383838,
          59.528888888888886,
          59.8239393939394,
          60.118989898989895,
          60.414040404040406,
          60.709090909090904,
          61.004141414141415,
          61.29919191919192,
          61.594242424242424,
          61.88929292929293,
          62.18434343434343,
          62.47939393939394,
          62.77444444444444,
          63.06949494949495,
          63.36454545454545,
          63.65959595959596,
          63.95464646464646,
          64.24969696969697,
          64.54474747474748,
          64.83979797979798,
          65.13484848484848,
          65.42989898989899,
          65.7249494949495,
          66.02
         ],
         "y": [
          8075.539832576869,
          8100.832958722527,
          8126.126084868187,
          8151.419211013845,
          8176.712337159504,
          8202.005463305162,
          8227.298589450822,
          8252.591715596482,
          8277.88484174214,
          8303.177967887797,
          8328.471094033457,
          8353.764220179117,
          8379.057346324775,
          8404.350472470433,
          8429.643598616092,
          8454.936724761752,
          8480.22985090741,
          8505.52297705307,
          8530.816103198727,
          8556.109229344387,
          8581.402355490045,
          8606.695481635705,
          8631.988607781363,
          8657.281733927022,
          8682.57486007268,
          8707.86798621834,
          8733.161112363998,
          8758.454238509657,
          8783.747364655315,
          8809.040490800975,
          8834.333616946635,
          8859.626743092293,
          8884.91986923795,
          8910.21299538361,
          8935.50612152927,
          8960.799247674928,
          8986.092373820587,
          9011.385499966245,
          9036.678626111905,
          9061.971752257563,
          9087.26487840322,
          9112.55800454888,
          9137.85113069454,
          9163.144256840198,
          9188.437382985856,
          9213.730509131516,
          9239.023635277175,
          9264.316761422833,
          9289.609887568491,
          9314.903013714153,
          9340.19613985981,
          9365.489266005468,
          9390.782392151128,
          9416.075518296788,
          9441.368644442446,
          9466.661770588104,
          9491.954896733763,
          9517.248022879423,
          9542.54114902508,
          9567.834275170739,
          9593.127401316398,
          9618.420527462058,
          9643.713653607716,
          9669.006779753374,
          9694.299905899034,
          9719.593032044693,
          9744.886158190351,
          9770.17928433601,
          9795.472410481669,
          9820.765536627328,
          9846.058662772986,
          9871.351788918646,
          9896.644915064306,
          9921.938041209964,
          9947.231167355621,
          9972.524293501281,
          9997.81741964694,
          10023.110545792599,
          10048.403671938257,
          10073.696798083916,
          10098.989924229576,
          10124.283050375234,
          10149.576176520892,
          10174.869302666551,
          10200.162428812211,
          10225.455554957869,
          10250.748681103527,
          10276.041807249187,
          10301.334933394846,
          10326.628059540504,
          10351.921185686162,
          10377.214311831824,
          10402.507437977481,
          10427.80056412314,
          10453.093690268799,
          10478.386816414459,
          10503.679942560117,
          10528.973068705774,
          10554.266194851434,
          10579.559320997094
         ]
        }
       ],
       "layout": {
        "legend": {
         "tracegroupgap": 0
        },
        "margin": {
         "t": 60
        },
        "template": {
         "data": {
          "bar": [
           {
            "error_x": {
             "color": "#2a3f5f"
            },
            "error_y": {
             "color": "#2a3f5f"
            },
            "marker": {
             "line": {
              "color": "#E5ECF6",
              "width": 0.5
             },
             "pattern": {
              "fillmode": "overlay",
              "size": 10,
              "solidity": 0.2
             }
            },
            "type": "bar"
           }
          ],
          "barpolar": [
           {
            "marker": {
             "line": {
              "color": "#E5ECF6",
              "width": 0.5
             },
             "pattern": {
              "fillmode": "overlay",
              "size": 10,
              "solidity": 0.2
             }
            },
            "type": "barpolar"
           }
          ],
          "carpet": [
           {
            "aaxis": {
             "endlinecolor": "#2a3f5f",
             "gridcolor": "white",
             "linecolor": "white",
             "minorgridcolor": "white",
             "startlinecolor": "#2a3f5f"
            },
            "baxis": {
             "endlinecolor": "#2a3f5f",
             "gridcolor": "white",
             "linecolor": "white",
             "minorgridcolor": "white",
             "startlinecolor": "#2a3f5f"
            },
            "type": "carpet"
           }
          ],
          "choropleth": [
           {
            "colorbar": {
             "outlinewidth": 0,
             "ticks": ""
            },
            "type": "choropleth"
           }
          ],
          "contour": [
           {
            "colorbar": {
             "outlinewidth": 0,
             "ticks": ""
            },
            "colorscale": [
             [
              0,
              "#0d0887"
             ],
             [
              0.1111111111111111,
              "#46039f"
             ],
             [
              0.2222222222222222,
              "#7201a8"
             ],
             [
              0.3333333333333333,
              "#9c179e"
             ],
             [
              0.4444444444444444,
              "#bd3786"
             ],
             [
              0.5555555555555556,
              "#d8576b"
             ],
             [
              0.6666666666666666,
              "#ed7953"
             ],
             [
              0.7777777777777778,
              "#fb9f3a"
             ],
             [
              0.8888888888888888,
              "#fdca26"
             ],
             [
              1,
              "#f0f921"
             ]
            ],
            "type": "contour"
           }
          ],
          "contourcarpet": [
           {
            "colorbar": {
             "outlinewidth": 0,
             "ticks": ""
            },
            "type": "contourcarpet"
           }
          ],
          "heatmap": [
           {
            "colorbar": {
             "outlinewidth": 0,
             "ticks": ""
            },
            "colorscale": [
             [
              0,
              "#0d0887"
             ],
             [
              0.1111111111111111,
              "#46039f"
             ],
             [
              0.2222222222222222,
              "#7201a8"
             ],
             [
              0.3333333333333333,
              "#9c179e"
             ],
             [
              0.4444444444444444,
              "#bd3786"
             ],
             [
              0.5555555555555556,
              "#d8576b"
             ],
             [
              0.6666666666666666,
              "#ed7953"
             ],
             [
              0.7777777777777778,
              "#fb9f3a"
             ],
             [
              0.8888888888888888,
              "#fdca26"
             ],
             [
              1,
              "#f0f921"
             ]
            ],
            "type": "heatmap"
           }
          ],
          "heatmapgl": [
           {
            "colorbar": {
             "outlinewidth": 0,
             "ticks": ""
            },
            "colorscale": [
             [
              0,
              "#0d0887"
             ],
             [
              0.1111111111111111,
              "#46039f"
             ],
             [
              0.2222222222222222,
              "#7201a8"
             ],
             [
              0.3333333333333333,
              "#9c179e"
             ],
             [
              0.4444444444444444,
              "#bd3786"
             ],
             [
              0.5555555555555556,
              "#d8576b"
             ],
             [
              0.6666666666666666,
              "#ed7953"
             ],
             [
              0.7777777777777778,
              "#fb9f3a"
             ],
             [
              0.8888888888888888,
              "#fdca26"
             ],
             [
              1,
              "#f0f921"
             ]
            ],
            "type": "heatmapgl"
           }
          ],
          "histogram": [
           {
            "marker": {
             "pattern": {
              "fillmode": "overlay",
              "size": 10,
              "solidity": 0.2
             }
            },
            "type": "histogram"
           }
          ],
          "histogram2d": [
           {
            "colorbar": {
             "outlinewidth": 0,
             "ticks": ""
            },
            "colorscale": [
             [
              0,
              "#0d0887"
             ],
             [
              0.1111111111111111,
              "#46039f"
             ],
             [
              0.2222222222222222,
              "#7201a8"
             ],
             [
              0.3333333333333333,
              "#9c179e"
             ],
             [
              0.4444444444444444,
              "#bd3786"
             ],
             [
              0.5555555555555556,
              "#d8576b"
             ],
             [
              0.6666666666666666,
              "#ed7953"
             ],
             [
              0.7777777777777778,
              "#fb9f3a"
             ],
             [
              0.8888888888888888,
              "#fdca26"
             ],
             [
              1,
              "#f0f921"
             ]
            ],
            "type": "histogram2d"
           }
          ],
          "histogram2dcontour": [
           {
            "colorbar": {
             "outlinewidth": 0,
             "ticks": ""
            },
            "colorscale": [
             [
              0,
              "#0d0887"
             ],
             [
              0.1111111111111111,
              "#46039f"
             ],
             [
              0.2222222222222222,
              "#7201a8"
             ],
             [
              0.3333333333333333,
              "#9c179e"
             ],
             [
              0.4444444444444444,
              "#bd3786"
             ],
             [
              0.5555555555555556,
              "#d8576b"
             ],
             [
              0.6666666666666666,
              "#ed7953"
             ],
             [
              0.7777777777777778,
              "#fb9f3a"
             ],
             [
              0.8888888888888888,
              "#fdca26"
             ],
             [
              1,
              "#f0f921"
             ]
            ],
            "type": "histogram2dcontour"
           }
          ],
          "mesh3d": [
           {
            "colorbar": {
             "outlinewidth": 0,
             "ticks": ""
            },
            "type": "mesh3d"
           }
          ],
          "parcoords": [
           {
            "line": {
             "colorbar": {
              "outlinewidth": 0,
              "ticks": ""
             }
            },
            "type": "parcoords"
           }
          ],
          "pie": [
           {
            "automargin": true,
            "type": "pie"
           }
          ],
          "scatter": [
           {
            "marker": {
             "colorbar": {
              "outlinewidth": 0,
              "ticks": ""
             }
            },
            "type": "scatter"
           }
          ],
          "scatter3d": [
           {
            "line": {
             "colorbar": {
              "outlinewidth": 0,
              "ticks": ""
             }
            },
            "marker": {
             "colorbar": {
              "outlinewidth": 0,
              "ticks": ""
             }
            },
            "type": "scatter3d"
           }
          ],
          "scattercarpet": [
           {
            "marker": {
             "colorbar": {
              "outlinewidth": 0,
              "ticks": ""
             }
            },
            "type": "scattercarpet"
           }
          ],
          "scattergeo": [
           {
            "marker": {
             "colorbar": {
              "outlinewidth": 0,
              "ticks": ""
             }
            },
            "type": "scattergeo"
           }
          ],
          "scattergl": [
           {
            "marker": {
             "colorbar": {
              "outlinewidth": 0,
              "ticks": ""
             }
            },
            "type": "scattergl"
           }
          ],
          "scattermapbox": [
           {
            "marker": {
             "colorbar": {
              "outlinewidth": 0,
              "ticks": ""
             }
            },
            "type": "scattermapbox"
           }
          ],
          "scatterpolar": [
           {
            "marker": {
             "colorbar": {
              "outlinewidth": 0,
              "ticks": ""
             }
            },
            "type": "scatterpolar"
           }
          ],
          "scatterpolargl": [
           {
            "marker": {
             "colorbar": {
              "outlinewidth": 0,
              "ticks": ""
             }
            },
            "type": "scatterpolargl"
           }
          ],
          "scatterternary": [
           {
            "marker": {
             "colorbar": {
              "outlinewidth": 0,
              "ticks": ""
             }
            },
            "type": "scatterternary"
           }
          ],
          "surface": [
           {
            "colorbar": {
             "outlinewidth": 0,
             "ticks": ""
            },
            "colorscale": [
             [
              0,
              "#0d0887"
             ],
             [
              0.1111111111111111,
              "#46039f"
             ],
             [
              0.2222222222222222,
              "#7201a8"
             ],
             [
              0.3333333333333333,
              "#9c179e"
             ],
             [
              0.4444444444444444,
              "#bd3786"
             ],
             [
              0.5555555555555556,
              "#d8576b"
             ],
             [
              0.6666666666666666,
              "#ed7953"
             ],
             [
              0.7777777777777778,
              "#fb9f3a"
             ],
             [
              0.8888888888888888,
              "#fdca26"
             ],
             [
              1,
              "#f0f921"
             ]
            ],
            "type": "surface"
           }
          ],
          "table": [
           {
            "cells": {
             "fill": {
              "color": "#EBF0F8"
             },
             "line": {
              "color": "white"
             }
            },
            "header": {
             "fill": {
              "color": "#C8D4E3"
             },
             "line": {
              "color": "white"
             }
            },
            "type": "table"
           }
          ]
         },
         "layout": {
          "annotationdefaults": {
           "arrowcolor": "#2a3f5f",
           "arrowhead": 0,
           "arrowwidth": 1
          },
          "autotypenumbers": "strict",
          "coloraxis": {
           "colorbar": {
            "outlinewidth": 0,
            "ticks": ""
           }
          },
          "colorscale": {
           "diverging": [
            [
             0,
             "#8e0152"
            ],
            [
             0.1,
             "#c51b7d"
            ],
            [
             0.2,
             "#de77ae"
            ],
            [
             0.3,
             "#f1b6da"
            ],
            [
             0.4,
             "#fde0ef"
            ],
            [
             0.5,
             "#f7f7f7"
            ],
            [
             0.6,
             "#e6f5d0"
            ],
            [
             0.7,
             "#b8e186"
            ],
            [
             0.8,
             "#7fbc41"
            ],
            [
             0.9,
             "#4d9221"
            ],
            [
             1,
             "#276419"
            ]
           ],
           "sequential": [
            [
             0,
             "#0d0887"
            ],
            [
             0.1111111111111111,
             "#46039f"
            ],
            [
             0.2222222222222222,
             "#7201a8"
            ],
            [
             0.3333333333333333,
             "#9c179e"
            ],
            [
             0.4444444444444444,
             "#bd3786"
            ],
            [
             0.5555555555555556,
             "#d8576b"
            ],
            [
             0.6666666666666666,
             "#ed7953"
            ],
            [
             0.7777777777777778,
             "#fb9f3a"
            ],
            [
             0.8888888888888888,
             "#fdca26"
            ],
            [
             1,
             "#f0f921"
            ]
           ],
           "sequentialminus": [
            [
             0,
             "#0d0887"
            ],
            [
             0.1111111111111111,
             "#46039f"
            ],
            [
             0.2222222222222222,
             "#7201a8"
            ],
            [
             0.3333333333333333,
             "#9c179e"
            ],
            [
             0.4444444444444444,
             "#bd3786"
            ],
            [
             0.5555555555555556,
             "#d8576b"
            ],
            [
             0.6666666666666666,
             "#ed7953"
            ],
            [
             0.7777777777777778,
             "#fb9f3a"
            ],
            [
             0.8888888888888888,
             "#fdca26"
            ],
            [
             1,
             "#f0f921"
            ]
           ]
          },
          "colorway": [
           "#636efa",
           "#EF553B",
           "#00cc96",
           "#ab63fa",
           "#FFA15A",
           "#19d3f3",
           "#FF6692",
           "#B6E880",
           "#FF97FF",
           "#FECB52"
          ],
          "font": {
           "color": "#2a3f5f"
          },
          "geo": {
           "bgcolor": "white",
           "lakecolor": "white",
           "landcolor": "#E5ECF6",
           "showlakes": true,
           "showland": true,
           "subunitcolor": "white"
          },
          "hoverlabel": {
           "align": "left"
          },
          "hovermode": "closest",
          "mapbox": {
           "style": "light"
          },
          "paper_bgcolor": "white",
          "plot_bgcolor": "#E5ECF6",
          "polar": {
           "angularaxis": {
            "gridcolor": "white",
            "linecolor": "white",
            "ticks": ""
           },
           "bgcolor": "#E5ECF6",
           "radialaxis": {
            "gridcolor": "white",
            "linecolor": "white",
            "ticks": ""
           }
          },
          "scene": {
           "xaxis": {
            "backgroundcolor": "#E5ECF6",
            "gridcolor": "white",
            "gridwidth": 2,
            "linecolor": "white",
            "showbackground": true,
            "ticks": "",
            "zerolinecolor": "white"
           },
           "yaxis": {
            "backgroundcolor": "#E5ECF6",
            "gridcolor": "white",
            "gridwidth": 2,
            "linecolor": "white",
            "showbackground": true,
            "ticks": "",
            "zerolinecolor": "white"
           },
           "zaxis": {
            "backgroundcolor": "#E5ECF6",
            "gridcolor": "white",
            "gridwidth": 2,
            "linecolor": "white",
            "showbackground": true,
            "ticks": "",
            "zerolinecolor": "white"
           }
          },
          "shapedefaults": {
           "line": {
            "color": "#2a3f5f"
           }
          },
          "ternary": {
           "aaxis": {
            "gridcolor": "white",
            "linecolor": "white",
            "ticks": ""
           },
           "baxis": {
            "gridcolor": "white",
            "linecolor": "white",
            "ticks": ""
           },
           "bgcolor": "#E5ECF6",
           "caxis": {
            "gridcolor": "white",
            "linecolor": "white",
            "ticks": ""
           }
          },
          "title": {
           "x": 0.05
          },
          "xaxis": {
           "automargin": true,
           "gridcolor": "white",
           "linecolor": "white",
           "ticks": "",
           "title": {
            "standoff": 15
           },
           "zerolinecolor": "white",
           "zerolinewidth": 2
          },
          "yaxis": {
           "automargin": true,
           "gridcolor": "white",
           "linecolor": "white",
           "ticks": "",
           "title": {
            "standoff": 15
           },
           "zerolinecolor": "white",
           "zerolinewidth": 2
          }
         }
        },
        "xaxis": {
         "anchor": "y",
         "domain": [
          0,
          1
         ],
         "title": {
          "text": "oil(2020-2021)"
         }
        },
        "yaxis": {
         "anchor": "x",
         "domain": [
          0,
          1
         ],
         "title": {
          "text": "produce(2020-2021)"
         }
        }
       }
      }
     },
     "metadata": {},
     "output_type": "display_data"
    }
   ],
   "source": [
    "import numpy as np\n",
    "import plotly.express as px\n",
    "import plotly.graph_objects as go\n",
    "from sklearn.linear_model import LinearRegression\n",
    "\n",
    "war_oil_produce\n",
    "X = war_oil_produce['oil(2020-2021)'].values.reshape(-1, 1)\n",
    "\n",
    "model = LinearRegression()\n",
    "model.fit(X, war_oil_produce['produce(2020-2021)'])\n",
    "\n",
    "x_range = np.linspace(X.min(), X.max(), 100)\n",
    "y_range = model.predict(x_range.reshape(-1, 1))\n",
    "\n",
    "fig = px.scatter(war_oil_produce, x='oil(2020-2021)', y='produce(2020-2021)', opacity=0.65)\n",
    "fig.add_traces(go.Scatter(x=x_range, y=y_range, name='Regression Fit'))\n",
    "fig.show()"
   ]
  },
  {
   "cell_type": "markdown",
   "metadata": {},
   "source": [
    "![nwi_oil_produce](https://user-images.githubusercontent.com/96412661/164569904-eef771f5-9f0a-42d1-b0f0-d049429b003f.png)"
   ]
  },
  {
   "cell_type": "code",
   "execution_count": 8,
   "metadata": {},
   "outputs": [
    {
     "data": {
      "application/vnd.plotly.v1+json": {
       "config": {
        "plotlyServerURL": "https://plot.ly"
       },
       "data": [
        {
         "hovertemplate": "oil(2021-2022)=%{x}<br>produce(2021-2022)=%{y}<extra></extra>",
         "legendgroup": "",
         "marker": {
          "color": "#636efa",
          "opacity": 0.65,
          "symbol": "circle"
         },
         "mode": "markers",
         "name": "",
         "orientation": "v",
         "showlegend": false,
         "type": "scatter",
         "x": [
          83.91,
          80.86,
          78.81,
          81.27,
          84.15,
          81.34,
          81.59,
          80.79,
          80.76,
          78.36,
          79.01,
          76.1,
          78.5,
          78.39,
          77.41,
          68.15,
          66.18,
          65.57,
          66.5,
          66.26,
          72.05,
          72.36,
          70.94,
          71.67,
          70.73,
          70.87,
          72.38,
          70.86,
          71.12,
          72.76,
          73.79,
          75.98,
          76.56,
          76.99,
          76.99,
          77.85,
          79.46,
          78.9,
          81.22,
          82.64,
          82.12,
          83.82,
          85.43,
          86.96,
          86.9,
          85.14,
          85.6,
          87.35,
          86.61,
          86.82,
          90.27,
          92.31,
          89.36,
          89.66,
          89.88,
          92.07,
          93.66,
          91.76,
          91.07,
          92.35,
          92.1,
          92.81,
          91.59,
          110.6,
          107.67,
          115.68,
          123.7,
          106.02,
          109.33,
          96.44,
          95.04,
          102.98,
          104.7,
          111.76,
          114.93,
          112.34,
          113.9,
          104.24,
          107.82,
          100.28
         ],
         "xaxis": "x",
         "y": [
          11175,
          11070,
          11000,
          10875,
          10730,
          10850,
          11100,
          11105,
          11250,
          11145,
          11330,
          11305,
          11360,
          11500,
          11370,
          11235,
          11150,
          10950,
          10940,
          11160,
          11130,
          11115,
          11120,
          11100,
          11035,
          11040,
          11000,
          11090,
          11140,
          11315,
          11515,
          11650,
          11400,
          11470,
          11350,
          11450,
          11250,
          11310,
          11360,
          11450,
          11330,
          11200,
          11200,
          11430,
          11650,
          11610,
          11755,
          11735,
          11760,
          11835,
          11870,
          11900,
          12230,
          12210,
          12380,
          12370,
          12200,
          12415,
          12395,
          12760,
          13020,
          13960,
          13675,
          14140,
          14715,
          15300,
          15535,
          14655,
          14700,
          14470,
          14740,
          14115,
          14585,
          15050,
          14700,
          14625,
          14535,
          14350,
          14020,
          14235
         ],
         "yaxis": "y"
        },
        {
         "name": "Regression Fit",
         "type": "scatter",
         "x": [
          65.57,
          66.1571717171717,
          66.74434343434342,
          67.33151515151515,
          67.91868686868686,
          68.50585858585858,
          69.0930303030303,
          69.68020202020202,
          70.26737373737373,
          70.85454545454544,
          71.44171717171716,
          72.02888888888889,
          72.6160606060606,
          73.20323232323231,
          73.79040404040404,
          74.37757575757576,
          74.96474747474747,
          75.55191919191918,
          76.1390909090909,
          76.72626262626262,
          77.31343434343434,
          77.90060606060605,
          78.48777777777778,
          79.0749494949495,
          79.6621212121212,
          80.24929292929292,
          80.83646464646463,
          81.42363636363636,
          82.01080808080808,
          82.59797979797979,
          83.18515151515152,
          83.77232323232323,
          84.35949494949494,
          84.94666666666666,
          85.53383838383837,
          86.1210101010101,
          86.70818181818181,
          87.29535353535353,
          87.88252525252526,
          88.46969696969697,
          89.05686868686868,
          89.6440404040404,
          90.23121212121211,
          90.81838383838384,
          91.40555555555555,
          91.99272727272727,
          92.579898989899,
          93.1670707070707,
          93.75424242424242,
          94.34141414141413,
          94.92858585858585,
          95.51575757575758,
          96.10292929292929,
          96.690101010101,
          97.27727272727273,
          97.86444444444444,
          98.45161616161616,
          99.03878787878787,
          99.62595959595959,
          100.21313131313131,
          100.80030303030303,
          101.38747474747474,
          101.97464646464647,
          102.56181818181818,
          103.1489898989899,
          103.73616161616161,
          104.32333333333332,
          104.91050505050505,
          105.49767676767677,
          106.08484848484848,
          106.6720202020202,
          107.25919191919192,
          107.84636363636363,
          108.43353535353535,
          109.02070707070706,
          109.60787878787879,
          110.1950505050505,
          110.78222222222222,
          111.36939393939394,
          111.95656565656566,
          112.54373737373737,
          113.13090909090909,
          113.7180808080808,
          114.30525252525253,
          114.89242424242424,
          115.47959595959595,
          116.06676767676768,
          116.6539393939394,
          117.24111111111111,
          117.82828282828282,
          118.41545454545454,
          119.00262626262626,
          119.58979797979798,
          120.17696969696969,
          120.76414141414142,
          121.35131313131313,
          121.93848484848485,
          122.52565656565656,
          123.11282828282827,
          123.7
         ],
         "y": [
          10244.835343446284,
          10299.648544232785,
          10354.461745019285,
          10409.274945805784,
          10464.088146592285,
          10518.901347378785,
          10573.714548165286,
          10628.527748951787,
          10683.340949738285,
          10738.154150524784,
          10792.967351311285,
          10847.780552097785,
          10902.593752884284,
          10957.406953670785,
          11012.220154457285,
          11067.033355243786,
          11121.846556030287,
          11176.659756816785,
          11231.472957603284,
          11286.286158389787,
          11341.099359176285,
          11395.912559962784,
          11450.725760749287,
          11505.538961535785,
          11560.352162322286,
          11615.165363108787,
          11669.978563895285,
          11724.791764681788,
          11779.604965468287,
          11834.418166254785,
          11889.231367041288,
          11944.044567827787,
          11998.857768614285,
          12053.670969400786,
          12108.484170187287,
          12163.297370973787,
          12218.110571760288,
          12272.923772546786,
          12327.736973333287,
          12382.550174119788,
          12437.363374906286,
          12492.176575692787,
          12546.989776479286,
          12601.802977265786,
          12656.616178052287,
          12711.429378838786,
          12766.242579625288,
          12821.055780411787,
          12875.868981198288,
          12930.682181984786,
          12985.495382771287,
          13040.308583557788,
          13095.121784344286,
          13149.934985130787,
          13204.748185917288,
          13259.561386703788,
          13314.374587490287,
          13369.187788276788,
          13424.000989063286,
          13478.814189849789,
          13533.627390636288,
          13588.440591422788,
          13643.253792209289,
          13698.066992995788,
          13752.880193782288,
          13807.693394568787,
          13862.506595355288,
          13917.319796141788,
          13972.132996928289,
          14026.946197714788,
          14081.759398501288,
          14136.572599287789,
          14191.385800074288,
          14246.199000860788,
          14301.012201647287,
          14355.82540243379,
          14410.638603220288,
          14465.451804006789,
          14520.26500479329,
          14575.078205579788,
          14629.891406366289,
          14684.704607152788,
          14739.517807939288,
          14794.331008725789,
          14849.14420951229,
          14903.957410298788,
          14958.770611085289,
          15013.58381187179,
          15068.39701265829,
          15123.210213444789,
          15178.02341423129,
          15232.83661501779,
          15287.649815804289,
          15342.46301659079,
          15397.27621737729,
          15452.08941816379,
          15506.90261895029,
          15561.71581973679,
          15616.529020523289,
          15671.34222130979
         ]
        }
       ],
       "layout": {
        "legend": {
         "tracegroupgap": 0
        },
        "margin": {
         "t": 60
        },
        "template": {
         "data": {
          "bar": [
           {
            "error_x": {
             "color": "#2a3f5f"
            },
            "error_y": {
             "color": "#2a3f5f"
            },
            "marker": {
             "line": {
              "color": "#E5ECF6",
              "width": 0.5
             },
             "pattern": {
              "fillmode": "overlay",
              "size": 10,
              "solidity": 0.2
             }
            },
            "type": "bar"
           }
          ],
          "barpolar": [
           {
            "marker": {
             "line": {
              "color": "#E5ECF6",
              "width": 0.5
             },
             "pattern": {
              "fillmode": "overlay",
              "size": 10,
              "solidity": 0.2
             }
            },
            "type": "barpolar"
           }
          ],
          "carpet": [
           {
            "aaxis": {
             "endlinecolor": "#2a3f5f",
             "gridcolor": "white",
             "linecolor": "white",
             "minorgridcolor": "white",
             "startlinecolor": "#2a3f5f"
            },
            "baxis": {
             "endlinecolor": "#2a3f5f",
             "gridcolor": "white",
             "linecolor": "white",
             "minorgridcolor": "white",
             "startlinecolor": "#2a3f5f"
            },
            "type": "carpet"
           }
          ],
          "choropleth": [
           {
            "colorbar": {
             "outlinewidth": 0,
             "ticks": ""
            },
            "type": "choropleth"
           }
          ],
          "contour": [
           {
            "colorbar": {
             "outlinewidth": 0,
             "ticks": ""
            },
            "colorscale": [
             [
              0,
              "#0d0887"
             ],
             [
              0.1111111111111111,
              "#46039f"
             ],
             [
              0.2222222222222222,
              "#7201a8"
             ],
             [
              0.3333333333333333,
              "#9c179e"
             ],
             [
              0.4444444444444444,
              "#bd3786"
             ],
             [
              0.5555555555555556,
              "#d8576b"
             ],
             [
              0.6666666666666666,
              "#ed7953"
             ],
             [
              0.7777777777777778,
              "#fb9f3a"
             ],
             [
              0.8888888888888888,
              "#fdca26"
             ],
             [
              1,
              "#f0f921"
             ]
            ],
            "type": "contour"
           }
          ],
          "contourcarpet": [
           {
            "colorbar": {
             "outlinewidth": 0,
             "ticks": ""
            },
            "type": "contourcarpet"
           }
          ],
          "heatmap": [
           {
            "colorbar": {
             "outlinewidth": 0,
             "ticks": ""
            },
            "colorscale": [
             [
              0,
              "#0d0887"
             ],
             [
              0.1111111111111111,
              "#46039f"
             ],
             [
              0.2222222222222222,
              "#7201a8"
             ],
             [
              0.3333333333333333,
              "#9c179e"
             ],
             [
              0.4444444444444444,
              "#bd3786"
             ],
             [
              0.5555555555555556,
              "#d8576b"
             ],
             [
              0.6666666666666666,
              "#ed7953"
             ],
             [
              0.7777777777777778,
              "#fb9f3a"
             ],
             [
              0.8888888888888888,
              "#fdca26"
             ],
             [
              1,
              "#f0f921"
             ]
            ],
            "type": "heatmap"
           }
          ],
          "heatmapgl": [
           {
            "colorbar": {
             "outlinewidth": 0,
             "ticks": ""
            },
            "colorscale": [
             [
              0,
              "#0d0887"
             ],
             [
              0.1111111111111111,
              "#46039f"
             ],
             [
              0.2222222222222222,
              "#7201a8"
             ],
             [
              0.3333333333333333,
              "#9c179e"
             ],
             [
              0.4444444444444444,
              "#bd3786"
             ],
             [
              0.5555555555555556,
              "#d8576b"
             ],
             [
              0.6666666666666666,
              "#ed7953"
             ],
             [
              0.7777777777777778,
              "#fb9f3a"
             ],
             [
              0.8888888888888888,
              "#fdca26"
             ],
             [
              1,
              "#f0f921"
             ]
            ],
            "type": "heatmapgl"
           }
          ],
          "histogram": [
           {
            "marker": {
             "pattern": {
              "fillmode": "overlay",
              "size": 10,
              "solidity": 0.2
             }
            },
            "type": "histogram"
           }
          ],
          "histogram2d": [
           {
            "colorbar": {
             "outlinewidth": 0,
             "ticks": ""
            },
            "colorscale": [
             [
              0,
              "#0d0887"
             ],
             [
              0.1111111111111111,
              "#46039f"
             ],
             [
              0.2222222222222222,
              "#7201a8"
             ],
             [
              0.3333333333333333,
              "#9c179e"
             ],
             [
              0.4444444444444444,
              "#bd3786"
             ],
             [
              0.5555555555555556,
              "#d8576b"
             ],
             [
              0.6666666666666666,
              "#ed7953"
             ],
             [
              0.7777777777777778,
              "#fb9f3a"
             ],
             [
              0.8888888888888888,
              "#fdca26"
             ],
             [
              1,
              "#f0f921"
             ]
            ],
            "type": "histogram2d"
           }
          ],
          "histogram2dcontour": [
           {
            "colorbar": {
             "outlinewidth": 0,
             "ticks": ""
            },
            "colorscale": [
             [
              0,
              "#0d0887"
             ],
             [
              0.1111111111111111,
              "#46039f"
             ],
             [
              0.2222222222222222,
              "#7201a8"
             ],
             [
              0.3333333333333333,
              "#9c179e"
             ],
             [
              0.4444444444444444,
              "#bd3786"
             ],
             [
              0.5555555555555556,
              "#d8576b"
             ],
             [
              0.6666666666666666,
              "#ed7953"
             ],
             [
              0.7777777777777778,
              "#fb9f3a"
             ],
             [
              0.8888888888888888,
              "#fdca26"
             ],
             [
              1,
              "#f0f921"
             ]
            ],
            "type": "histogram2dcontour"
           }
          ],
          "mesh3d": [
           {
            "colorbar": {
             "outlinewidth": 0,
             "ticks": ""
            },
            "type": "mesh3d"
           }
          ],
          "parcoords": [
           {
            "line": {
             "colorbar": {
              "outlinewidth": 0,
              "ticks": ""
             }
            },
            "type": "parcoords"
           }
          ],
          "pie": [
           {
            "automargin": true,
            "type": "pie"
           }
          ],
          "scatter": [
           {
            "marker": {
             "colorbar": {
              "outlinewidth": 0,
              "ticks": ""
             }
            },
            "type": "scatter"
           }
          ],
          "scatter3d": [
           {
            "line": {
             "colorbar": {
              "outlinewidth": 0,
              "ticks": ""
             }
            },
            "marker": {
             "colorbar": {
              "outlinewidth": 0,
              "ticks": ""
             }
            },
            "type": "scatter3d"
           }
          ],
          "scattercarpet": [
           {
            "marker": {
             "colorbar": {
              "outlinewidth": 0,
              "ticks": ""
             }
            },
            "type": "scattercarpet"
           }
          ],
          "scattergeo": [
           {
            "marker": {
             "colorbar": {
              "outlinewidth": 0,
              "ticks": ""
             }
            },
            "type": "scattergeo"
           }
          ],
          "scattergl": [
           {
            "marker": {
             "colorbar": {
              "outlinewidth": 0,
              "ticks": ""
             }
            },
            "type": "scattergl"
           }
          ],
          "scattermapbox": [
           {
            "marker": {
             "colorbar": {
              "outlinewidth": 0,
              "ticks": ""
             }
            },
            "type": "scattermapbox"
           }
          ],
          "scatterpolar": [
           {
            "marker": {
             "colorbar": {
              "outlinewidth": 0,
              "ticks": ""
             }
            },
            "type": "scatterpolar"
           }
          ],
          "scatterpolargl": [
           {
            "marker": {
             "colorbar": {
              "outlinewidth": 0,
              "ticks": ""
             }
            },
            "type": "scatterpolargl"
           }
          ],
          "scatterternary": [
           {
            "marker": {
             "colorbar": {
              "outlinewidth": 0,
              "ticks": ""
             }
            },
            "type": "scatterternary"
           }
          ],
          "surface": [
           {
            "colorbar": {
             "outlinewidth": 0,
             "ticks": ""
            },
            "colorscale": [
             [
              0,
              "#0d0887"
             ],
             [
              0.1111111111111111,
              "#46039f"
             ],
             [
              0.2222222222222222,
              "#7201a8"
             ],
             [
              0.3333333333333333,
              "#9c179e"
             ],
             [
              0.4444444444444444,
              "#bd3786"
             ],
             [
              0.5555555555555556,
              "#d8576b"
             ],
             [
              0.6666666666666666,
              "#ed7953"
             ],
             [
              0.7777777777777778,
              "#fb9f3a"
             ],
             [
              0.8888888888888888,
              "#fdca26"
             ],
             [
              1,
              "#f0f921"
             ]
            ],
            "type": "surface"
           }
          ],
          "table": [
           {
            "cells": {
             "fill": {
              "color": "#EBF0F8"
             },
             "line": {
              "color": "white"
             }
            },
            "header": {
             "fill": {
              "color": "#C8D4E3"
             },
             "line": {
              "color": "white"
             }
            },
            "type": "table"
           }
          ]
         },
         "layout": {
          "annotationdefaults": {
           "arrowcolor": "#2a3f5f",
           "arrowhead": 0,
           "arrowwidth": 1
          },
          "autotypenumbers": "strict",
          "coloraxis": {
           "colorbar": {
            "outlinewidth": 0,
            "ticks": ""
           }
          },
          "colorscale": {
           "diverging": [
            [
             0,
             "#8e0152"
            ],
            [
             0.1,
             "#c51b7d"
            ],
            [
             0.2,
             "#de77ae"
            ],
            [
             0.3,
             "#f1b6da"
            ],
            [
             0.4,
             "#fde0ef"
            ],
            [
             0.5,
             "#f7f7f7"
            ],
            [
             0.6,
             "#e6f5d0"
            ],
            [
             0.7,
             "#b8e186"
            ],
            [
             0.8,
             "#7fbc41"
            ],
            [
             0.9,
             "#4d9221"
            ],
            [
             1,
             "#276419"
            ]
           ],
           "sequential": [
            [
             0,
             "#0d0887"
            ],
            [
             0.1111111111111111,
             "#46039f"
            ],
            [
             0.2222222222222222,
             "#7201a8"
            ],
            [
             0.3333333333333333,
             "#9c179e"
            ],
            [
             0.4444444444444444,
             "#bd3786"
            ],
            [
             0.5555555555555556,
             "#d8576b"
            ],
            [
             0.6666666666666666,
             "#ed7953"
            ],
            [
             0.7777777777777778,
             "#fb9f3a"
            ],
            [
             0.8888888888888888,
             "#fdca26"
            ],
            [
             1,
             "#f0f921"
            ]
           ],
           "sequentialminus": [
            [
             0,
             "#0d0887"
            ],
            [
             0.1111111111111111,
             "#46039f"
            ],
            [
             0.2222222222222222,
             "#7201a8"
            ],
            [
             0.3333333333333333,
             "#9c179e"
            ],
            [
             0.4444444444444444,
             "#bd3786"
            ],
            [
             0.5555555555555556,
             "#d8576b"
            ],
            [
             0.6666666666666666,
             "#ed7953"
            ],
            [
             0.7777777777777778,
             "#fb9f3a"
            ],
            [
             0.8888888888888888,
             "#fdca26"
            ],
            [
             1,
             "#f0f921"
            ]
           ]
          },
          "colorway": [
           "#636efa",
           "#EF553B",
           "#00cc96",
           "#ab63fa",
           "#FFA15A",
           "#19d3f3",
           "#FF6692",
           "#B6E880",
           "#FF97FF",
           "#FECB52"
          ],
          "font": {
           "color": "#2a3f5f"
          },
          "geo": {
           "bgcolor": "white",
           "lakecolor": "white",
           "landcolor": "#E5ECF6",
           "showlakes": true,
           "showland": true,
           "subunitcolor": "white"
          },
          "hoverlabel": {
           "align": "left"
          },
          "hovermode": "closest",
          "mapbox": {
           "style": "light"
          },
          "paper_bgcolor": "white",
          "plot_bgcolor": "#E5ECF6",
          "polar": {
           "angularaxis": {
            "gridcolor": "white",
            "linecolor": "white",
            "ticks": ""
           },
           "bgcolor": "#E5ECF6",
           "radialaxis": {
            "gridcolor": "white",
            "linecolor": "white",
            "ticks": ""
           }
          },
          "scene": {
           "xaxis": {
            "backgroundcolor": "#E5ECF6",
            "gridcolor": "white",
            "gridwidth": 2,
            "linecolor": "white",
            "showbackground": true,
            "ticks": "",
            "zerolinecolor": "white"
           },
           "yaxis": {
            "backgroundcolor": "#E5ECF6",
            "gridcolor": "white",
            "gridwidth": 2,
            "linecolor": "white",
            "showbackground": true,
            "ticks": "",
            "zerolinecolor": "white"
           },
           "zaxis": {
            "backgroundcolor": "#E5ECF6",
            "gridcolor": "white",
            "gridwidth": 2,
            "linecolor": "white",
            "showbackground": true,
            "ticks": "",
            "zerolinecolor": "white"
           }
          },
          "shapedefaults": {
           "line": {
            "color": "#2a3f5f"
           }
          },
          "ternary": {
           "aaxis": {
            "gridcolor": "white",
            "linecolor": "white",
            "ticks": ""
           },
           "baxis": {
            "gridcolor": "white",
            "linecolor": "white",
            "ticks": ""
           },
           "bgcolor": "#E5ECF6",
           "caxis": {
            "gridcolor": "white",
            "linecolor": "white",
            "ticks": ""
           }
          },
          "title": {
           "x": 0.05
          },
          "xaxis": {
           "automargin": true,
           "gridcolor": "white",
           "linecolor": "white",
           "ticks": "",
           "title": {
            "standoff": 15
           },
           "zerolinecolor": "white",
           "zerolinewidth": 2
          },
          "yaxis": {
           "automargin": true,
           "gridcolor": "white",
           "linecolor": "white",
           "ticks": "",
           "title": {
            "standoff": 15
           },
           "zerolinecolor": "white",
           "zerolinewidth": 2
          }
         }
        },
        "xaxis": {
         "anchor": "y",
         "domain": [
          0,
          1
         ],
         "title": {
          "text": "oil(2021-2022)"
         }
        },
        "yaxis": {
         "anchor": "x",
         "domain": [
          0,
          1
         ],
         "title": {
          "text": "produce(2021-2022)"
         }
        }
       }
      }
     },
     "metadata": {},
     "output_type": "display_data"
    }
   ],
   "source": [
    "import numpy as np\n",
    "import plotly.express as px\n",
    "import plotly.graph_objects as go\n",
    "from sklearn.linear_model import LinearRegression\n",
    "\n",
    "war_oil_produce\n",
    "X = war_oil_produce['oil(2021-2022)'].values.reshape(-1, 1)\n",
    "\n",
    "model = LinearRegression()\n",
    "model.fit(X, war_oil_produce['produce(2021-2022)'])\n",
    "\n",
    "x_range = np.linspace(X.min(), X.max(), 100)\n",
    "y_range = model.predict(x_range.reshape(-1, 1))\n",
    "\n",
    "fig = px.scatter(war_oil_produce, x='oil(2021-2022)', y='produce(2021-2022)', opacity=0.65)\n",
    "fig.add_traces(go.Scatter(x=x_range, y=y_range, name='Regression Fit'))\n",
    "fig.show()"
   ]
  },
  {
   "cell_type": "markdown",
   "metadata": {},
   "source": [
    "![wi_oil_produce](https://user-images.githubusercontent.com/96412661/164569914-8933efb5-ca7b-4e94-a4f5-671712a4eaff.png)"
   ]
  },
  {
   "cell_type": "code",
   "execution_count": 9,
   "metadata": {},
   "outputs": [
    {
     "data": {
      "application/vnd.plotly.v1+json": {
       "config": {
        "plotlyServerURL": "https://plot.ly"
       },
       "data": [
        {
         "hovertemplate": "variable=oil(2020-2021)<br>Date=%{x}<br>value=%{y}<extra></extra>",
         "legendgroup": "oil(2020-2021)",
         "line": {
          "color": "#636efa",
          "dash": "solid"
         },
         "marker": {
          "symbol": "circle"
         },
         "mode": "lines",
         "name": "oil(2020-2021)",
         "orientation": "v",
         "showlegend": true,
         "type": "scatter",
         "x": [
          "20/11/02",
          "20/11/03",
          "20/11/04",
          "20/11/05",
          "20/11/06",
          "20/11/09",
          "20/11/10",
          "20/11/11",
          "20/11/12",
          "20/11/13",
          "20/11/16",
          "20/11/17",
          "20/11/18",
          "20/11/19",
          "20/11/20",
          "20/11/23",
          "20/11/24",
          "20/11/25",
          "20/11/26",
          "20/11/27",
          "20/11/30",
          "20/12/01",
          "20/12/02",
          "20/12/03",
          "20/12/04",
          "20/12/07",
          "20/12/08",
          "20/12/09",
          "20/12/10",
          "20/12/11",
          "20/12/14",
          "20/12/15",
          "20/12/16",
          "20/12/17",
          "20/12/18",
          "20/12/21",
          "20/12/22",
          "20/12/23",
          "20/12/24",
          "20/12/28",
          "20/12/29",
          "20/12/30",
          "21/01/04",
          "21/01/05",
          "21/01/06",
          "21/01/07",
          "21/01/08",
          "21/01/11",
          "21/01/12",
          "21/01/13",
          "21/01/14",
          "21/01/15",
          "21/01/18",
          "21/01/19",
          "21/01/20",
          "21/01/21",
          "21/01/22",
          "21/01/25",
          "21/01/26",
          "21/01/27",
          "21/01/28",
          "21/01/29",
          "21/02/01",
          "21/02/02",
          "21/02/03",
          "21/02/04",
          "21/02/05",
          "21/02/08",
          "21/02/09",
          "21/02/10",
          "21/02/15",
          "21/02/16",
          "21/02/17",
          "21/02/18",
          "21/02/19",
          "21/02/22",
          "21/02/23",
          "21/02/24",
          "21/02/25",
          "21/02/26",
          "21/03/02",
          "21/03/03",
          "21/03/04",
          "21/03/05",
          "21/03/08",
          "21/03/09",
          "21/03/10",
          "21/03/11",
          "21/03/12",
          "21/03/15",
          "21/03/16",
          "21/03/17",
          "21/03/18",
          "21/03/19",
          "21/03/22",
          "21/03/23",
          "21/03/24",
          "21/03/25",
          "21/03/26",
          "21/03/29",
          "21/03/30",
          "21/03/31",
          "21/11/01",
          "21/11/02",
          "21/11/03",
          "21/11/04",
          "21/11/05",
          "21/11/08",
          "21/11/09",
          "21/11/10",
          "21/11/11",
          "21/11/12",
          "21/11/15",
          "21/11/16",
          "21/11/17",
          "21/11/18",
          "21/11/19",
          "21/11/22",
          "21/11/23",
          "21/11/24",
          "21/11/25",
          "21/11/26",
          "21/11/29",
          "21/11/30",
          "21/12/01",
          "21/12/02",
          "21/12/03",
          "21/12/06",
          "21/12/07",
          "21/12/08",
          "21/12/09",
          "21/12/10",
          "21/12/13",
          "21/12/14",
          "21/12/15",
          "21/12/16",
          "21/12/17",
          "21/12/20",
          "21/12/21",
          "21/12/22",
          "21/12/23",
          "21/12/27",
          "21/12/28",
          "21/12/29",
          "21/12/30",
          "22/01/03",
          "22/01/04",
          "22/01/05",
          "22/01/06",
          "22/01/07",
          "22/01/10",
          "22/01/11",
          "22/01/12",
          "22/01/13",
          "22/01/14",
          "22/01/17",
          "22/01/18",
          "22/01/19",
          "22/01/20",
          "22/01/21",
          "22/01/24",
          "22/01/25",
          "22/01/26",
          "22/01/27",
          "22/01/28",
          "22/02/03",
          "22/02/04",
          "22/02/07",
          "22/02/08",
          "22/02/09",
          "22/02/10",
          "22/02/11",
          "22/02/14",
          "22/02/15",
          "22/02/16",
          "22/02/17",
          "22/02/18",
          "22/02/21",
          "22/02/22",
          "22/02/23",
          "22/02/24",
          "22/02/25",
          "22/02/28",
          "22/03/02",
          "22/03/03",
          "22/03/04",
          "22/03/07",
          "22/03/08",
          "22/03/10",
          "22/03/11",
          "22/03/14",
          "22/03/15",
          "22/03/16",
          "22/03/17",
          "22/03/18",
          "22/03/21",
          "22/03/22",
          "22/03/23",
          "22/03/24",
          "22/03/25",
          "22/03/28",
          "22/03/29",
          "22/03/30",
          "22/03/31"
         ],
         "xaxis": "x",
         "y": [
          7362,
          7531.999999999999,
          7830,
          7758,
          7428,
          8058,
          8272,
          8290,
          8224,
          8026.000000000001,
          8268,
          8286,
          8364,
          8348,
          8430,
          8612,
          8982,
          9142,
          8996,
          9106,
          9068,
          8910,
          9056,
          9128,
          9252,
          9152,
          9120,
          9104,
          9356,
          9314,
          9398,
          9524,
          9564,
          9672,
          9820,
          9548,
          9404,
          9624,
          9646,
          9524,
          9600,
          9680,
          9524,
          9986,
          10126,
          10166,
          10448,
          10450,
          10642,
          10582,
          10714,
          10472,
          10472,
          10596,
          10648,
          10626,
          10454,
          10554,
          10522,
          10570,
          10468,
          10440,
          10710,
          10952,
          11138,
          11246,
          11370,
          11594,
          11672,
          11736,
          12018,
          12010,
          12228,
          12104,
          11848,
          12298,
          12334,
          12644,
          12706,
          12300,
          11950,
          12256,
          12766,
          13218,
          13010,
          12802.000000000002,
          12888,
          13204,
          13122,
          13078,
          12960,
          12919.999999999998,
          12000,
          12284,
          12310,
          11552,
          12236,
          11712,
          12194,
          12312,
          12110,
          11832,
          null,
          null,
          null,
          null,
          null,
          null,
          null,
          null,
          null,
          null,
          null,
          null,
          null,
          null,
          null,
          null,
          null,
          null,
          null,
          null,
          null,
          null,
          null,
          null,
          null,
          null,
          null,
          null,
          null,
          null,
          null,
          null,
          null,
          null,
          null,
          null,
          null,
          null,
          null,
          null,
          null,
          null,
          null,
          null,
          null,
          null,
          null,
          null,
          null,
          null,
          null,
          null,
          null,
          null,
          null,
          null,
          null,
          null,
          null,
          null,
          null,
          null,
          null,
          null,
          null,
          null,
          null,
          null,
          null,
          null,
          null,
          null,
          null,
          null,
          null,
          null,
          null,
          null,
          null,
          null,
          null,
          null,
          null,
          null,
          null,
          null,
          null,
          null,
          null,
          null,
          null,
          null,
          null,
          null,
          null,
          null,
          null,
          null,
          null,
          null,
          null,
          null
         ],
         "yaxis": "y"
        },
        {
         "hovertemplate": "variable=oil(2021-2022)<br>Date=%{x}<br>value=%{y}<extra></extra>",
         "legendgroup": "oil(2021-2022)",
         "line": {
          "color": "#EF553B",
          "dash": "solid"
         },
         "marker": {
          "symbol": "circle"
         },
         "mode": "lines",
         "name": "oil(2021-2022)",
         "orientation": "v",
         "showlegend": true,
         "type": "scatter",
         "x": [
          "20/11/02",
          "20/11/03",
          "20/11/04",
          "20/11/05",
          "20/11/06",
          "20/11/09",
          "20/11/10",
          "20/11/11",
          "20/11/12",
          "20/11/13",
          "20/11/16",
          "20/11/17",
          "20/11/18",
          "20/11/19",
          "20/11/20",
          "20/11/23",
          "20/11/24",
          "20/11/25",
          "20/11/26",
          "20/11/27",
          "20/11/30",
          "20/12/01",
          "20/12/02",
          "20/12/03",
          "20/12/04",
          "20/12/07",
          "20/12/08",
          "20/12/09",
          "20/12/10",
          "20/12/11",
          "20/12/14",
          "20/12/15",
          "20/12/16",
          "20/12/17",
          "20/12/18",
          "20/12/21",
          "20/12/22",
          "20/12/23",
          "20/12/24",
          "20/12/28",
          "20/12/29",
          "20/12/30",
          "21/01/04",
          "21/01/05",
          "21/01/06",
          "21/01/07",
          "21/01/08",
          "21/01/11",
          "21/01/12",
          "21/01/13",
          "21/01/14",
          "21/01/15",
          "21/01/18",
          "21/01/19",
          "21/01/20",
          "21/01/21",
          "21/01/22",
          "21/01/25",
          "21/01/26",
          "21/01/27",
          "21/01/28",
          "21/01/29",
          "21/02/01",
          "21/02/02",
          "21/02/03",
          "21/02/04",
          "21/02/05",
          "21/02/08",
          "21/02/09",
          "21/02/10",
          "21/02/15",
          "21/02/16",
          "21/02/17",
          "21/02/18",
          "21/02/19",
          "21/02/22",
          "21/02/23",
          "21/02/24",
          "21/02/25",
          "21/02/26",
          "21/03/02",
          "21/03/03",
          "21/03/04",
          "21/03/05",
          "21/03/08",
          "21/03/09",
          "21/03/10",
          "21/03/11",
          "21/03/12",
          "21/03/15",
          "21/03/16",
          "21/03/17",
          "21/03/18",
          "21/03/19",
          "21/03/22",
          "21/03/23",
          "21/03/24",
          "21/03/25",
          "21/03/26",
          "21/03/29",
          "21/03/30",
          "21/03/31",
          "21/11/01",
          "21/11/02",
          "21/11/03",
          "21/11/04",
          "21/11/05",
          "21/11/08",
          "21/11/09",
          "21/11/10",
          "21/11/11",
          "21/11/12",
          "21/11/15",
          "21/11/16",
          "21/11/17",
          "21/11/18",
          "21/11/19",
          "21/11/22",
          "21/11/23",
          "21/11/24",
          "21/11/25",
          "21/11/26",
          "21/11/29",
          "21/11/30",
          "21/12/01",
          "21/12/02",
          "21/12/03",
          "21/12/06",
          "21/12/07",
          "21/12/08",
          "21/12/09",
          "21/12/10",
          "21/12/13",
          "21/12/14",
          "21/12/15",
          "21/12/16",
          "21/12/17",
          "21/12/20",
          "21/12/21",
          "21/12/22",
          "21/12/23",
          "21/12/27",
          "21/12/28",
          "21/12/29",
          "21/12/30",
          "22/01/03",
          "22/01/04",
          "22/01/05",
          "22/01/06",
          "22/01/07",
          "22/01/10",
          "22/01/11",
          "22/01/12",
          "22/01/13",
          "22/01/14",
          "22/01/17",
          "22/01/18",
          "22/01/19",
          "22/01/20",
          "22/01/21",
          "22/01/24",
          "22/01/25",
          "22/01/26",
          "22/01/27",
          "22/01/28",
          "22/02/03",
          "22/02/04",
          "22/02/07",
          "22/02/08",
          "22/02/09",
          "22/02/10",
          "22/02/11",
          "22/02/14",
          "22/02/15",
          "22/02/16",
          "22/02/17",
          "22/02/18",
          "22/02/21",
          "22/02/22",
          "22/02/23",
          "22/02/24",
          "22/02/25",
          "22/02/28",
          "22/03/02",
          "22/03/03",
          "22/03/04",
          "22/03/07",
          "22/03/08",
          "22/03/10",
          "22/03/11",
          "22/03/14",
          "22/03/15",
          "22/03/16",
          "22/03/17",
          "22/03/18",
          "22/03/21",
          "22/03/22",
          "22/03/23",
          "22/03/24",
          "22/03/25",
          "22/03/28",
          "22/03/29",
          "22/03/30",
          "22/03/31"
         ],
         "xaxis": "x",
         "y": [
          null,
          null,
          null,
          null,
          null,
          null,
          null,
          null,
          null,
          null,
          null,
          null,
          null,
          null,
          null,
          null,
          null,
          null,
          null,
          null,
          null,
          null,
          null,
          null,
          null,
          null,
          null,
          null,
          null,
          null,
          null,
          null,
          null,
          null,
          null,
          null,
          null,
          null,
          null,
          null,
          null,
          null,
          null,
          null,
          null,
          null,
          null,
          null,
          null,
          null,
          null,
          null,
          null,
          null,
          null,
          null,
          null,
          null,
          null,
          null,
          null,
          null,
          null,
          null,
          null,
          null,
          null,
          null,
          null,
          null,
          null,
          null,
          null,
          null,
          null,
          null,
          null,
          null,
          null,
          null,
          null,
          null,
          null,
          null,
          null,
          null,
          null,
          null,
          null,
          null,
          null,
          null,
          null,
          null,
          null,
          null,
          null,
          null,
          null,
          null,
          null,
          null,
          12607.5,
          12586.5,
          12129,
          11821.5,
          12190.5,
          12289.500000000002,
          12622.5,
          12201,
          12238.5,
          12118.500000000002,
          12132,
          12114,
          11754,
          11851.5,
          11415,
          11512.5,
          11775,
          11758.5,
          11611.5,
          10222.5,
          10492.5,
          9927.000000000002,
          9835.499999999998,
          9975,
          9939,
          10423.5,
          10807.5,
          10854,
          10641,
          10750.5,
          10693.500000000002,
          10609.5,
          10630.5,
          10857,
          10629,
          10234.5,
          10668,
          10914,
          11068.500000000002,
          11335.499999999998,
          11397,
          11484,
          11548.5,
          11412,
          11548.5,
          11677.5,
          11918.999999999998,
          11835,
          11734.5,
          12183,
          12396,
          12318,
          12572.999999999998,
          12553.5,
          12814.500000000002,
          13043.999999999998,
          13035,
          12771,
          12496.5,
          12840,
          13102.5,
          12991.5,
          13022.999999999998,
          13540.5,
          13846.5,
          13697.999999999998,
          13404,
          13449,
          13482,
          13965,
          14318.999999999998,
          13810.499999999998,
          14049,
          13764,
          13660.499999999998,
          13897.5,
          13852.5,
          13815,
          13921.5,
          13738.5,
          14358,
          16590,
          16150.5,
          17352,
          17910,
          18555,
          15903,
          16399.5,
          15451.5,
          14466,
          14256.000000000002,
          15447,
          15705,
          16818,
          16764,
          17239.5,
          16851,
          17085,
          15893.999999999998,
          15636,
          16172.999999999998,
          15042
         ],
         "yaxis": "y"
        },
        {
         "hovertemplate": "variable=produce(2020-2021)<br>Date=%{x}<br>value=%{y}<extra></extra>",
         "legendgroup": "produce(2020-2021)",
         "line": {
          "color": "#00cc96",
          "dash": "solid"
         },
         "marker": {
          "symbol": "circle"
         },
         "mode": "lines",
         "name": "produce(2020-2021)",
         "orientation": "v",
         "showlegend": true,
         "type": "scatter",
         "x": [
          "20/11/02",
          "20/11/03",
          "20/11/04",
          "20/11/05",
          "20/11/06",
          "20/11/09",
          "20/11/10",
          "20/11/11",
          "20/11/12",
          "20/11/13",
          "20/11/16",
          "20/11/17",
          "20/11/18",
          "20/11/19",
          "20/11/20",
          "20/11/23",
          "20/11/24",
          "20/11/25",
          "20/11/26",
          "20/11/27",
          "20/11/30",
          "20/12/01",
          "20/12/02",
          "20/12/03",
          "20/12/04",
          "20/12/07",
          "20/12/08",
          "20/12/09",
          "20/12/10",
          "20/12/11",
          "20/12/14",
          "20/12/15",
          "20/12/16",
          "20/12/17",
          "20/12/18",
          "20/12/21",
          "20/12/22",
          "20/12/23",
          "20/12/24",
          "20/12/28",
          "20/12/29",
          "20/12/30",
          "21/01/04",
          "21/01/05",
          "21/01/06",
          "21/01/07",
          "21/01/08",
          "21/01/11",
          "21/01/12",
          "21/01/13",
          "21/01/14",
          "21/01/15",
          "21/01/18",
          "21/01/19",
          "21/01/20",
          "21/01/21",
          "21/01/22",
          "21/01/25",
          "21/01/26",
          "21/01/27",
          "21/01/28",
          "21/01/29",
          "21/02/01",
          "21/02/02",
          "21/02/03",
          "21/02/04",
          "21/02/05",
          "21/02/08",
          "21/02/09",
          "21/02/10",
          "21/02/15",
          "21/02/16",
          "21/02/17",
          "21/02/18",
          "21/02/19",
          "21/02/22",
          "21/02/23",
          "21/02/24",
          "21/02/25",
          "21/02/26",
          "21/03/02",
          "21/03/03",
          "21/03/04",
          "21/03/05",
          "21/03/08",
          "21/03/09",
          "21/03/10",
          "21/03/11",
          "21/03/12",
          "21/03/15",
          "21/03/16",
          "21/03/17",
          "21/03/18",
          "21/03/19",
          "21/03/22",
          "21/03/23",
          "21/03/24",
          "21/03/25",
          "21/03/26",
          "21/03/29",
          "21/03/30",
          "21/03/31",
          "21/11/01",
          "21/11/02",
          "21/11/03",
          "21/11/04",
          "21/11/05",
          "21/11/08",
          "21/11/09",
          "21/11/10",
          "21/11/11",
          "21/11/12",
          "21/11/15",
          "21/11/16",
          "21/11/17",
          "21/11/18",
          "21/11/19",
          "21/11/22",
          "21/11/23",
          "21/11/24",
          "21/11/25",
          "21/11/26",
          "21/11/29",
          "21/11/30",
          "21/12/01",
          "21/12/02",
          "21/12/03",
          "21/12/06",
          "21/12/07",
          "21/12/08",
          "21/12/09",
          "21/12/10",
          "21/12/13",
          "21/12/14",
          "21/12/15",
          "21/12/16",
          "21/12/17",
          "21/12/20",
          "21/12/21",
          "21/12/22",
          "21/12/23",
          "21/12/27",
          "21/12/28",
          "21/12/29",
          "21/12/30",
          "22/01/03",
          "22/01/04",
          "22/01/05",
          "22/01/06",
          "22/01/07",
          "22/01/10",
          "22/01/11",
          "22/01/12",
          "22/01/13",
          "22/01/14",
          "22/01/17",
          "22/01/18",
          "22/01/19",
          "22/01/20",
          "22/01/21",
          "22/01/24",
          "22/01/25",
          "22/01/26",
          "22/01/27",
          "22/01/28",
          "22/02/03",
          "22/02/04",
          "22/02/07",
          "22/02/08",
          "22/02/09",
          "22/02/10",
          "22/02/11",
          "22/02/14",
          "22/02/15",
          "22/02/16",
          "22/02/17",
          "22/02/18",
          "22/02/21",
          "22/02/22",
          "22/02/23",
          "22/02/24",
          "22/02/25",
          "22/02/28",
          "22/03/02",
          "22/03/03",
          "22/03/04",
          "22/03/07",
          "22/03/08",
          "22/03/10",
          "22/03/11",
          "22/03/14",
          "22/03/15",
          "22/03/16",
          "22/03/17",
          "22/03/18",
          "22/03/21",
          "22/03/22",
          "22/03/23",
          "22/03/24",
          "22/03/25",
          "22/03/28",
          "22/03/29",
          "22/03/30",
          "22/03/31"
         ],
         "xaxis": "x",
         "y": [
          8045,
          8120,
          8165,
          8335,
          8355,
          8300,
          8300,
          8575,
          8460,
          8345,
          8435,
          8525,
          8565,
          8590,
          8580,
          8655,
          8600,
          8710,
          8680,
          8660,
          8675,
          8500,
          8380,
          8450,
          8445,
          8335,
          8320,
          8280,
          8415,
          8470,
          8590,
          8505,
          8560,
          8605,
          8700,
          8815,
          8810,
          8870,
          9020,
          9040,
          9015,
          9135,
          9625,
          9545,
          9785,
          9715,
          9710,
          9635,
          9620,
          10220,
          10105,
          10190,
          10310,
          10180,
          9955,
          10030,
          9840,
          9480,
          9655,
          10100,
          9975,
          10000,
          10205,
          10060,
          9910,
          10100,
          10045,
          10065,
          10290,
          10180,
          10130,
          10085,
          10195,
          10065,
          10070,
          10075,
          10300,
          10260,
          10380,
          10170,
          9970,
          10110,
          10090,
          10070,
          10295,
          10185,
          10110,
          10055,
          10010,
          9970,
          10125,
          10180,
          10125,
          10005,
          10075,
          10045,
          10080,
          10045,
          9985,
          9950,
          9880,
          9735,
          null,
          null,
          null,
          null,
          null,
          null,
          null,
          null,
          null,
          null,
          null,
          null,
          null,
          null,
          null,
          null,
          null,
          null,
          null,
          null,
          null,
          null,
          null,
          null,
          null,
          null,
          null,
          null,
          null,
          null,
          null,
          null,
          null,
          null,
          null,
          null,
          null,
          null,
          null,
          null,
          null,
          null,
          null,
          null,
          null,
          null,
          null,
          null,
          null,
          null,
          null,
          null,
          null,
          null,
          null,
          null,
          null,
          null,
          null,
          null,
          null,
          null,
          null,
          null,
          null,
          null,
          null,
          null,
          null,
          null,
          null,
          null,
          null,
          null,
          null,
          null,
          null,
          null,
          null,
          null,
          null,
          null,
          null,
          null,
          null,
          null,
          null,
          null,
          null,
          null,
          null,
          null,
          null,
          null,
          null,
          null,
          null,
          null,
          null,
          null,
          null,
          null
         ],
         "yaxis": "y"
        },
        {
         "hovertemplate": "variable=produce(2021-2022)<br>Date=%{x}<br>value=%{y}<extra></extra>",
         "legendgroup": "produce(2021-2022)",
         "line": {
          "color": "#ab63fa",
          "dash": "solid"
         },
         "marker": {
          "symbol": "circle"
         },
         "mode": "lines",
         "name": "produce(2021-2022)",
         "orientation": "v",
         "showlegend": true,
         "type": "scatter",
         "x": [
          "20/11/02",
          "20/11/03",
          "20/11/04",
          "20/11/05",
          "20/11/06",
          "20/11/09",
          "20/11/10",
          "20/11/11",
          "20/11/12",
          "20/11/13",
          "20/11/16",
          "20/11/17",
          "20/11/18",
          "20/11/19",
          "20/11/20",
          "20/11/23",
          "20/11/24",
          "20/11/25",
          "20/11/26",
          "20/11/27",
          "20/11/30",
          "20/12/01",
          "20/12/02",
          "20/12/03",
          "20/12/04",
          "20/12/07",
          "20/12/08",
          "20/12/09",
          "20/12/10",
          "20/12/11",
          "20/12/14",
          "20/12/15",
          "20/12/16",
          "20/12/17",
          "20/12/18",
          "20/12/21",
          "20/12/22",
          "20/12/23",
          "20/12/24",
          "20/12/28",
          "20/12/29",
          "20/12/30",
          "21/01/04",
          "21/01/05",
          "21/01/06",
          "21/01/07",
          "21/01/08",
          "21/01/11",
          "21/01/12",
          "21/01/13",
          "21/01/14",
          "21/01/15",
          "21/01/18",
          "21/01/19",
          "21/01/20",
          "21/01/21",
          "21/01/22",
          "21/01/25",
          "21/01/26",
          "21/01/27",
          "21/01/28",
          "21/01/29",
          "21/02/01",
          "21/02/02",
          "21/02/03",
          "21/02/04",
          "21/02/05",
          "21/02/08",
          "21/02/09",
          "21/02/10",
          "21/02/15",
          "21/02/16",
          "21/02/17",
          "21/02/18",
          "21/02/19",
          "21/02/22",
          "21/02/23",
          "21/02/24",
          "21/02/25",
          "21/02/26",
          "21/03/02",
          "21/03/03",
          "21/03/04",
          "21/03/05",
          "21/03/08",
          "21/03/09",
          "21/03/10",
          "21/03/11",
          "21/03/12",
          "21/03/15",
          "21/03/16",
          "21/03/17",
          "21/03/18",
          "21/03/19",
          "21/03/22",
          "21/03/23",
          "21/03/24",
          "21/03/25",
          "21/03/26",
          "21/03/29",
          "21/03/30",
          "21/03/31",
          "21/11/01",
          "21/11/02",
          "21/11/03",
          "21/11/04",
          "21/11/05",
          "21/11/08",
          "21/11/09",
          "21/11/10",
          "21/11/11",
          "21/11/12",
          "21/11/15",
          "21/11/16",
          "21/11/17",
          "21/11/18",
          "21/11/19",
          "21/11/22",
          "21/11/23",
          "21/11/24",
          "21/11/25",
          "21/11/26",
          "21/11/29",
          "21/11/30",
          "21/12/01",
          "21/12/02",
          "21/12/03",
          "21/12/06",
          "21/12/07",
          "21/12/08",
          "21/12/09",
          "21/12/10",
          "21/12/13",
          "21/12/14",
          "21/12/15",
          "21/12/16",
          "21/12/17",
          "21/12/20",
          "21/12/21",
          "21/12/22",
          "21/12/23",
          "21/12/27",
          "21/12/28",
          "21/12/29",
          "21/12/30",
          "22/01/03",
          "22/01/04",
          "22/01/05",
          "22/01/06",
          "22/01/07",
          "22/01/10",
          "22/01/11",
          "22/01/12",
          "22/01/13",
          "22/01/14",
          "22/01/17",
          "22/01/18",
          "22/01/19",
          "22/01/20",
          "22/01/21",
          "22/01/24",
          "22/01/25",
          "22/01/26",
          "22/01/27",
          "22/01/28",
          "22/02/03",
          "22/02/04",
          "22/02/07",
          "22/02/08",
          "22/02/09",
          "22/02/10",
          "22/02/11",
          "22/02/14",
          "22/02/15",
          "22/02/16",
          "22/02/17",
          "22/02/18",
          "22/02/21",
          "22/02/22",
          "22/02/23",
          "22/02/24",
          "22/02/25",
          "22/02/28",
          "22/03/02",
          "22/03/03",
          "22/03/04",
          "22/03/07",
          "22/03/08",
          "22/03/10",
          "22/03/11",
          "22/03/14",
          "22/03/15",
          "22/03/16",
          "22/03/17",
          "22/03/18",
          "22/03/21",
          "22/03/22",
          "22/03/23",
          "22/03/24",
          "22/03/25",
          "22/03/28",
          "22/03/29",
          "22/03/30",
          "22/03/31"
         ],
         "xaxis": "x",
         "y": [
          null,
          null,
          null,
          null,
          null,
          null,
          null,
          null,
          null,
          null,
          null,
          null,
          null,
          null,
          null,
          null,
          null,
          null,
          null,
          null,
          null,
          null,
          null,
          null,
          null,
          null,
          null,
          null,
          null,
          null,
          null,
          null,
          null,
          null,
          null,
          null,
          null,
          null,
          null,
          null,
          null,
          null,
          null,
          null,
          null,
          null,
          null,
          null,
          null,
          null,
          null,
          null,
          null,
          null,
          null,
          null,
          null,
          null,
          null,
          null,
          null,
          null,
          null,
          null,
          null,
          null,
          null,
          null,
          null,
          null,
          null,
          null,
          null,
          null,
          null,
          null,
          null,
          null,
          null,
          null,
          null,
          null,
          null,
          null,
          null,
          null,
          null,
          null,
          null,
          null,
          null,
          null,
          null,
          null,
          null,
          null,
          null,
          null,
          null,
          null,
          null,
          null,
          10970,
          11175,
          11070,
          11000,
          10875,
          10770,
          10730,
          10850,
          11100,
          11105,
          11210,
          11250,
          11145,
          11330,
          11305,
          11255,
          11360,
          11500,
          11370,
          11235,
          11400,
          11150,
          10950,
          10940,
          11160,
          11165,
          11130,
          11115,
          11120,
          11100,
          11115,
          11035,
          11040,
          11000,
          11090,
          11070,
          11140,
          11315,
          11515,
          11520,
          11650,
          11400,
          11470,
          11395,
          11350,
          11450,
          11250,
          11310,
          11400,
          11360,
          11450,
          11330,
          11200,
          11300,
          11200,
          11430,
          11650,
          11610,
          11755,
          11755,
          11735,
          11760,
          11835,
          11870,
          11900,
          12155,
          12230,
          12210,
          12380,
          12260,
          12575,
          12370,
          12200,
          12415,
          12395,
          12600,
          12760,
          13020,
          13960,
          13675,
          13215,
          14140,
          14715,
          15300,
          15955,
          15535,
          14655,
          14700,
          14525,
          14470,
          14740,
          14115,
          14585,
          14505,
          15050,
          14700,
          14625,
          14535,
          14470,
          14350,
          14020,
          14235
         ],
         "yaxis": "y"
        }
       ],
       "layout": {
        "legend": {
         "title": {
          "text": "variable"
         },
         "tracegroupgap": 0
        },
        "margin": {
         "t": 60
        },
        "template": {
         "data": {
          "bar": [
           {
            "error_x": {
             "color": "#2a3f5f"
            },
            "error_y": {
             "color": "#2a3f5f"
            },
            "marker": {
             "line": {
              "color": "#E5ECF6",
              "width": 0.5
             },
             "pattern": {
              "fillmode": "overlay",
              "size": 10,
              "solidity": 0.2
             }
            },
            "type": "bar"
           }
          ],
          "barpolar": [
           {
            "marker": {
             "line": {
              "color": "#E5ECF6",
              "width": 0.5
             },
             "pattern": {
              "fillmode": "overlay",
              "size": 10,
              "solidity": 0.2
             }
            },
            "type": "barpolar"
           }
          ],
          "carpet": [
           {
            "aaxis": {
             "endlinecolor": "#2a3f5f",
             "gridcolor": "white",
             "linecolor": "white",
             "minorgridcolor": "white",
             "startlinecolor": "#2a3f5f"
            },
            "baxis": {
             "endlinecolor": "#2a3f5f",
             "gridcolor": "white",
             "linecolor": "white",
             "minorgridcolor": "white",
             "startlinecolor": "#2a3f5f"
            },
            "type": "carpet"
           }
          ],
          "choropleth": [
           {
            "colorbar": {
             "outlinewidth": 0,
             "ticks": ""
            },
            "type": "choropleth"
           }
          ],
          "contour": [
           {
            "colorbar": {
             "outlinewidth": 0,
             "ticks": ""
            },
            "colorscale": [
             [
              0,
              "#0d0887"
             ],
             [
              0.1111111111111111,
              "#46039f"
             ],
             [
              0.2222222222222222,
              "#7201a8"
             ],
             [
              0.3333333333333333,
              "#9c179e"
             ],
             [
              0.4444444444444444,
              "#bd3786"
             ],
             [
              0.5555555555555556,
              "#d8576b"
             ],
             [
              0.6666666666666666,
              "#ed7953"
             ],
             [
              0.7777777777777778,
              "#fb9f3a"
             ],
             [
              0.8888888888888888,
              "#fdca26"
             ],
             [
              1,
              "#f0f921"
             ]
            ],
            "type": "contour"
           }
          ],
          "contourcarpet": [
           {
            "colorbar": {
             "outlinewidth": 0,
             "ticks": ""
            },
            "type": "contourcarpet"
           }
          ],
          "heatmap": [
           {
            "colorbar": {
             "outlinewidth": 0,
             "ticks": ""
            },
            "colorscale": [
             [
              0,
              "#0d0887"
             ],
             [
              0.1111111111111111,
              "#46039f"
             ],
             [
              0.2222222222222222,
              "#7201a8"
             ],
             [
              0.3333333333333333,
              "#9c179e"
             ],
             [
              0.4444444444444444,
              "#bd3786"
             ],
             [
              0.5555555555555556,
              "#d8576b"
             ],
             [
              0.6666666666666666,
              "#ed7953"
             ],
             [
              0.7777777777777778,
              "#fb9f3a"
             ],
             [
              0.8888888888888888,
              "#fdca26"
             ],
             [
              1,
              "#f0f921"
             ]
            ],
            "type": "heatmap"
           }
          ],
          "heatmapgl": [
           {
            "colorbar": {
             "outlinewidth": 0,
             "ticks": ""
            },
            "colorscale": [
             [
              0,
              "#0d0887"
             ],
             [
              0.1111111111111111,
              "#46039f"
             ],
             [
              0.2222222222222222,
              "#7201a8"
             ],
             [
              0.3333333333333333,
              "#9c179e"
             ],
             [
              0.4444444444444444,
              "#bd3786"
             ],
             [
              0.5555555555555556,
              "#d8576b"
             ],
             [
              0.6666666666666666,
              "#ed7953"
             ],
             [
              0.7777777777777778,
              "#fb9f3a"
             ],
             [
              0.8888888888888888,
              "#fdca26"
             ],
             [
              1,
              "#f0f921"
             ]
            ],
            "type": "heatmapgl"
           }
          ],
          "histogram": [
           {
            "marker": {
             "pattern": {
              "fillmode": "overlay",
              "size": 10,
              "solidity": 0.2
             }
            },
            "type": "histogram"
           }
          ],
          "histogram2d": [
           {
            "colorbar": {
             "outlinewidth": 0,
             "ticks": ""
            },
            "colorscale": [
             [
              0,
              "#0d0887"
             ],
             [
              0.1111111111111111,
              "#46039f"
             ],
             [
              0.2222222222222222,
              "#7201a8"
             ],
             [
              0.3333333333333333,
              "#9c179e"
             ],
             [
              0.4444444444444444,
              "#bd3786"
             ],
             [
              0.5555555555555556,
              "#d8576b"
             ],
             [
              0.6666666666666666,
              "#ed7953"
             ],
             [
              0.7777777777777778,
              "#fb9f3a"
             ],
             [
              0.8888888888888888,
              "#fdca26"
             ],
             [
              1,
              "#f0f921"
             ]
            ],
            "type": "histogram2d"
           }
          ],
          "histogram2dcontour": [
           {
            "colorbar": {
             "outlinewidth": 0,
             "ticks": ""
            },
            "colorscale": [
             [
              0,
              "#0d0887"
             ],
             [
              0.1111111111111111,
              "#46039f"
             ],
             [
              0.2222222222222222,
              "#7201a8"
             ],
             [
              0.3333333333333333,
              "#9c179e"
             ],
             [
              0.4444444444444444,
              "#bd3786"
             ],
             [
              0.5555555555555556,
              "#d8576b"
             ],
             [
              0.6666666666666666,
              "#ed7953"
             ],
             [
              0.7777777777777778,
              "#fb9f3a"
             ],
             [
              0.8888888888888888,
              "#fdca26"
             ],
             [
              1,
              "#f0f921"
             ]
            ],
            "type": "histogram2dcontour"
           }
          ],
          "mesh3d": [
           {
            "colorbar": {
             "outlinewidth": 0,
             "ticks": ""
            },
            "type": "mesh3d"
           }
          ],
          "parcoords": [
           {
            "line": {
             "colorbar": {
              "outlinewidth": 0,
              "ticks": ""
             }
            },
            "type": "parcoords"
           }
          ],
          "pie": [
           {
            "automargin": true,
            "type": "pie"
           }
          ],
          "scatter": [
           {
            "marker": {
             "colorbar": {
              "outlinewidth": 0,
              "ticks": ""
             }
            },
            "type": "scatter"
           }
          ],
          "scatter3d": [
           {
            "line": {
             "colorbar": {
              "outlinewidth": 0,
              "ticks": ""
             }
            },
            "marker": {
             "colorbar": {
              "outlinewidth": 0,
              "ticks": ""
             }
            },
            "type": "scatter3d"
           }
          ],
          "scattercarpet": [
           {
            "marker": {
             "colorbar": {
              "outlinewidth": 0,
              "ticks": ""
             }
            },
            "type": "scattercarpet"
           }
          ],
          "scattergeo": [
           {
            "marker": {
             "colorbar": {
              "outlinewidth": 0,
              "ticks": ""
             }
            },
            "type": "scattergeo"
           }
          ],
          "scattergl": [
           {
            "marker": {
             "colorbar": {
              "outlinewidth": 0,
              "ticks": ""
             }
            },
            "type": "scattergl"
           }
          ],
          "scattermapbox": [
           {
            "marker": {
             "colorbar": {
              "outlinewidth": 0,
              "ticks": ""
             }
            },
            "type": "scattermapbox"
           }
          ],
          "scatterpolar": [
           {
            "marker": {
             "colorbar": {
              "outlinewidth": 0,
              "ticks": ""
             }
            },
            "type": "scatterpolar"
           }
          ],
          "scatterpolargl": [
           {
            "marker": {
             "colorbar": {
              "outlinewidth": 0,
              "ticks": ""
             }
            },
            "type": "scatterpolargl"
           }
          ],
          "scatterternary": [
           {
            "marker": {
             "colorbar": {
              "outlinewidth": 0,
              "ticks": ""
             }
            },
            "type": "scatterternary"
           }
          ],
          "surface": [
           {
            "colorbar": {
             "outlinewidth": 0,
             "ticks": ""
            },
            "colorscale": [
             [
              0,
              "#0d0887"
             ],
             [
              0.1111111111111111,
              "#46039f"
             ],
             [
              0.2222222222222222,
              "#7201a8"
             ],
             [
              0.3333333333333333,
              "#9c179e"
             ],
             [
              0.4444444444444444,
              "#bd3786"
             ],
             [
              0.5555555555555556,
              "#d8576b"
             ],
             [
              0.6666666666666666,
              "#ed7953"
             ],
             [
              0.7777777777777778,
              "#fb9f3a"
             ],
             [
              0.8888888888888888,
              "#fdca26"
             ],
             [
              1,
              "#f0f921"
             ]
            ],
            "type": "surface"
           }
          ],
          "table": [
           {
            "cells": {
             "fill": {
              "color": "#EBF0F8"
             },
             "line": {
              "color": "white"
             }
            },
            "header": {
             "fill": {
              "color": "#C8D4E3"
             },
             "line": {
              "color": "white"
             }
            },
            "type": "table"
           }
          ]
         },
         "layout": {
          "annotationdefaults": {
           "arrowcolor": "#2a3f5f",
           "arrowhead": 0,
           "arrowwidth": 1
          },
          "autotypenumbers": "strict",
          "coloraxis": {
           "colorbar": {
            "outlinewidth": 0,
            "ticks": ""
           }
          },
          "colorscale": {
           "diverging": [
            [
             0,
             "#8e0152"
            ],
            [
             0.1,
             "#c51b7d"
            ],
            [
             0.2,
             "#de77ae"
            ],
            [
             0.3,
             "#f1b6da"
            ],
            [
             0.4,
             "#fde0ef"
            ],
            [
             0.5,
             "#f7f7f7"
            ],
            [
             0.6,
             "#e6f5d0"
            ],
            [
             0.7,
             "#b8e186"
            ],
            [
             0.8,
             "#7fbc41"
            ],
            [
             0.9,
             "#4d9221"
            ],
            [
             1,
             "#276419"
            ]
           ],
           "sequential": [
            [
             0,
             "#0d0887"
            ],
            [
             0.1111111111111111,
             "#46039f"
            ],
            [
             0.2222222222222222,
             "#7201a8"
            ],
            [
             0.3333333333333333,
             "#9c179e"
            ],
            [
             0.4444444444444444,
             "#bd3786"
            ],
            [
             0.5555555555555556,
             "#d8576b"
            ],
            [
             0.6666666666666666,
             "#ed7953"
            ],
            [
             0.7777777777777778,
             "#fb9f3a"
            ],
            [
             0.8888888888888888,
             "#fdca26"
            ],
            [
             1,
             "#f0f921"
            ]
           ],
           "sequentialminus": [
            [
             0,
             "#0d0887"
            ],
            [
             0.1111111111111111,
             "#46039f"
            ],
            [
             0.2222222222222222,
             "#7201a8"
            ],
            [
             0.3333333333333333,
             "#9c179e"
            ],
            [
             0.4444444444444444,
             "#bd3786"
            ],
            [
             0.5555555555555556,
             "#d8576b"
            ],
            [
             0.6666666666666666,
             "#ed7953"
            ],
            [
             0.7777777777777778,
             "#fb9f3a"
            ],
            [
             0.8888888888888888,
             "#fdca26"
            ],
            [
             1,
             "#f0f921"
            ]
           ]
          },
          "colorway": [
           "#636efa",
           "#EF553B",
           "#00cc96",
           "#ab63fa",
           "#FFA15A",
           "#19d3f3",
           "#FF6692",
           "#B6E880",
           "#FF97FF",
           "#FECB52"
          ],
          "font": {
           "color": "#2a3f5f"
          },
          "geo": {
           "bgcolor": "white",
           "lakecolor": "white",
           "landcolor": "#E5ECF6",
           "showlakes": true,
           "showland": true,
           "subunitcolor": "white"
          },
          "hoverlabel": {
           "align": "left"
          },
          "hovermode": "closest",
          "mapbox": {
           "style": "light"
          },
          "paper_bgcolor": "white",
          "plot_bgcolor": "#E5ECF6",
          "polar": {
           "angularaxis": {
            "gridcolor": "white",
            "linecolor": "white",
            "ticks": ""
           },
           "bgcolor": "#E5ECF6",
           "radialaxis": {
            "gridcolor": "white",
            "linecolor": "white",
            "ticks": ""
           }
          },
          "scene": {
           "xaxis": {
            "backgroundcolor": "#E5ECF6",
            "gridcolor": "white",
            "gridwidth": 2,
            "linecolor": "white",
            "showbackground": true,
            "ticks": "",
            "zerolinecolor": "white"
           },
           "yaxis": {
            "backgroundcolor": "#E5ECF6",
            "gridcolor": "white",
            "gridwidth": 2,
            "linecolor": "white",
            "showbackground": true,
            "ticks": "",
            "zerolinecolor": "white"
           },
           "zaxis": {
            "backgroundcolor": "#E5ECF6",
            "gridcolor": "white",
            "gridwidth": 2,
            "linecolor": "white",
            "showbackground": true,
            "ticks": "",
            "zerolinecolor": "white"
           }
          },
          "shapedefaults": {
           "line": {
            "color": "#2a3f5f"
           }
          },
          "ternary": {
           "aaxis": {
            "gridcolor": "white",
            "linecolor": "white",
            "ticks": ""
           },
           "baxis": {
            "gridcolor": "white",
            "linecolor": "white",
            "ticks": ""
           },
           "bgcolor": "#E5ECF6",
           "caxis": {
            "gridcolor": "white",
            "linecolor": "white",
            "ticks": ""
           }
          },
          "title": {
           "x": 0.05
          },
          "xaxis": {
           "automargin": true,
           "gridcolor": "white",
           "linecolor": "white",
           "ticks": "",
           "title": {
            "standoff": 15
           },
           "zerolinecolor": "white",
           "zerolinewidth": 2
          },
          "yaxis": {
           "automargin": true,
           "gridcolor": "white",
           "linecolor": "white",
           "ticks": "",
           "title": {
            "standoff": 15
           },
           "zerolinecolor": "white",
           "zerolinewidth": 2
          }
         }
        },
        "xaxis": {
         "anchor": "y",
         "domain": [
          0,
          1
         ],
         "title": {
          "text": "Date"
         }
        },
        "yaxis": {
         "anchor": "x",
         "domain": [
          0,
          1
         ],
         "title": {
          "text": "value"
         }
        }
       }
      }
     },
     "metadata": {},
     "output_type": "display_data"
    }
   ],
   "source": [
    "# 합\n",
    "WI_WTI = pd.read_csv('../csv/WTI_WI.csv')\n",
    "NWI_WTI = pd.read_csv('../csv/WTI_noWI.csv')\n",
    "beforewar = pd.read_csv('../csv/beforewar.csv')\n",
    "afterwar = pd.read_csv('../csv/afterwar.csv')\n",
    "\n",
    "# 날짜 데이터 정렬\n",
    "WI_WTI.sort_values('날짜', ascending=True, inplace=True)\n",
    "NWI_WTI.sort_values('날짜', ascending=True, inplace=True)\n",
    "\n",
    "# 날짜 데이터 변환\n",
    "WI_WTI['날짜'] = WI_WTI['날짜'].str.replace(\" \",\"\")\n",
    "WI_WTI['날짜'] = WI_WTI['날짜'].str.replace(\"년\",\"-\")\n",
    "WI_WTI['날짜'] = WI_WTI['날짜'].str.replace(\"월\",\"-\")\n",
    "WI_WTI['날짜'] = WI_WTI['날짜'].str.replace(\"일\",\"\")\n",
    "WI_WTI['날짜'] = pd.to_datetime(WI_WTI['날짜'])\n",
    "WI_WTI['날짜'] = WI_WTI['날짜'].dt.strftime('%y/%m/%d')\n",
    "\n",
    "NWI_WTI['날짜'] = NWI_WTI['날짜'].str.replace(\" \",\"\")\n",
    "NWI_WTI['날짜'] = NWI_WTI['날짜'].str.replace(\"년\",\"-\")\n",
    "NWI_WTI['날짜'] = NWI_WTI['날짜'].str.replace(\"월\",\"-\")\n",
    "NWI_WTI['날짜'] = NWI_WTI['날짜'].str.replace(\"일\",\"\")\n",
    "NWI_WTI['날짜'] = pd.to_datetime(NWI_WTI['날짜'])\n",
    "NWI_WTI['날짜'] = NWI_WTI['날짜'].dt.strftime('%y/%m/%d')\n",
    "\n",
    "# 컬럼명 변경\n",
    "WI_WTI = WI_WTI.rename(columns={'날짜':'Date', '종가':'oil(2021-2022)'})\n",
    "NWI_WTI = NWI_WTI.rename(columns={'날짜':'Date', '종가':'oil(2020-2021)'})\n",
    "\n",
    "# 병합\n",
    "war_oil = pd.merge(NWI_WTI, WI_WTI, how='outer', on='Date')\n",
    "war_oil[['Date', 'oil(2020-2021)', 'oil(2021-2022)']]\n",
    "\n",
    "# oil '*200', '*150' 가중\n",
    "war_oil['oil(2020-2021)'] = war_oil['oil(2020-2021)'] * 200\n",
    "war_oil['oil(2021-2022)'] = war_oil['oil(2021-2022)'] * 150\n",
    "\n",
    "# 날짜 데이터 변환\n",
    "beforewar['Date'] = pd.to_datetime(beforewar['Date'])\n",
    "afterwar['Date'] = pd.to_datetime(afterwar['Date'])\n",
    "\n",
    "beforewar['Date'] = beforewar['Date'].dt.strftime('%y/%m/%d')\n",
    "afterwar['Date'] = afterwar['Date'].dt.strftime('%y/%m/%d')\n",
    "\n",
    "# 컬럼명 변경\n",
    "beforewar = beforewar.rename(columns={'Close':'produce(2020-2021)'})\n",
    "afterwar = afterwar.rename(columns={'Close':'produce(2021-2022)'})\n",
    "\n",
    "# 병합\n",
    "war_produce = pd.merge(beforewar, afterwar, how='outer', on='Date')\n",
    "war_produce[['Date', 'produce(2020-2021)', 'produce(2021-2022)']]\n",
    "\n",
    "# 병합2\n",
    "war_oil_produce = pd.merge(war_produce, war_oil, how='inner', on='Date')\n",
    "\n",
    "# 시각화\n",
    "fig = px.line(war_oil_produce, x='Date', y=[\"oil(2020-2021)\",\"oil(2021-2022)\",\"produce(2020-2021)\",\"produce(2021-2022)\"])\n",
    "fig.show()"
   ]
  },
  {
   "cell_type": "markdown",
   "metadata": {},
   "source": [
    "![war_oil_produce](https://user-images.githubusercontent.com/96412661/164569906-31e29fe9-4105-49c9-b86b-672b25791d0a.png)"
   ]
  }
 ],
 "metadata": {
  "interpreter": {
   "hash": "aee8b7b246df8f9039afb4144a1f6fd8d2ca17a180786b69acc140d282b71a49"
  },
  "kernelspec": {
   "display_name": "Python 3.10.2 64-bit",
   "language": "python",
   "name": "python3"
  },
  "language_info": {
   "codemirror_mode": {
    "name": "ipython",
    "version": 3
   },
   "file_extension": ".py",
   "mimetype": "text/x-python",
   "name": "python",
   "nbconvert_exporter": "python",
   "pygments_lexer": "ipython3",
   "version": "3.10.2"
  },
  "orig_nbformat": 4
 },
 "nbformat": 4,
 "nbformat_minor": 2
}
