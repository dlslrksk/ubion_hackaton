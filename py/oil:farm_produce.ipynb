{
 "cells": [
  {
   "cell_type": "code",
   "execution_count": null,
   "metadata": {},
   "outputs": [],
   "source": [
    "import FinanceDataReader as fdr\n",
    "import pandas as pd\n",
    "import pandas_datareader as pdr\n",
    "import matplotlib.pyplot as plt\n",
    "import plotly.express as px\n",
    "import sklearn.linear_model as lm"
   ]
  },
  {
   "cell_type": "markdown",
   "metadata": {},
   "source": [
    "#### 뉴스 : 우크라이나 전쟁 + a(발칸반도, 911, 중동전쟁)"
   ]
  },
  {
   "cell_type": "code",
   "execution_count": 192,
   "metadata": {},
   "outputs": [
    {
     "data": {
      "application/vnd.plotly.v1+json": {
       "config": {
        "plotlyServerURL": "https://plot.ly"
       },
       "data": [
        {
         "hovertemplate": "variable=oil(2020-2021)<br>Date=%{x}<br>value=%{y}<extra></extra>",
         "legendgroup": "oil(2020-2021)",
         "line": {
          "color": "#636efa",
          "dash": "solid"
         },
         "marker": {
          "symbol": "circle"
         },
         "mode": "lines",
         "name": "oil(2020-2021)",
         "orientation": "v",
         "showlegend": true,
         "type": "scatter",
         "x": [
          "11/02",
          "11/03",
          "11/04",
          "11/05",
          "11/09",
          "11/10",
          "11/11",
          "11/12",
          "11/16",
          "11/17",
          "11/18",
          "11/19",
          "11/23",
          "11/24",
          "11/25",
          "11/26",
          "11/30",
          "12/01",
          "12/02",
          "12/03",
          "12/07",
          "12/08",
          "12/09",
          "12/10",
          "12/14",
          "12/15",
          "12/16",
          "12/17",
          "12/21",
          "12/22",
          "12/23",
          "12/28",
          "12/29",
          "12/30",
          "12/31",
          "01/04",
          "01/05",
          "01/06",
          "01/07",
          "01/11",
          "01/12",
          "01/13",
          "01/14",
          "01/17",
          "01/18",
          "01/19",
          "01/20",
          "01/21",
          "01/25",
          "01/26",
          "01/27",
          "01/28",
          "02/01",
          "02/02",
          "02/03",
          "02/04",
          "02/08",
          "02/09",
          "02/10",
          "02/11",
          "02/14",
          "02/15",
          "02/16",
          "02/17",
          "02/18",
          "02/22",
          "02/23",
          "02/24",
          "02/25",
          "03/01",
          "03/02",
          "03/03",
          "03/04",
          "03/08",
          "03/09",
          "03/10",
          "03/11",
          "03/15",
          "03/16",
          "03/17",
          "03/18",
          "03/22",
          "03/23",
          "03/24",
          "03/25",
          "03/29",
          "03/30",
          "03/31"
         ],
         "xaxis": "x",
         "y": [
          36.81,
          37.66,
          39.15,
          38.79,
          40.29,
          41.36,
          41.45,
          41.12,
          41.34,
          41.43,
          41.82,
          41.74,
          43.06,
          44.91,
          45.71,
          44.98,
          45.34,
          44.55,
          45.28,
          45.64,
          45.76,
          45.6,
          45.52,
          46.78,
          46.99,
          47.62,
          47.82,
          48.36,
          47.74,
          47.02,
          48.12,
          47.62,
          48,
          48.4,
          48.52,
          47.62,
          49.93,
          50.63,
          50.83,
          52.25,
          53.21,
          52.91,
          53.57,
          52.2,
          52.36,
          52.98,
          53.24,
          53.13,
          52.77,
          52.61,
          52.85,
          52.34,
          53.55,
          54.76,
          55.69,
          56.23,
          57.97,
          58.36,
          58.68,
          58.24,
          60.37,
          60.09,
          60.05,
          61.14,
          60.52,
          61.49,
          61.67,
          63.22,
          63.53,
          60.64,
          59.75,
          61.28,
          63.83,
          65.05,
          64.01,
          64.44,
          66.02,
          65.39,
          64.8,
          64.6,
          60,
          61.55,
          57.76,
          61.18,
          58.56,
          61.56,
          60.55,
          59.16
         ],
         "yaxis": "y"
        },
        {
         "hovertemplate": "variable=oil(2021-2022)<br>Date=%{x}<br>value=%{y}<extra></extra>",
         "legendgroup": "oil(2021-2022)",
         "line": {
          "color": "#EF553B",
          "dash": "solid"
         },
         "marker": {
          "symbol": "circle"
         },
         "mode": "lines",
         "name": "oil(2021-2022)",
         "orientation": "v",
         "showlegend": true,
         "type": "scatter",
         "x": [
          "11/02",
          "11/03",
          "11/04",
          "11/05",
          "11/09",
          "11/10",
          "11/11",
          "11/12",
          "11/16",
          "11/17",
          "11/18",
          "11/19",
          "11/23",
          "11/24",
          "11/25",
          "11/26",
          "11/30",
          "12/01",
          "12/02",
          "12/03",
          "12/07",
          "12/08",
          "12/09",
          "12/10",
          "12/14",
          "12/15",
          "12/16",
          "12/17",
          "12/21",
          "12/22",
          "12/23",
          "12/28",
          "12/29",
          "12/30",
          "12/31",
          "01/04",
          "01/05",
          "01/06",
          "01/07",
          "01/11",
          "01/12",
          "01/13",
          "01/14",
          "01/17",
          "01/18",
          "01/19",
          "01/20",
          "01/21",
          "01/25",
          "01/26",
          "01/27",
          "01/28",
          "02/01",
          "02/02",
          "02/03",
          "02/04",
          "02/08",
          "02/09",
          "02/10",
          "02/11",
          "02/14",
          "02/15",
          "02/16",
          "02/17",
          "02/18",
          "02/22",
          "02/23",
          "02/24",
          "02/25",
          "03/01",
          "03/02",
          "03/03",
          "03/04",
          "03/08",
          "03/09",
          "03/10",
          "03/11",
          "03/15",
          "03/16",
          "03/17",
          "03/18",
          "03/22",
          "03/23",
          "03/24",
          "03/25",
          "03/29",
          "03/30",
          "03/31"
         ],
         "xaxis": "x",
         "y": [
          83.91,
          80.86,
          78.81,
          81.27,
          84.15,
          81.34,
          81.59,
          80.79,
          80.76,
          78.36,
          79.01,
          76.1,
          78.5,
          78.39,
          77.41,
          68.15,
          66.18,
          65.57,
          66.5,
          66.26,
          72.05,
          72.36,
          70.94,
          71.67,
          70.73,
          70.87,
          72.38,
          70.86,
          71.12,
          72.76,
          73.79,
          75.98,
          76.56,
          76.99,
          75.21,
          76.99,
          77.85,
          79.46,
          78.9,
          81.22,
          82.64,
          82.12,
          83.82,
          83.69,
          85.43,
          86.96,
          86.9,
          85.14,
          85.6,
          87.35,
          86.61,
          86.82,
          88.2,
          88.26,
          90.27,
          92.31,
          89.36,
          89.66,
          89.88,
          93.1,
          95.46,
          92.07,
          93.66,
          91.76,
          91.07,
          92.35,
          92.1,
          92.81,
          91.59,
          103.41,
          110.6,
          107.67,
          115.68,
          123.7,
          108.7,
          106.02,
          109.33,
          96.44,
          95.04,
          102.98,
          104.7,
          111.76,
          114.93,
          112.34,
          113.9,
          104.24,
          107.82,
          100.28
         ],
         "yaxis": "y"
        }
       ],
       "layout": {
        "legend": {
         "title": {
          "text": "variable"
         },
         "tracegroupgap": 0
        },
        "margin": {
         "t": 60
        },
        "template": {
         "data": {
          "bar": [
           {
            "error_x": {
             "color": "#2a3f5f"
            },
            "error_y": {
             "color": "#2a3f5f"
            },
            "marker": {
             "line": {
              "color": "#E5ECF6",
              "width": 0.5
             },
             "pattern": {
              "fillmode": "overlay",
              "size": 10,
              "solidity": 0.2
             }
            },
            "type": "bar"
           }
          ],
          "barpolar": [
           {
            "marker": {
             "line": {
              "color": "#E5ECF6",
              "width": 0.5
             },
             "pattern": {
              "fillmode": "overlay",
              "size": 10,
              "solidity": 0.2
             }
            },
            "type": "barpolar"
           }
          ],
          "carpet": [
           {
            "aaxis": {
             "endlinecolor": "#2a3f5f",
             "gridcolor": "white",
             "linecolor": "white",
             "minorgridcolor": "white",
             "startlinecolor": "#2a3f5f"
            },
            "baxis": {
             "endlinecolor": "#2a3f5f",
             "gridcolor": "white",
             "linecolor": "white",
             "minorgridcolor": "white",
             "startlinecolor": "#2a3f5f"
            },
            "type": "carpet"
           }
          ],
          "choropleth": [
           {
            "colorbar": {
             "outlinewidth": 0,
             "ticks": ""
            },
            "type": "choropleth"
           }
          ],
          "contour": [
           {
            "colorbar": {
             "outlinewidth": 0,
             "ticks": ""
            },
            "colorscale": [
             [
              0,
              "#0d0887"
             ],
             [
              0.1111111111111111,
              "#46039f"
             ],
             [
              0.2222222222222222,
              "#7201a8"
             ],
             [
              0.3333333333333333,
              "#9c179e"
             ],
             [
              0.4444444444444444,
              "#bd3786"
             ],
             [
              0.5555555555555556,
              "#d8576b"
             ],
             [
              0.6666666666666666,
              "#ed7953"
             ],
             [
              0.7777777777777778,
              "#fb9f3a"
             ],
             [
              0.8888888888888888,
              "#fdca26"
             ],
             [
              1,
              "#f0f921"
             ]
            ],
            "type": "contour"
           }
          ],
          "contourcarpet": [
           {
            "colorbar": {
             "outlinewidth": 0,
             "ticks": ""
            },
            "type": "contourcarpet"
           }
          ],
          "heatmap": [
           {
            "colorbar": {
             "outlinewidth": 0,
             "ticks": ""
            },
            "colorscale": [
             [
              0,
              "#0d0887"
             ],
             [
              0.1111111111111111,
              "#46039f"
             ],
             [
              0.2222222222222222,
              "#7201a8"
             ],
             [
              0.3333333333333333,
              "#9c179e"
             ],
             [
              0.4444444444444444,
              "#bd3786"
             ],
             [
              0.5555555555555556,
              "#d8576b"
             ],
             [
              0.6666666666666666,
              "#ed7953"
             ],
             [
              0.7777777777777778,
              "#fb9f3a"
             ],
             [
              0.8888888888888888,
              "#fdca26"
             ],
             [
              1,
              "#f0f921"
             ]
            ],
            "type": "heatmap"
           }
          ],
          "heatmapgl": [
           {
            "colorbar": {
             "outlinewidth": 0,
             "ticks": ""
            },
            "colorscale": [
             [
              0,
              "#0d0887"
             ],
             [
              0.1111111111111111,
              "#46039f"
             ],
             [
              0.2222222222222222,
              "#7201a8"
             ],
             [
              0.3333333333333333,
              "#9c179e"
             ],
             [
              0.4444444444444444,
              "#bd3786"
             ],
             [
              0.5555555555555556,
              "#d8576b"
             ],
             [
              0.6666666666666666,
              "#ed7953"
             ],
             [
              0.7777777777777778,
              "#fb9f3a"
             ],
             [
              0.8888888888888888,
              "#fdca26"
             ],
             [
              1,
              "#f0f921"
             ]
            ],
            "type": "heatmapgl"
           }
          ],
          "histogram": [
           {
            "marker": {
             "pattern": {
              "fillmode": "overlay",
              "size": 10,
              "solidity": 0.2
             }
            },
            "type": "histogram"
           }
          ],
          "histogram2d": [
           {
            "colorbar": {
             "outlinewidth": 0,
             "ticks": ""
            },
            "colorscale": [
             [
              0,
              "#0d0887"
             ],
             [
              0.1111111111111111,
              "#46039f"
             ],
             [
              0.2222222222222222,
              "#7201a8"
             ],
             [
              0.3333333333333333,
              "#9c179e"
             ],
             [
              0.4444444444444444,
              "#bd3786"
             ],
             [
              0.5555555555555556,
              "#d8576b"
             ],
             [
              0.6666666666666666,
              "#ed7953"
             ],
             [
              0.7777777777777778,
              "#fb9f3a"
             ],
             [
              0.8888888888888888,
              "#fdca26"
             ],
             [
              1,
              "#f0f921"
             ]
            ],
            "type": "histogram2d"
           }
          ],
          "histogram2dcontour": [
           {
            "colorbar": {
             "outlinewidth": 0,
             "ticks": ""
            },
            "colorscale": [
             [
              0,
              "#0d0887"
             ],
             [
              0.1111111111111111,
              "#46039f"
             ],
             [
              0.2222222222222222,
              "#7201a8"
             ],
             [
              0.3333333333333333,
              "#9c179e"
             ],
             [
              0.4444444444444444,
              "#bd3786"
             ],
             [
              0.5555555555555556,
              "#d8576b"
             ],
             [
              0.6666666666666666,
              "#ed7953"
             ],
             [
              0.7777777777777778,
              "#fb9f3a"
             ],
             [
              0.8888888888888888,
              "#fdca26"
             ],
             [
              1,
              "#f0f921"
             ]
            ],
            "type": "histogram2dcontour"
           }
          ],
          "mesh3d": [
           {
            "colorbar": {
             "outlinewidth": 0,
             "ticks": ""
            },
            "type": "mesh3d"
           }
          ],
          "parcoords": [
           {
            "line": {
             "colorbar": {
              "outlinewidth": 0,
              "ticks": ""
             }
            },
            "type": "parcoords"
           }
          ],
          "pie": [
           {
            "automargin": true,
            "type": "pie"
           }
          ],
          "scatter": [
           {
            "marker": {
             "colorbar": {
              "outlinewidth": 0,
              "ticks": ""
             }
            },
            "type": "scatter"
           }
          ],
          "scatter3d": [
           {
            "line": {
             "colorbar": {
              "outlinewidth": 0,
              "ticks": ""
             }
            },
            "marker": {
             "colorbar": {
              "outlinewidth": 0,
              "ticks": ""
             }
            },
            "type": "scatter3d"
           }
          ],
          "scattercarpet": [
           {
            "marker": {
             "colorbar": {
              "outlinewidth": 0,
              "ticks": ""
             }
            },
            "type": "scattercarpet"
           }
          ],
          "scattergeo": [
           {
            "marker": {
             "colorbar": {
              "outlinewidth": 0,
              "ticks": ""
             }
            },
            "type": "scattergeo"
           }
          ],
          "scattergl": [
           {
            "marker": {
             "colorbar": {
              "outlinewidth": 0,
              "ticks": ""
             }
            },
            "type": "scattergl"
           }
          ],
          "scattermapbox": [
           {
            "marker": {
             "colorbar": {
              "outlinewidth": 0,
              "ticks": ""
             }
            },
            "type": "scattermapbox"
           }
          ],
          "scatterpolar": [
           {
            "marker": {
             "colorbar": {
              "outlinewidth": 0,
              "ticks": ""
             }
            },
            "type": "scatterpolar"
           }
          ],
          "scatterpolargl": [
           {
            "marker": {
             "colorbar": {
              "outlinewidth": 0,
              "ticks": ""
             }
            },
            "type": "scatterpolargl"
           }
          ],
          "scatterternary": [
           {
            "marker": {
             "colorbar": {
              "outlinewidth": 0,
              "ticks": ""
             }
            },
            "type": "scatterternary"
           }
          ],
          "surface": [
           {
            "colorbar": {
             "outlinewidth": 0,
             "ticks": ""
            },
            "colorscale": [
             [
              0,
              "#0d0887"
             ],
             [
              0.1111111111111111,
              "#46039f"
             ],
             [
              0.2222222222222222,
              "#7201a8"
             ],
             [
              0.3333333333333333,
              "#9c179e"
             ],
             [
              0.4444444444444444,
              "#bd3786"
             ],
             [
              0.5555555555555556,
              "#d8576b"
             ],
             [
              0.6666666666666666,
              "#ed7953"
             ],
             [
              0.7777777777777778,
              "#fb9f3a"
             ],
             [
              0.8888888888888888,
              "#fdca26"
             ],
             [
              1,
              "#f0f921"
             ]
            ],
            "type": "surface"
           }
          ],
          "table": [
           {
            "cells": {
             "fill": {
              "color": "#EBF0F8"
             },
             "line": {
              "color": "white"
             }
            },
            "header": {
             "fill": {
              "color": "#C8D4E3"
             },
             "line": {
              "color": "white"
             }
            },
            "type": "table"
           }
          ]
         },
         "layout": {
          "annotationdefaults": {
           "arrowcolor": "#2a3f5f",
           "arrowhead": 0,
           "arrowwidth": 1
          },
          "autotypenumbers": "strict",
          "coloraxis": {
           "colorbar": {
            "outlinewidth": 0,
            "ticks": ""
           }
          },
          "colorscale": {
           "diverging": [
            [
             0,
             "#8e0152"
            ],
            [
             0.1,
             "#c51b7d"
            ],
            [
             0.2,
             "#de77ae"
            ],
            [
             0.3,
             "#f1b6da"
            ],
            [
             0.4,
             "#fde0ef"
            ],
            [
             0.5,
             "#f7f7f7"
            ],
            [
             0.6,
             "#e6f5d0"
            ],
            [
             0.7,
             "#b8e186"
            ],
            [
             0.8,
             "#7fbc41"
            ],
            [
             0.9,
             "#4d9221"
            ],
            [
             1,
             "#276419"
            ]
           ],
           "sequential": [
            [
             0,
             "#0d0887"
            ],
            [
             0.1111111111111111,
             "#46039f"
            ],
            [
             0.2222222222222222,
             "#7201a8"
            ],
            [
             0.3333333333333333,
             "#9c179e"
            ],
            [
             0.4444444444444444,
             "#bd3786"
            ],
            [
             0.5555555555555556,
             "#d8576b"
            ],
            [
             0.6666666666666666,
             "#ed7953"
            ],
            [
             0.7777777777777778,
             "#fb9f3a"
            ],
            [
             0.8888888888888888,
             "#fdca26"
            ],
            [
             1,
             "#f0f921"
            ]
           ],
           "sequentialminus": [
            [
             0,
             "#0d0887"
            ],
            [
             0.1111111111111111,
             "#46039f"
            ],
            [
             0.2222222222222222,
             "#7201a8"
            ],
            [
             0.3333333333333333,
             "#9c179e"
            ],
            [
             0.4444444444444444,
             "#bd3786"
            ],
            [
             0.5555555555555556,
             "#d8576b"
            ],
            [
             0.6666666666666666,
             "#ed7953"
            ],
            [
             0.7777777777777778,
             "#fb9f3a"
            ],
            [
             0.8888888888888888,
             "#fdca26"
            ],
            [
             1,
             "#f0f921"
            ]
           ]
          },
          "colorway": [
           "#636efa",
           "#EF553B",
           "#00cc96",
           "#ab63fa",
           "#FFA15A",
           "#19d3f3",
           "#FF6692",
           "#B6E880",
           "#FF97FF",
           "#FECB52"
          ],
          "font": {
           "color": "#2a3f5f"
          },
          "geo": {
           "bgcolor": "white",
           "lakecolor": "white",
           "landcolor": "#E5ECF6",
           "showlakes": true,
           "showland": true,
           "subunitcolor": "white"
          },
          "hoverlabel": {
           "align": "left"
          },
          "hovermode": "closest",
          "mapbox": {
           "style": "light"
          },
          "paper_bgcolor": "white",
          "plot_bgcolor": "#E5ECF6",
          "polar": {
           "angularaxis": {
            "gridcolor": "white",
            "linecolor": "white",
            "ticks": ""
           },
           "bgcolor": "#E5ECF6",
           "radialaxis": {
            "gridcolor": "white",
            "linecolor": "white",
            "ticks": ""
           }
          },
          "scene": {
           "xaxis": {
            "backgroundcolor": "#E5ECF6",
            "gridcolor": "white",
            "gridwidth": 2,
            "linecolor": "white",
            "showbackground": true,
            "ticks": "",
            "zerolinecolor": "white"
           },
           "yaxis": {
            "backgroundcolor": "#E5ECF6",
            "gridcolor": "white",
            "gridwidth": 2,
            "linecolor": "white",
            "showbackground": true,
            "ticks": "",
            "zerolinecolor": "white"
           },
           "zaxis": {
            "backgroundcolor": "#E5ECF6",
            "gridcolor": "white",
            "gridwidth": 2,
            "linecolor": "white",
            "showbackground": true,
            "ticks": "",
            "zerolinecolor": "white"
           }
          },
          "shapedefaults": {
           "line": {
            "color": "#2a3f5f"
           }
          },
          "ternary": {
           "aaxis": {
            "gridcolor": "white",
            "linecolor": "white",
            "ticks": ""
           },
           "baxis": {
            "gridcolor": "white",
            "linecolor": "white",
            "ticks": ""
           },
           "bgcolor": "#E5ECF6",
           "caxis": {
            "gridcolor": "white",
            "linecolor": "white",
            "ticks": ""
           }
          },
          "title": {
           "x": 0.05
          },
          "xaxis": {
           "automargin": true,
           "gridcolor": "white",
           "linecolor": "white",
           "ticks": "",
           "title": {
            "standoff": 15
           },
           "zerolinecolor": "white",
           "zerolinewidth": 2
          },
          "yaxis": {
           "automargin": true,
           "gridcolor": "white",
           "linecolor": "white",
           "ticks": "",
           "title": {
            "standoff": 15
           },
           "zerolinecolor": "white",
           "zerolinewidth": 2
          }
         }
        },
        "xaxis": {
         "anchor": "y",
         "domain": [
          0,
          1
         ],
         "title": {
          "text": "Date"
         }
        },
        "yaxis": {
         "anchor": "x",
         "domain": [
          0,
          1
         ],
         "title": {
          "text": "value"
         }
        }
       }
      }
     },
     "metadata": {},
     "output_type": "display_data"
    }
   ],
   "source": [
    "# 원유 데이터 불러오기\n",
    "WI_WTI = pd.read_csv('../csv/WTI_WI.csv')\n",
    "NWI_WTI = pd.read_csv('../csv/WTI_noWI.csv')\n",
    "\n",
    "# 날짜 데이터 정렬\n",
    "WI_WTI.sort_values('날짜', ascending=True, inplace=True)\n",
    "NWI_WTI.sort_values('날짜', ascending=True, inplace=True)\n",
    "\n",
    "# 날짜 데이터 변환\n",
    "WI_WTI['날짜'] = WI_WTI['날짜'].str.replace(\" \",\"\")\n",
    "WI_WTI['날짜'] = WI_WTI['날짜'].str.replace(\"년\",\"-\")\n",
    "WI_WTI['날짜'] = WI_WTI['날짜'].str.replace(\"월\",\"-\")\n",
    "WI_WTI['날짜'] = WI_WTI['날짜'].str.replace(\"일\",\"\")\n",
    "WI_WTI['날짜'] = pd.to_datetime(WI_WTI['날짜'])\n",
    "WI_WTI['날짜'] = WI_WTI['날짜'].dt.strftime('%m/%d')\n",
    "\n",
    "NWI_WTI['날짜'] = NWI_WTI['날짜'].str.replace(\" \",\"\")\n",
    "NWI_WTI['날짜'] = NWI_WTI['날짜'].str.replace(\"년\",\"-\")\n",
    "NWI_WTI['날짜'] = NWI_WTI['날짜'].str.replace(\"월\",\"-\")\n",
    "NWI_WTI['날짜'] = NWI_WTI['날짜'].str.replace(\"일\",\"\")\n",
    "NWI_WTI['날짜'] = pd.to_datetime(NWI_WTI['날짜'])\n",
    "NWI_WTI['날짜'] = NWI_WTI['날짜'].dt.strftime('%m/%d')\n",
    "\n",
    "# 컬럼명 변경\n",
    "WI_WTI = WI_WTI.rename(columns={'날짜':'Date', '종가':'oil(2021-2022)'})\n",
    "NWI_WTI = NWI_WTI.rename(columns={'날짜':'Date', '종가':'oil(2020-2021)'})\n",
    "\n",
    "# 병합\n",
    "war_oil = pd.merge(NWI_WTI, WI_WTI, how='inner', on='Date')\n",
    "war_oil[['Date', 'oil(2020-2021)', 'oil(2021-2022)']]\n",
    "\n",
    "# 시각화\n",
    "fig = px.line(war_oil, x='Date', y=[\"oil(2020-2021)\", \"oil(2021-2022)\"])\n",
    "fig.show()\n"
   ]
  },
  {
   "cell_type": "code",
   "execution_count": 193,
   "metadata": {},
   "outputs": [
    {
     "data": {
      "application/vnd.plotly.v1+json": {
       "config": {
        "plotlyServerURL": "https://plot.ly"
       },
       "data": [
        {
         "hovertemplate": "variable=produce(2020-2021)<br>Date=%{x}<br>value=%{y}<extra></extra>",
         "legendgroup": "produce(2020-2021)",
         "line": {
          "color": "#636efa",
          "dash": "solid"
         },
         "marker": {
          "symbol": "circle"
         },
         "mode": "lines",
         "name": "produce(2020-2021)",
         "orientation": "v",
         "showlegend": true,
         "type": "scatter",
         "x": [
          "11/02",
          "11/03",
          "11/04",
          "11/05",
          "11/09",
          "11/10",
          "11/11",
          "11/12",
          "11/16",
          "11/17",
          "11/18",
          "11/19",
          "11/23",
          "11/24",
          "11/25",
          "11/26",
          "11/30",
          "12/01",
          "12/02",
          "12/03",
          "12/07",
          "12/08",
          "12/09",
          "12/10",
          "12/14",
          "12/15",
          "12/16",
          "12/17",
          "12/21",
          "12/22",
          "12/23",
          "12/24",
          "12/28",
          "12/29",
          "12/30",
          "01/04",
          "01/05",
          "01/06",
          "01/07",
          "01/11",
          "01/12",
          "01/13",
          "01/14",
          "01/18",
          "01/19",
          "01/20",
          "01/21",
          "01/25",
          "01/26",
          "01/27",
          "01/28",
          "02/03",
          "02/04",
          "02/08",
          "02/09",
          "02/10",
          "02/15",
          "02/16",
          "02/17",
          "02/18",
          "02/22",
          "02/23",
          "02/24",
          "02/25",
          "03/02",
          "03/03",
          "03/04",
          "03/08",
          "03/10",
          "03/11",
          "03/15",
          "03/16",
          "03/17",
          "03/18",
          "03/22",
          "03/23",
          "03/24",
          "03/25",
          "03/29",
          "03/30",
          "03/31"
         ],
         "xaxis": "x",
         "y": [
          8045,
          8120,
          8165,
          8335,
          8300,
          8300,
          8575,
          8460,
          8435,
          8525,
          8565,
          8590,
          8655,
          8600,
          8710,
          8680,
          8675,
          8500,
          8380,
          8450,
          8335,
          8320,
          8280,
          8415,
          8590,
          8505,
          8560,
          8605,
          8815,
          8810,
          8870,
          9020,
          9040,
          9015,
          9135,
          9625,
          9545,
          9785,
          9715,
          9635,
          9620,
          10220,
          10105,
          10310,
          10180,
          9955,
          10030,
          9480,
          9655,
          10100,
          9975,
          9910,
          10100,
          10065,
          10290,
          10180,
          10130,
          10085,
          10195,
          10065,
          10075,
          10300,
          10260,
          10380,
          9970,
          10110,
          10090,
          10295,
          10110,
          10055,
          9970,
          10125,
          10180,
          10125,
          10075,
          10045,
          10080,
          10045,
          9950,
          9880,
          9735
         ],
         "yaxis": "y"
        },
        {
         "hovertemplate": "variable=produce(2021-2022)<br>Date=%{x}<br>value=%{y}<extra></extra>",
         "legendgroup": "produce(2021-2022)",
         "line": {
          "color": "#EF553B",
          "dash": "solid"
         },
         "marker": {
          "symbol": "circle"
         },
         "mode": "lines",
         "name": "produce(2021-2022)",
         "orientation": "v",
         "showlegend": true,
         "type": "scatter",
         "x": [
          "11/02",
          "11/03",
          "11/04",
          "11/05",
          "11/09",
          "11/10",
          "11/11",
          "11/12",
          "11/16",
          "11/17",
          "11/18",
          "11/19",
          "11/23",
          "11/24",
          "11/25",
          "11/26",
          "11/30",
          "12/01",
          "12/02",
          "12/03",
          "12/07",
          "12/08",
          "12/09",
          "12/10",
          "12/14",
          "12/15",
          "12/16",
          "12/17",
          "12/21",
          "12/22",
          "12/23",
          "12/24",
          "12/28",
          "12/29",
          "12/30",
          "01/04",
          "01/05",
          "01/06",
          "01/07",
          "01/11",
          "01/12",
          "01/13",
          "01/14",
          "01/18",
          "01/19",
          "01/20",
          "01/21",
          "01/25",
          "01/26",
          "01/27",
          "01/28",
          "02/03",
          "02/04",
          "02/08",
          "02/09",
          "02/10",
          "02/15",
          "02/16",
          "02/17",
          "02/18",
          "02/22",
          "02/23",
          "02/24",
          "02/25",
          "03/02",
          "03/03",
          "03/04",
          "03/08",
          "03/10",
          "03/11",
          "03/15",
          "03/16",
          "03/17",
          "03/18",
          "03/22",
          "03/23",
          "03/24",
          "03/25",
          "03/29",
          "03/30",
          "03/31"
         ],
         "xaxis": "x",
         "y": [
          11175,
          11070,
          11000,
          10875,
          10730,
          10850,
          11100,
          11105,
          11250,
          11145,
          11330,
          11305,
          11360,
          11500,
          11370,
          11235,
          11150,
          10950,
          10940,
          11160,
          11130,
          11115,
          11120,
          11100,
          11035,
          11040,
          11000,
          11090,
          11140,
          11315,
          11515,
          11405,
          11650,
          11400,
          11470,
          11350,
          11450,
          11250,
          11310,
          11360,
          11450,
          11330,
          11200,
          11200,
          11430,
          11650,
          11610,
          11755,
          11735,
          11760,
          11835,
          11870,
          11900,
          12230,
          12210,
          12380,
          12370,
          12200,
          12415,
          12395,
          12760,
          13020,
          13960,
          13675,
          14140,
          14715,
          15300,
          15535,
          14655,
          14700,
          14470,
          14740,
          14115,
          14585,
          15050,
          14700,
          14625,
          14535,
          14350,
          14020,
          14235
         ],
         "yaxis": "y"
        }
       ],
       "layout": {
        "legend": {
         "title": {
          "text": "variable"
         },
         "tracegroupgap": 0
        },
        "margin": {
         "t": 60
        },
        "template": {
         "data": {
          "bar": [
           {
            "error_x": {
             "color": "#2a3f5f"
            },
            "error_y": {
             "color": "#2a3f5f"
            },
            "marker": {
             "line": {
              "color": "#E5ECF6",
              "width": 0.5
             },
             "pattern": {
              "fillmode": "overlay",
              "size": 10,
              "solidity": 0.2
             }
            },
            "type": "bar"
           }
          ],
          "barpolar": [
           {
            "marker": {
             "line": {
              "color": "#E5ECF6",
              "width": 0.5
             },
             "pattern": {
              "fillmode": "overlay",
              "size": 10,
              "solidity": 0.2
             }
            },
            "type": "barpolar"
           }
          ],
          "carpet": [
           {
            "aaxis": {
             "endlinecolor": "#2a3f5f",
             "gridcolor": "white",
             "linecolor": "white",
             "minorgridcolor": "white",
             "startlinecolor": "#2a3f5f"
            },
            "baxis": {
             "endlinecolor": "#2a3f5f",
             "gridcolor": "white",
             "linecolor": "white",
             "minorgridcolor": "white",
             "startlinecolor": "#2a3f5f"
            },
            "type": "carpet"
           }
          ],
          "choropleth": [
           {
            "colorbar": {
             "outlinewidth": 0,
             "ticks": ""
            },
            "type": "choropleth"
           }
          ],
          "contour": [
           {
            "colorbar": {
             "outlinewidth": 0,
             "ticks": ""
            },
            "colorscale": [
             [
              0,
              "#0d0887"
             ],
             [
              0.1111111111111111,
              "#46039f"
             ],
             [
              0.2222222222222222,
              "#7201a8"
             ],
             [
              0.3333333333333333,
              "#9c179e"
             ],
             [
              0.4444444444444444,
              "#bd3786"
             ],
             [
              0.5555555555555556,
              "#d8576b"
             ],
             [
              0.6666666666666666,
              "#ed7953"
             ],
             [
              0.7777777777777778,
              "#fb9f3a"
             ],
             [
              0.8888888888888888,
              "#fdca26"
             ],
             [
              1,
              "#f0f921"
             ]
            ],
            "type": "contour"
           }
          ],
          "contourcarpet": [
           {
            "colorbar": {
             "outlinewidth": 0,
             "ticks": ""
            },
            "type": "contourcarpet"
           }
          ],
          "heatmap": [
           {
            "colorbar": {
             "outlinewidth": 0,
             "ticks": ""
            },
            "colorscale": [
             [
              0,
              "#0d0887"
             ],
             [
              0.1111111111111111,
              "#46039f"
             ],
             [
              0.2222222222222222,
              "#7201a8"
             ],
             [
              0.3333333333333333,
              "#9c179e"
             ],
             [
              0.4444444444444444,
              "#bd3786"
             ],
             [
              0.5555555555555556,
              "#d8576b"
             ],
             [
              0.6666666666666666,
              "#ed7953"
             ],
             [
              0.7777777777777778,
              "#fb9f3a"
             ],
             [
              0.8888888888888888,
              "#fdca26"
             ],
             [
              1,
              "#f0f921"
             ]
            ],
            "type": "heatmap"
           }
          ],
          "heatmapgl": [
           {
            "colorbar": {
             "outlinewidth": 0,
             "ticks": ""
            },
            "colorscale": [
             [
              0,
              "#0d0887"
             ],
             [
              0.1111111111111111,
              "#46039f"
             ],
             [
              0.2222222222222222,
              "#7201a8"
             ],
             [
              0.3333333333333333,
              "#9c179e"
             ],
             [
              0.4444444444444444,
              "#bd3786"
             ],
             [
              0.5555555555555556,
              "#d8576b"
             ],
             [
              0.6666666666666666,
              "#ed7953"
             ],
             [
              0.7777777777777778,
              "#fb9f3a"
             ],
             [
              0.8888888888888888,
              "#fdca26"
             ],
             [
              1,
              "#f0f921"
             ]
            ],
            "type": "heatmapgl"
           }
          ],
          "histogram": [
           {
            "marker": {
             "pattern": {
              "fillmode": "overlay",
              "size": 10,
              "solidity": 0.2
             }
            },
            "type": "histogram"
           }
          ],
          "histogram2d": [
           {
            "colorbar": {
             "outlinewidth": 0,
             "ticks": ""
            },
            "colorscale": [
             [
              0,
              "#0d0887"
             ],
             [
              0.1111111111111111,
              "#46039f"
             ],
             [
              0.2222222222222222,
              "#7201a8"
             ],
             [
              0.3333333333333333,
              "#9c179e"
             ],
             [
              0.4444444444444444,
              "#bd3786"
             ],
             [
              0.5555555555555556,
              "#d8576b"
             ],
             [
              0.6666666666666666,
              "#ed7953"
             ],
             [
              0.7777777777777778,
              "#fb9f3a"
             ],
             [
              0.8888888888888888,
              "#fdca26"
             ],
             [
              1,
              "#f0f921"
             ]
            ],
            "type": "histogram2d"
           }
          ],
          "histogram2dcontour": [
           {
            "colorbar": {
             "outlinewidth": 0,
             "ticks": ""
            },
            "colorscale": [
             [
              0,
              "#0d0887"
             ],
             [
              0.1111111111111111,
              "#46039f"
             ],
             [
              0.2222222222222222,
              "#7201a8"
             ],
             [
              0.3333333333333333,
              "#9c179e"
             ],
             [
              0.4444444444444444,
              "#bd3786"
             ],
             [
              0.5555555555555556,
              "#d8576b"
             ],
             [
              0.6666666666666666,
              "#ed7953"
             ],
             [
              0.7777777777777778,
              "#fb9f3a"
             ],
             [
              0.8888888888888888,
              "#fdca26"
             ],
             [
              1,
              "#f0f921"
             ]
            ],
            "type": "histogram2dcontour"
           }
          ],
          "mesh3d": [
           {
            "colorbar": {
             "outlinewidth": 0,
             "ticks": ""
            },
            "type": "mesh3d"
           }
          ],
          "parcoords": [
           {
            "line": {
             "colorbar": {
              "outlinewidth": 0,
              "ticks": ""
             }
            },
            "type": "parcoords"
           }
          ],
          "pie": [
           {
            "automargin": true,
            "type": "pie"
           }
          ],
          "scatter": [
           {
            "marker": {
             "colorbar": {
              "outlinewidth": 0,
              "ticks": ""
             }
            },
            "type": "scatter"
           }
          ],
          "scatter3d": [
           {
            "line": {
             "colorbar": {
              "outlinewidth": 0,
              "ticks": ""
             }
            },
            "marker": {
             "colorbar": {
              "outlinewidth": 0,
              "ticks": ""
             }
            },
            "type": "scatter3d"
           }
          ],
          "scattercarpet": [
           {
            "marker": {
             "colorbar": {
              "outlinewidth": 0,
              "ticks": ""
             }
            },
            "type": "scattercarpet"
           }
          ],
          "scattergeo": [
           {
            "marker": {
             "colorbar": {
              "outlinewidth": 0,
              "ticks": ""
             }
            },
            "type": "scattergeo"
           }
          ],
          "scattergl": [
           {
            "marker": {
             "colorbar": {
              "outlinewidth": 0,
              "ticks": ""
             }
            },
            "type": "scattergl"
           }
          ],
          "scattermapbox": [
           {
            "marker": {
             "colorbar": {
              "outlinewidth": 0,
              "ticks": ""
             }
            },
            "type": "scattermapbox"
           }
          ],
          "scatterpolar": [
           {
            "marker": {
             "colorbar": {
              "outlinewidth": 0,
              "ticks": ""
             }
            },
            "type": "scatterpolar"
           }
          ],
          "scatterpolargl": [
           {
            "marker": {
             "colorbar": {
              "outlinewidth": 0,
              "ticks": ""
             }
            },
            "type": "scatterpolargl"
           }
          ],
          "scatterternary": [
           {
            "marker": {
             "colorbar": {
              "outlinewidth": 0,
              "ticks": ""
             }
            },
            "type": "scatterternary"
           }
          ],
          "surface": [
           {
            "colorbar": {
             "outlinewidth": 0,
             "ticks": ""
            },
            "colorscale": [
             [
              0,
              "#0d0887"
             ],
             [
              0.1111111111111111,
              "#46039f"
             ],
             [
              0.2222222222222222,
              "#7201a8"
             ],
             [
              0.3333333333333333,
              "#9c179e"
             ],
             [
              0.4444444444444444,
              "#bd3786"
             ],
             [
              0.5555555555555556,
              "#d8576b"
             ],
             [
              0.6666666666666666,
              "#ed7953"
             ],
             [
              0.7777777777777778,
              "#fb9f3a"
             ],
             [
              0.8888888888888888,
              "#fdca26"
             ],
             [
              1,
              "#f0f921"
             ]
            ],
            "type": "surface"
           }
          ],
          "table": [
           {
            "cells": {
             "fill": {
              "color": "#EBF0F8"
             },
             "line": {
              "color": "white"
             }
            },
            "header": {
             "fill": {
              "color": "#C8D4E3"
             },
             "line": {
              "color": "white"
             }
            },
            "type": "table"
           }
          ]
         },
         "layout": {
          "annotationdefaults": {
           "arrowcolor": "#2a3f5f",
           "arrowhead": 0,
           "arrowwidth": 1
          },
          "autotypenumbers": "strict",
          "coloraxis": {
           "colorbar": {
            "outlinewidth": 0,
            "ticks": ""
           }
          },
          "colorscale": {
           "diverging": [
            [
             0,
             "#8e0152"
            ],
            [
             0.1,
             "#c51b7d"
            ],
            [
             0.2,
             "#de77ae"
            ],
            [
             0.3,
             "#f1b6da"
            ],
            [
             0.4,
             "#fde0ef"
            ],
            [
             0.5,
             "#f7f7f7"
            ],
            [
             0.6,
             "#e6f5d0"
            ],
            [
             0.7,
             "#b8e186"
            ],
            [
             0.8,
             "#7fbc41"
            ],
            [
             0.9,
             "#4d9221"
            ],
            [
             1,
             "#276419"
            ]
           ],
           "sequential": [
            [
             0,
             "#0d0887"
            ],
            [
             0.1111111111111111,
             "#46039f"
            ],
            [
             0.2222222222222222,
             "#7201a8"
            ],
            [
             0.3333333333333333,
             "#9c179e"
            ],
            [
             0.4444444444444444,
             "#bd3786"
            ],
            [
             0.5555555555555556,
             "#d8576b"
            ],
            [
             0.6666666666666666,
             "#ed7953"
            ],
            [
             0.7777777777777778,
             "#fb9f3a"
            ],
            [
             0.8888888888888888,
             "#fdca26"
            ],
            [
             1,
             "#f0f921"
            ]
           ],
           "sequentialminus": [
            [
             0,
             "#0d0887"
            ],
            [
             0.1111111111111111,
             "#46039f"
            ],
            [
             0.2222222222222222,
             "#7201a8"
            ],
            [
             0.3333333333333333,
             "#9c179e"
            ],
            [
             0.4444444444444444,
             "#bd3786"
            ],
            [
             0.5555555555555556,
             "#d8576b"
            ],
            [
             0.6666666666666666,
             "#ed7953"
            ],
            [
             0.7777777777777778,
             "#fb9f3a"
            ],
            [
             0.8888888888888888,
             "#fdca26"
            ],
            [
             1,
             "#f0f921"
            ]
           ]
          },
          "colorway": [
           "#636efa",
           "#EF553B",
           "#00cc96",
           "#ab63fa",
           "#FFA15A",
           "#19d3f3",
           "#FF6692",
           "#B6E880",
           "#FF97FF",
           "#FECB52"
          ],
          "font": {
           "color": "#2a3f5f"
          },
          "geo": {
           "bgcolor": "white",
           "lakecolor": "white",
           "landcolor": "#E5ECF6",
           "showlakes": true,
           "showland": true,
           "subunitcolor": "white"
          },
          "hoverlabel": {
           "align": "left"
          },
          "hovermode": "closest",
          "mapbox": {
           "style": "light"
          },
          "paper_bgcolor": "white",
          "plot_bgcolor": "#E5ECF6",
          "polar": {
           "angularaxis": {
            "gridcolor": "white",
            "linecolor": "white",
            "ticks": ""
           },
           "bgcolor": "#E5ECF6",
           "radialaxis": {
            "gridcolor": "white",
            "linecolor": "white",
            "ticks": ""
           }
          },
          "scene": {
           "xaxis": {
            "backgroundcolor": "#E5ECF6",
            "gridcolor": "white",
            "gridwidth": 2,
            "linecolor": "white",
            "showbackground": true,
            "ticks": "",
            "zerolinecolor": "white"
           },
           "yaxis": {
            "backgroundcolor": "#E5ECF6",
            "gridcolor": "white",
            "gridwidth": 2,
            "linecolor": "white",
            "showbackground": true,
            "ticks": "",
            "zerolinecolor": "white"
           },
           "zaxis": {
            "backgroundcolor": "#E5ECF6",
            "gridcolor": "white",
            "gridwidth": 2,
            "linecolor": "white",
            "showbackground": true,
            "ticks": "",
            "zerolinecolor": "white"
           }
          },
          "shapedefaults": {
           "line": {
            "color": "#2a3f5f"
           }
          },
          "ternary": {
           "aaxis": {
            "gridcolor": "white",
            "linecolor": "white",
            "ticks": ""
           },
           "baxis": {
            "gridcolor": "white",
            "linecolor": "white",
            "ticks": ""
           },
           "bgcolor": "#E5ECF6",
           "caxis": {
            "gridcolor": "white",
            "linecolor": "white",
            "ticks": ""
           }
          },
          "title": {
           "x": 0.05
          },
          "xaxis": {
           "automargin": true,
           "gridcolor": "white",
           "linecolor": "white",
           "ticks": "",
           "title": {
            "standoff": 15
           },
           "zerolinecolor": "white",
           "zerolinewidth": 2
          },
          "yaxis": {
           "automargin": true,
           "gridcolor": "white",
           "linecolor": "white",
           "ticks": "",
           "title": {
            "standoff": 15
           },
           "zerolinecolor": "white",
           "zerolinewidth": 2
          }
         }
        },
        "xaxis": {
         "anchor": "y",
         "domain": [
          0,
          1
         ],
         "title": {
          "text": "Date"
         }
        },
        "yaxis": {
         "anchor": "x",
         "domain": [
          0,
          1
         ],
         "title": {
          "text": "value"
         }
        }
       }
      }
     },
     "metadata": {},
     "output_type": "display_data"
    }
   ],
   "source": [
    "# 농산물 데이터 불러오기\n",
    "# 271060 : KODEX 3대농산물선물(H) - 옥수수, 콩, 밀\n",
    "# 전쟁의 영향력을 알기 위해 '러시아의 우크라이나 침공이 언급되는 시점 및 전년동기대비 가격'\n",
    "beforewar = pd.read_csv('../csv/beforewar.csv')\n",
    "afterwar = pd.read_csv('../csv/afterwar.csv')\n",
    "\n",
    "# 날짜 데이터 변환\n",
    "# beforewar['Date'] = beforewar['Date'].str[5:]\n",
    "# afterwar['Date'] = afterwar['Date'].str[5:]\n",
    "\n",
    "beforewar['Date'] = pd.to_datetime(beforewar['Date'])\n",
    "afterwar['Date'] = pd.to_datetime(afterwar['Date'])\n",
    "\n",
    "beforewar['Date'] = beforewar['Date'].dt.strftime('%m/%d')\n",
    "afterwar['Date'] = afterwar['Date'].dt.strftime('%m/%d')\n",
    "\n",
    "# 컬럼명 변경\n",
    "beforewar = beforewar.rename(columns={'Close':'produce(2020-2021)'})\n",
    "afterwar = afterwar.rename(columns={'Close':'produce(2021-2022)'})\n",
    "\n",
    "# 병합\n",
    "war_produce = pd.merge(beforewar, afterwar, how='inner', on='Date')\n",
    "war_produce[['Date', 'produce(2020-2021)', 'produce(2021-2022)']]\n",
    "\n",
    "# 시각화\n",
    "fig = px.line(war_produce, x='Date', y=[\"produce(2020-2021)\",\"produce(2021-2022)\"])\n",
    "fig.show()"
   ]
  },
  {
   "cell_type": "code",
   "execution_count": 199,
   "metadata": {},
   "outputs": [],
   "source": [
    "# 원유와 농산물 ETF 병합\n",
    "\n",
    "war_oil_produce = pd.merge(war_produce, war_oil, how='inner', on='Date')"
   ]
  }
 ],
 "metadata": {
  "interpreter": {
   "hash": "aee8b7b246df8f9039afb4144a1f6fd8d2ca17a180786b69acc140d282b71a49"
  },
  "kernelspec": {
   "display_name": "Python 3.10.2 64-bit",
   "language": "python",
   "name": "python3"
  },
  "language_info": {
   "codemirror_mode": {
    "name": "ipython",
    "version": 3
   },
   "file_extension": ".py",
   "mimetype": "text/x-python",
   "name": "python",
   "nbconvert_exporter": "python",
   "pygments_lexer": "ipython3",
   "version": "3.10.2"
  },
  "orig_nbformat": 4
 },
 "nbformat": 4,
 "nbformat_minor": 2
}
