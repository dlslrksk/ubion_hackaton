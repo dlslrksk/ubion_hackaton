{
 "cells": [
  {
   "cell_type": "code",
   "execution_count": 2,
   "metadata": {},
   "outputs": [],
   "source": [
    "# 회귀분석\n",
    "\n",
    "# 회귀는 여러 개의 독립변수와 한 개의 종속변수 간의 상관관계를 모델링하는 기법을 통칭\n",
    "# 머신러닝 회귀 예측의 핵심은 주어진 피처와 결정 값 데이터 기반에서 학습을 통해 최적의 회귀 계수를 찾아내는 것\n",
    "\n",
    "# 회귀는 회귀 계수의 선형/비선형 여부, 독립변수의 개수, 종속변수의 개수에 따라 여러 가지 유형으로 나눌 수 있음\n",
    "\n",
    "# 일반 선형 회귀 : 예측값과 실제값의 RSS를 최소화할 수 있도록 회귀계수를 최적화화며, 규제를 적용하지 않은 모델\n",
    "# 릿지 : 선형 회귀에 L2 규제 추가\n",
    "# 라쏘 : 선형 회귀에 L1 규제 적용\n",
    "# 엘라스틱넷 : L2, L1 규제를 결합한 모델"
   ]
  },
  {
   "cell_type": "code",
   "execution_count": 4,
   "metadata": {},
   "outputs": [],
   "source": [
    "# RSS\n",
    "\n",
    "# 오류 값의 제곱을 구해서 더하는 방식\n",
    "# 일반적으로 미분 등의 계산을 편리하게 하기 위해서 RSS 방식으로 오류 합을 구함\n",
    "\n",
    "# 회귀식의 독립변수X, 종속변수 Y가 중심 변수가 아니라 w변수(회귀 계수)가 중심 변수임을 인지\n",
    "\n",
    "# 비용함수, 손실함수\n",
    "# 비용최소화 >> 경사하강법\n",
    "\n",
    "# 다중공선성 문제"
   ]
  },
  {
   "cell_type": "code",
   "execution_count": null,
   "metadata": {},
   "outputs": [],
   "source": [
    "# 회귀평가\n",
    "\n",
    "# MAE : metrics.mean_absolute_error : 'neg_mean_absolute_error'\n",
    "# MSE : metrics.mean_squared_error : 'neg_mean_squared_error'\n",
    "# R제곱 : metrics.r2_socre : 'r2'"
   ]
  }
 ],
 "metadata": {
  "interpreter": {
   "hash": "aee8b7b246df8f9039afb4144a1f6fd8d2ca17a180786b69acc140d282b71a49"
  },
  "kernelspec": {
   "display_name": "Python 3.10.2 64-bit",
   "language": "python",
   "name": "python3"
  },
  "language_info": {
   "codemirror_mode": {
    "name": "ipython",
    "version": 3
   },
   "file_extension": ".py",
   "mimetype": "text/x-python",
   "name": "python",
   "nbconvert_exporter": "python",
   "pygments_lexer": "ipython3",
   "version": "3.10.2"
  },
  "orig_nbformat": 4
 },
 "nbformat": 4,
 "nbformat_minor": 2
}
