{
 "cells": [
  {
   "cell_type": "code",
   "execution_count": 2,
   "metadata": {},
   "outputs": [],
   "source": [
    "# 2022/04/22\n",
    "\n",
    "import FinanceDataReader as fdr\n",
    "import numpy as np\n",
    "import pandas as pd\n",
    "import pandas_datareader as pdr\n",
    "import matplotlib.pyplot as plt\n",
    "import plotly.express as px\n",
    "from sklearn.model_selection import train_test_split\n",
    "from sklearn.linear_model import LinearRegression\n",
    "from sklearn.metrics import mean_squared_error, r2_score\n",
    "from sklearn.model_selection import cross_val_score"
   ]
  },
  {
   "cell_type": "markdown",
   "metadata": {},
   "source": [
    "#### 뉴스 : 우크라이나 전쟁 + a(발칸반도, 911, 중동전쟁)\n",
    "\n",
    "#### .array.reshape(-1, 1)"
   ]
  },
  {
   "cell_type": "code",
   "execution_count": 17,
   "metadata": {},
   "outputs": [
    {
     "ename": "KeyError",
     "evalue": "'날짜'",
     "output_type": "error",
     "traceback": [
      "\u001b[0;31m---------------------------------------------------------------------------\u001b[0m",
      "\u001b[0;31mKeyError\u001b[0m                                  Traceback (most recent call last)",
      "\u001b[1;32m/Users/jeon-youseok/Desktop/ubion/ubion_hackaton/py/전처리.ipynb Cell 3'\u001b[0m in \u001b[0;36m<module>\u001b[0;34m\u001b[0m\n\u001b[1;32m      <a href='vscode-notebook-cell:/Users/jeon-youseok/Desktop/ubion/ubion_hackaton/py/%EC%A0%84%EC%B2%98%EB%A6%AC.ipynb#ch0000002?line=2'>3</a>\u001b[0m before_ITA \u001b[39m=\u001b[39m pd\u001b[39m.\u001b[39mread_csv(\u001b[39m'\u001b[39m\u001b[39m../csv/before_ITA.csv\u001b[39m\u001b[39m'\u001b[39m)\n\u001b[1;32m      <a href='vscode-notebook-cell:/Users/jeon-youseok/Desktop/ubion/ubion_hackaton/py/%EC%A0%84%EC%B2%98%EB%A6%AC.ipynb#ch0000002?line=4'>5</a>\u001b[0m \u001b[39m# 날짜 데이터 정렬\u001b[39;00m\n\u001b[0;32m----> <a href='vscode-notebook-cell:/Users/jeon-youseok/Desktop/ubion/ubion_hackaton/py/%EC%A0%84%EC%B2%98%EB%A6%AC.ipynb#ch0000002?line=5'>6</a>\u001b[0m after_ITA\u001b[39m.\u001b[39;49msort_values(\u001b[39m'\u001b[39;49m\u001b[39m날짜\u001b[39;49m\u001b[39m'\u001b[39;49m, ascending\u001b[39m=\u001b[39;49m\u001b[39mTrue\u001b[39;49;00m, inplace\u001b[39m=\u001b[39;49m\u001b[39mTrue\u001b[39;49;00m)\n\u001b[1;32m      <a href='vscode-notebook-cell:/Users/jeon-youseok/Desktop/ubion/ubion_hackaton/py/%EC%A0%84%EC%B2%98%EB%A6%AC.ipynb#ch0000002?line=6'>7</a>\u001b[0m before_ITA\u001b[39m.\u001b[39msort_values(\u001b[39m'\u001b[39m\u001b[39m날짜\u001b[39m\u001b[39m'\u001b[39m, ascending\u001b[39m=\u001b[39m\u001b[39mTrue\u001b[39;00m, inplace\u001b[39m=\u001b[39m\u001b[39mTrue\u001b[39;00m)\n\u001b[1;32m      <a href='vscode-notebook-cell:/Users/jeon-youseok/Desktop/ubion/ubion_hackaton/py/%EC%A0%84%EC%B2%98%EB%A6%AC.ipynb#ch0000002?line=8'>9</a>\u001b[0m \u001b[39m# 날짜 데이터 변환\u001b[39;00m\n",
      "File \u001b[0;32m/Library/Frameworks/Python.framework/Versions/3.10/lib/python3.10/site-packages/pandas/util/_decorators.py:311\u001b[0m, in \u001b[0;36mdeprecate_nonkeyword_arguments.<locals>.decorate.<locals>.wrapper\u001b[0;34m(*args, **kwargs)\u001b[0m\n\u001b[1;32m    <a href='file:///Library/Frameworks/Python.framework/Versions/3.10/lib/python3.10/site-packages/pandas/util/_decorators.py?line=304'>305</a>\u001b[0m \u001b[39mif\u001b[39;00m \u001b[39mlen\u001b[39m(args) \u001b[39m>\u001b[39m num_allow_args:\n\u001b[1;32m    <a href='file:///Library/Frameworks/Python.framework/Versions/3.10/lib/python3.10/site-packages/pandas/util/_decorators.py?line=305'>306</a>\u001b[0m     warnings\u001b[39m.\u001b[39mwarn(\n\u001b[1;32m    <a href='file:///Library/Frameworks/Python.framework/Versions/3.10/lib/python3.10/site-packages/pandas/util/_decorators.py?line=306'>307</a>\u001b[0m         msg\u001b[39m.\u001b[39mformat(arguments\u001b[39m=\u001b[39marguments),\n\u001b[1;32m    <a href='file:///Library/Frameworks/Python.framework/Versions/3.10/lib/python3.10/site-packages/pandas/util/_decorators.py?line=307'>308</a>\u001b[0m         \u001b[39mFutureWarning\u001b[39;00m,\n\u001b[1;32m    <a href='file:///Library/Frameworks/Python.framework/Versions/3.10/lib/python3.10/site-packages/pandas/util/_decorators.py?line=308'>309</a>\u001b[0m         stacklevel\u001b[39m=\u001b[39mstacklevel,\n\u001b[1;32m    <a href='file:///Library/Frameworks/Python.framework/Versions/3.10/lib/python3.10/site-packages/pandas/util/_decorators.py?line=309'>310</a>\u001b[0m     )\n\u001b[0;32m--> <a href='file:///Library/Frameworks/Python.framework/Versions/3.10/lib/python3.10/site-packages/pandas/util/_decorators.py?line=310'>311</a>\u001b[0m \u001b[39mreturn\u001b[39;00m func(\u001b[39m*\u001b[39;49margs, \u001b[39m*\u001b[39;49m\u001b[39m*\u001b[39;49mkwargs)\n",
      "File \u001b[0;32m/Library/Frameworks/Python.framework/Versions/3.10/lib/python3.10/site-packages/pandas/core/frame.py:6259\u001b[0m, in \u001b[0;36mDataFrame.sort_values\u001b[0;34m(self, by, axis, ascending, inplace, kind, na_position, ignore_index, key)\u001b[0m\n\u001b[1;32m   <a href='file:///Library/Frameworks/Python.framework/Versions/3.10/lib/python3.10/site-packages/pandas/core/frame.py?line=6255'>6256</a>\u001b[0m \u001b[39melif\u001b[39;00m \u001b[39mlen\u001b[39m(by):\n\u001b[1;32m   <a href='file:///Library/Frameworks/Python.framework/Versions/3.10/lib/python3.10/site-packages/pandas/core/frame.py?line=6257'>6258</a>\u001b[0m     by \u001b[39m=\u001b[39m by[\u001b[39m0\u001b[39m]\n\u001b[0;32m-> <a href='file:///Library/Frameworks/Python.framework/Versions/3.10/lib/python3.10/site-packages/pandas/core/frame.py?line=6258'>6259</a>\u001b[0m     k \u001b[39m=\u001b[39m \u001b[39mself\u001b[39;49m\u001b[39m.\u001b[39;49m_get_label_or_level_values(by, axis\u001b[39m=\u001b[39;49maxis)\n\u001b[1;32m   <a href='file:///Library/Frameworks/Python.framework/Versions/3.10/lib/python3.10/site-packages/pandas/core/frame.py?line=6260'>6261</a>\u001b[0m     \u001b[39m# need to rewrap column in Series to apply key function\u001b[39;00m\n\u001b[1;32m   <a href='file:///Library/Frameworks/Python.framework/Versions/3.10/lib/python3.10/site-packages/pandas/core/frame.py?line=6261'>6262</a>\u001b[0m     \u001b[39mif\u001b[39;00m key \u001b[39mis\u001b[39;00m \u001b[39mnot\u001b[39;00m \u001b[39mNone\u001b[39;00m:\n\u001b[1;32m   <a href='file:///Library/Frameworks/Python.framework/Versions/3.10/lib/python3.10/site-packages/pandas/core/frame.py?line=6262'>6263</a>\u001b[0m         \u001b[39m# error: Incompatible types in assignment (expression has type\u001b[39;00m\n\u001b[1;32m   <a href='file:///Library/Frameworks/Python.framework/Versions/3.10/lib/python3.10/site-packages/pandas/core/frame.py?line=6263'>6264</a>\u001b[0m         \u001b[39m# \"Series\", variable has type \"ndarray\")\u001b[39;00m\n",
      "File \u001b[0;32m/Library/Frameworks/Python.framework/Versions/3.10/lib/python3.10/site-packages/pandas/core/generic.py:1779\u001b[0m, in \u001b[0;36mNDFrame._get_label_or_level_values\u001b[0;34m(self, key, axis)\u001b[0m\n\u001b[1;32m   <a href='file:///Library/Frameworks/Python.framework/Versions/3.10/lib/python3.10/site-packages/pandas/core/generic.py?line=1776'>1777</a>\u001b[0m     values \u001b[39m=\u001b[39m \u001b[39mself\u001b[39m\u001b[39m.\u001b[39maxes[axis]\u001b[39m.\u001b[39mget_level_values(key)\u001b[39m.\u001b[39m_values\n\u001b[1;32m   <a href='file:///Library/Frameworks/Python.framework/Versions/3.10/lib/python3.10/site-packages/pandas/core/generic.py?line=1777'>1778</a>\u001b[0m \u001b[39melse\u001b[39;00m:\n\u001b[0;32m-> <a href='file:///Library/Frameworks/Python.framework/Versions/3.10/lib/python3.10/site-packages/pandas/core/generic.py?line=1778'>1779</a>\u001b[0m     \u001b[39mraise\u001b[39;00m \u001b[39mKeyError\u001b[39;00m(key)\n\u001b[1;32m   <a href='file:///Library/Frameworks/Python.framework/Versions/3.10/lib/python3.10/site-packages/pandas/core/generic.py?line=1780'>1781</a>\u001b[0m \u001b[39m# Check for duplicates\u001b[39;00m\n\u001b[1;32m   <a href='file:///Library/Frameworks/Python.framework/Versions/3.10/lib/python3.10/site-packages/pandas/core/generic.py?line=1781'>1782</a>\u001b[0m \u001b[39mif\u001b[39;00m values\u001b[39m.\u001b[39mndim \u001b[39m>\u001b[39m \u001b[39m1\u001b[39m:\n",
      "\u001b[0;31mKeyError\u001b[0m: '날짜'"
     ]
    }
   ],
   "source": [
    "# 원유 데이터 불러오기\n",
    "after_ITA = pd.read_csv('../csv/after_ITA.csv')\n",
    "before_ITA = pd.read_csv('../csv/before_ITA.csv')\n",
    "\n",
    "# 날짜 데이터 정렬\n",
    "after_ITA.sort_values('날짜', ascending=True, inplace=True)\n",
    "before_ITA.sort_values('날짜', ascending=True, inplace=True)\n",
    "\n",
    "# 날짜 데이터 변환\n",
    "after_ITA['날짜'] = after_ITA['날짜'].str.replace(\" \",\"\")\n",
    "after_ITA['날짜'] = after_ITA['날짜'].str.replace(\"년\",\"-\")\n",
    "after_ITA['날짜'] = after_ITA['날짜'].str.replace(\"월\",\"-\")\n",
    "after_ITA['날짜'] = after_ITA['날짜'].str.replace(\"일\",\"\")\n",
    "after_ITA['날짜'] = pd.to_datetime(after_ITA['날짜'])\n",
    "after_ITA['날짜'] = after_ITA['날짜'].dt.strftime('%y/%m/%d')\n",
    "\n",
    "before_ITA['날짜'] = before_ITA['날짜'].str.replace(\" \",\"\")\n",
    "before_ITA['날짜'] = before_ITA['날짜'].str.replace(\"년\",\"-\")\n",
    "before_ITA['날짜'] = before_ITA['날짜'].str.replace(\"월\",\"-\")\n",
    "before_ITA['날짜'] = before_ITA['날짜'].str.replace(\"일\",\"\")\n",
    "before_ITA['날짜'] = pd.to_datetime(before_ITA['날짜'])\n",
    "before_ITA['날짜'] = before_ITA['날짜'].dt.strftime('%y/%m/%d')\n",
    "\n",
    "# 컬럼명 변경\n",
    "after_ITA = after_ITA.rename(columns={'날짜':'Date', '종가':'ITA_Close'})\n",
    "before_ITA = before_ITA.rename(columns={'날짜':'Date', '종가':'ITA_Close'})\n",
    "\n",
    "after_ITA = after_ITA[['Date', 'ITA_Close']]\n",
    "before_ITA = before_ITA[['Date', 'ITA_Close']]\n",
    "\n",
    "after_ITA.to_csv('../csv/After_ITA.csv')\n",
    "before_ITA.to_csv('../csv/Before_ITA.csv')"
   ]
  },
  {
   "cell_type": "markdown",
   "metadata": {},
   "source": [
    "![war_oil_produce](https://user-images.githubusercontent.com/96412661/164569906-31e29fe9-4105-49c9-b86b-672b25791d0a.png)"
   ]
  }
 ],
 "metadata": {
  "interpreter": {
   "hash": "aee8b7b246df8f9039afb4144a1f6fd8d2ca17a180786b69acc140d282b71a49"
  },
  "kernelspec": {
   "display_name": "Python 3.10.2 64-bit",
   "language": "python",
   "name": "python3"
  },
  "language_info": {
   "codemirror_mode": {
    "name": "ipython",
    "version": 3
   },
   "file_extension": ".py",
   "mimetype": "text/x-python",
   "name": "python",
   "nbconvert_exporter": "python",
   "pygments_lexer": "ipython3",
   "version": "3.10.2"
  },
  "orig_nbformat": 4
 },
 "nbformat": 4,
 "nbformat_minor": 2
}
